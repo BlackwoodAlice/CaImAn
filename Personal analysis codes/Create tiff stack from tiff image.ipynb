{
 "cells": [
  {
   "cell_type": "markdown",
   "id": "889905c1-62af-4a0f-a7b1-0461604096c6",
   "metadata": {},
   "source": [
    "# Turn Tiff Image series into Tiff Image stack file\n",
    "\n",
    "This code was developed to turn frames from miniscope recordings into virtual stack TIFF files.\n",
    "\n",
    "It opens batches of 1000 frames at a time, ordered by the data modification time (<b> Do not change individual frames frames, otherwise code will not work! </b>).\n",
    "\n",
    "The code opens 1000 frames each time and saves it into a multiseries big tiff file. This is done to not overload the RAM memory of small RAM computers.\n",
    "The name of the file will be the name of the folder in which the frames are stored."
   ]
  },
  {
   "cell_type": "markdown",
   "id": "fe99b318-9d47-4362-ac92-6720c9b20b69",
   "metadata": {},
   "source": [
    "## Load packages\n",
    "\n",
    "This code relies on tifffile, os and numpy packages. The package time is used to show the time that the conversion is taking, so that users have an idea of the amount of time it will still take."
   ]
  },
  {
   "cell_type": "code",
   "execution_count": 1,
   "id": "c372e29f-b916-48fc-b609-9f340a724f9a",
   "metadata": {},
   "outputs": [
    {
     "name": "stderr",
     "output_type": "stream",
     "text": [
      "C:\\Users\\Gebruiker\\AppData\\Local\\Temp\\ipykernel_2128\\618434360.py:5: DeprecationWarning: `magic(...)` is deprecated since IPython 0.13 (warning added in 8.1), use run_line_magic(magic_name, parameter_s).\n",
      "  get_ipython().magic('load_ext autoreload')\n",
      "C:\\Users\\Gebruiker\\AppData\\Local\\Temp\\ipykernel_2128\\618434360.py:6: DeprecationWarning: `magic(...)` is deprecated since IPython 0.13 (warning added in 8.1), use run_line_magic(magic_name, parameter_s).\n",
      "  get_ipython().magic('autoreload 2')\n"
     ]
    }
   ],
   "source": [
    "import logging\n",
    "try:\n",
    "    if __IPYTHON__:\n",
    "        # this is used for debugging purposes only. allows to reload classes when changed\n",
    "        get_ipython().magic('load_ext autoreload')\n",
    "        get_ipython().magic('autoreload 2')\n",
    "except NameError:\n",
    "    pass\n",
    "\n",
    "logging.basicConfig(format=\n",
    "                          \"%(relativeCreated)12d [%(filename)s:%(funcName)20s():%(lineno)s] [%(process)d] %(message)s\",\n",
    "                    # filename=\"/tmp/caiman.log\",\n",
    "                    level=logging.INFO)\n",
    "\n",
    "import tifffile\n",
    "import os\n",
    "import numpy as np\n",
    "import time"
   ]
  },
  {
   "cell_type": "markdown",
   "id": "67e85f62-8c06-4454-8453-ceb58e763db8",
   "metadata": {},
   "source": [
    "### Open series of images and sort them by recording time\n",
    "\n",
    "The series of frame have to be saved in one folder only. Put the name of the directory in the dirpath variable (<b> Have into account to use '/' or '\\\\' instead of the normally pasted '/' between folders </b>).\n",
    "\n",
    "The file names are then sorted by last modified date to be stacked in the next step"
   ]
  },
  {
   "cell_type": "code",
   "execution_count": 13,
   "id": "981f812a-fa3a-4fd4-a5f5-defcaf99b8b8",
   "metadata": {},
   "outputs": [
    {
     "name": "stderr",
     "output_type": "stream",
     "text": [
      "    18583518 [3141525202.py:            <module>():9] [2128] Sorted 45000 in 348 seconds\n"
     ]
    }
   ],
   "source": [
    "dirpath = 'Z:/Calcium_Analysis/12937-06_S/12937-06AI_7DPI_S'\n",
    "\n",
    "t0 = time.time()\n",
    "\n",
    "files = os.listdir(dirpath)\n",
    "files = [os.path.join(dirpath, f) for f in files]\n",
    "files.sort(key=os.path.getctime)\n",
    "\n",
    "logging.info(\"Sorted \" + str(len(files)) + \" in \" + str(int(time.time() - t0)) + \" seconds\")"
   ]
  },
  {
   "cell_type": "markdown",
   "id": "be9086d0-079a-47bb-b8e9-8f5c9c33d7c5",
   "metadata": {},
   "source": [
    "### Open every frame. \n",
    "\n",
    "As said above, open stacks of 1000 frames and save them into a TIFF file with the name of the folder of all the frames"
   ]
  },
  {
   "cell_type": "code",
   "execution_count": 14,
   "id": "07489e6b-6415-43e8-abd2-892915aeb84d",
   "metadata": {},
   "outputs": [
    {
     "name": "stderr",
     "output_type": "stream",
     "text": [
      "    18583753 [1696955182.py:            <module>():5] [2128] Starting to convert frames from: Z:/Calcium_Analysis/12937-06_S/12937-06AI_7DPI_S into Z:/Calcium_Analysis/12937-06_S\\12937-06AI_7DPI_S.tif\n",
      "    18648824 [1696955182.py:            <module>():21] [2128] Saved 1000 of 45000 frames in 65 seconds.\n",
      "    18684020 [1696955182.py:            <module>():21] [2128] Saved 2000 of 45000 frames in 100 seconds.\n",
      "    18711421 [1696955182.py:            <module>():21] [2128] Saved 3000 of 45000 frames in 127 seconds.\n",
      "    18738727 [1696955182.py:            <module>():21] [2128] Saved 4000 of 45000 frames in 154 seconds.\n",
      "    18763760 [1696955182.py:            <module>():21] [2128] Saved 5000 of 45000 frames in 180 seconds.\n",
      "    18795132 [1696955182.py:            <module>():21] [2128] Saved 6000 of 45000 frames in 211 seconds.\n",
      "    18839273 [1696955182.py:            <module>():21] [2128] Saved 7000 of 45000 frames in 255 seconds.\n",
      "    18883555 [1696955182.py:            <module>():21] [2128] Saved 8000 of 45000 frames in 299 seconds.\n",
      "    18926446 [1696955182.py:            <module>():21] [2128] Saved 9000 of 45000 frames in 342 seconds.\n",
      "    18969685 [1696955182.py:            <module>():21] [2128] Saved 10000 of 45000 frames in 385 seconds.\n",
      "    19020089 [1696955182.py:            <module>():21] [2128] Saved 11000 of 45000 frames in 436 seconds.\n",
      "    19060979 [1696955182.py:            <module>():21] [2128] Saved 12000 of 45000 frames in 477 seconds.\n",
      "    19086919 [1696955182.py:            <module>():21] [2128] Saved 13000 of 45000 frames in 503 seconds.\n",
      "    19116522 [1696955182.py:            <module>():21] [2128] Saved 14000 of 45000 frames in 532 seconds.\n",
      "    19143945 [1696955182.py:            <module>():21] [2128] Saved 15000 of 45000 frames in 560 seconds.\n",
      "    19172175 [1696955182.py:            <module>():21] [2128] Saved 16000 of 45000 frames in 588 seconds.\n",
      "    19201925 [1696955182.py:            <module>():21] [2128] Saved 17000 of 45000 frames in 618 seconds.\n",
      "    19231694 [1696955182.py:            <module>():21] [2128] Saved 18000 of 45000 frames in 647 seconds.\n",
      "    19260234 [1696955182.py:            <module>():21] [2128] Saved 19000 of 45000 frames in 676 seconds.\n",
      "    19285222 [1696955182.py:            <module>():21] [2128] Saved 20000 of 45000 frames in 701 seconds.\n",
      "    19317504 [1696955182.py:            <module>():21] [2128] Saved 21000 of 45000 frames in 733 seconds.\n",
      "    19362885 [1696955182.py:            <module>():21] [2128] Saved 22000 of 45000 frames in 779 seconds.\n",
      "    19392461 [1696955182.py:            <module>():21] [2128] Saved 23000 of 45000 frames in 808 seconds.\n",
      "    19421566 [1696955182.py:            <module>():21] [2128] Saved 24000 of 45000 frames in 837 seconds.\n",
      "    19447470 [1696955182.py:            <module>():21] [2128] Saved 25000 of 45000 frames in 863 seconds.\n",
      "    19475069 [1696955182.py:            <module>():21] [2128] Saved 26000 of 45000 frames in 891 seconds.\n",
      "    19499135 [1696955182.py:            <module>():21] [2128] Saved 27000 of 45000 frames in 915 seconds.\n",
      "    19526926 [1696955182.py:            <module>():21] [2128] Saved 28000 of 45000 frames in 943 seconds.\n",
      "    19555663 [1696955182.py:            <module>():21] [2128] Saved 29000 of 45000 frames in 971 seconds.\n",
      "    19581853 [1696955182.py:            <module>():21] [2128] Saved 30000 of 45000 frames in 998 seconds.\n",
      "    19612428 [1696955182.py:            <module>():21] [2128] Saved 31000 of 45000 frames in 1028 seconds.\n",
      "    19641484 [1696955182.py:            <module>():21] [2128] Saved 32000 of 45000 frames in 1057 seconds.\n",
      "    19686234 [1696955182.py:            <module>():21] [2128] Saved 33000 of 45000 frames in 1102 seconds.\n",
      "    19720384 [1696955182.py:            <module>():21] [2128] Saved 34000 of 45000 frames in 1136 seconds.\n",
      "    19749336 [1696955182.py:            <module>():21] [2128] Saved 35000 of 45000 frames in 1165 seconds.\n",
      "    19778008 [1696955182.py:            <module>():21] [2128] Saved 36000 of 45000 frames in 1194 seconds.\n",
      "    19807049 [1696955182.py:            <module>():21] [2128] Saved 37000 of 45000 frames in 1223 seconds.\n",
      "    19836551 [1696955182.py:            <module>():21] [2128] Saved 38000 of 45000 frames in 1252 seconds.\n",
      "    19866029 [1696955182.py:            <module>():21] [2128] Saved 39000 of 45000 frames in 1282 seconds.\n",
      "    19895929 [1696955182.py:            <module>():21] [2128] Saved 40000 of 45000 frames in 1312 seconds.\n",
      "    19926826 [1696955182.py:            <module>():21] [2128] Saved 41000 of 45000 frames in 1343 seconds.\n",
      "    19956806 [1696955182.py:            <module>():21] [2128] Saved 42000 of 45000 frames in 1373 seconds.\n",
      "    19991331 [1696955182.py:            <module>():21] [2128] Saved 43000 of 45000 frames in 1407 seconds.\n",
      "    20019755 [1696955182.py:            <module>():21] [2128] Saved 44000 of 45000 frames in 1435 seconds.\n",
      "    20048350 [1696955182.py:            <module>():21] [2128] Saved 45000 of 45000 frames in 1464 seconds.\n",
      "    20048364 [1696955182.py:            <module>():26] [2128] Saved all frames in 1464 seconds.\n"
     ]
    }
   ],
   "source": [
    "saveFilename = os.path.join(os.path.dirname(dirpath),os.path.basename(dirpath)+'.tif')           # Name of image stack to save\n",
    "n=0                                # Counter of number of frames before saving (until 1000)\n",
    "nbits = np.uint8                   # Precision in which to save frames. Ninscope/Miniscope data is 8 bit.\n",
    "\n",
    "logging.info(\"Starting to convert frames from: \"+ dirpath + \" into \" + saveFilename)\n",
    "t0 = time.time()\n",
    "for i in range(0, len(files)):\n",
    "    \n",
    "    frame = tifffile.TiffFile(files[i]).asarray()        # Open frame\n",
    "    if i == 0:\n",
    "        images = np.zeros((1000,frame.shape[0], frame.shape[1]))     # Initialize variable to store opened frames\n",
    "    images[n] = frame\n",
    "    \n",
    "    if n == 999:\n",
    "        if i== 999:\n",
    "            append = False\n",
    "        else:\n",
    "            append = True\n",
    "            \n",
    "        tifffile.imwrite(saveFilename, images.astype(nbits), append = append, bigtiff = True)\n",
    "        logging.info (\"Saved \" + str(i+1) + \" of \" + str(len(files)) + \" frames in \" + str(int(time.time()-t0)) + \" seconds.\")\n",
    "        n=0\n",
    "    else:\n",
    "        n +=1\n",
    "        \n",
    "logging.info (\"Saved all frames in \" + str(int(time.time()-t0)) + \" seconds.\")\n",
    "    "
   ]
  },
  {
   "cell_type": "code",
   "execution_count": null,
   "id": "cc19df0f-a183-481a-98f5-38f740c10775",
   "metadata": {},
   "outputs": [],
   "source": []
  }
 ],
 "metadata": {
  "kernelspec": {
   "display_name": "Python 3 (ipykernel)",
   "language": "python",
   "name": "python3"
  },
  "language_info": {
   "codemirror_mode": {
    "name": "ipython",
    "version": 3
   },
   "file_extension": ".py",
   "mimetype": "text/x-python",
   "name": "python",
   "nbconvert_exporter": "python",
   "pygments_lexer": "ipython3",
   "version": "3.10.8"
  }
 },
 "nbformat": 4,
 "nbformat_minor": 5
}
