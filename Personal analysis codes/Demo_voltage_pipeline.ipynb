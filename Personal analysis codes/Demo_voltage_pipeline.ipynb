{
 "cells": [
  {
   "cell_type": "markdown",
   "id": "24146b8d-7eb9-4275-a5e9-281c6d1dadfb",
   "metadata": {},
   "source": [
    "## Example of online analysis using Volpy\n",
    "\n",
    "Complete pipeline for online processing using Volpy.\n",
    "The demo demonstates the analysis of a sequence of files using the CaImAn online\n",
    "algorithm. The steps include i) motion correction, ii) Neuronal segmentation by MaskR-CNN, iii) Volpy.\n",
    "\n",
    "# Open libraries"
   ]
  },
  {
   "cell_type": "code",
   "execution_count": 3,
   "id": "d09662ee-4486-4615-8f5b-3726a987e3d1",
   "metadata": {},
   "outputs": [
    {
     "name": "stderr",
     "output_type": "stream",
     "text": [
      "C:\\Users\\Gebruiker\\AppData\\Local\\Temp\\ipykernel_20292\\1149004873.py:5: DeprecationWarning: `magic(...)` is deprecated since IPython 0.13 (warning added in 8.1), use run_line_magic(magic_name, parameter_s).\n",
      "  get_ipython().magic('load_ext autoreload')\n"
     ]
    },
    {
     "name": "stdout",
     "output_type": "stream",
     "text": [
      "The autoreload extension is already loaded. To reload it, use:\n",
      "  %reload_ext autoreload\n"
     ]
    },
    {
     "name": "stderr",
     "output_type": "stream",
     "text": [
      "C:\\Users\\Gebruiker\\AppData\\Local\\Temp\\ipykernel_20292\\1149004873.py:6: DeprecationWarning: `magic(...)` is deprecated since IPython 0.13 (warning added in 8.1), use run_line_magic(magic_name, parameter_s).\n",
      "  get_ipython().magic('autoreload 2')\n"
     ]
    }
   ],
   "source": [
    "import logging\n",
    "try:\n",
    "    if __IPYTHON__:\n",
    "        # this is used for debugging purposes only. allows to reload classes when changed\n",
    "        get_ipython().magic('load_ext autoreload')\n",
    "        get_ipython().magic('autoreload 2')\n",
    "except NameError:\n",
    "    pass\n",
    "\n",
    "logging.basicConfig(format=\n",
    "                          \"%(relativeCreated)12d [%(filename)s:%(funcName)20s():%(lineno)s] [%(process)d] %(message)s\",\n",
    "                    # filename=\"/tmp/caiman.log\",\n",
    "                    level=logging.INFO)\n",
    "\n",
    "import numpy as np\n",
    "import tifffile\n",
    "import os\n",
    "import h5py\n",
    "\n",
    "import caiman as cm\n",
    "import mesmerize_core as mescore\n",
    "from caiman.source_extraction import cnmf, volpy\n",
    "from caiman.source_extraction.volpy.volparams import volparams\n",
    "from caiman.source_extraction.volpy.volpy import VOLPY\n",
    "from caiman.source_extraction.volpy import pre_processing, utils\n",
    "from caiman.summary_images import local_correlations_movie_offline\n",
    "#from caiman.utils.utils import download_demo, download_model\n",
    "import matplotlib.pyplot as plt\n",
    "\n",
    "\n",
    "from fastplotlib import ImageWidget\n",
    "from ipywidgets import VBox, IntSlider, Layout"
   ]
  },
  {
   "cell_type": "markdown",
   "id": "3e4f8dd0-bfb6-4f4e-a834-699642db11da",
   "metadata": {},
   "source": [
    "# First import data and set parameters for motion_correction\n",
    "\n",
    "Complete pipeline for online processing using Volpy, but with motion correction and CNMF/CNMF_E separate instead of done simultaneously.\n",
    "\n",
    "This allows to visualize if motion correction was well performed prior to start Volpy."
   ]
  },
  {
   "cell_type": "code",
   "execution_count": 21,
   "id": "5350ea0f-2b52-409b-ac79-d037f0d9919d",
   "metadata": {},
   "outputs": [],
   "source": [
    "#Set data as a list\n",
    "fnames = [\"Z:/Data for optimizing Volpy/Positive dye/pAceR_500Hz_30mW_-2512+222-104_4x4binning_1/pAceR_500Hz_30mW_-2512+222-104_4x4binning_1_MMStack_Default.ome.tif\",\n",
    "         \"Z:/Data for optimizing Volpy/Positive dye/pAceR_500Hz_30mW_-2512+222-104_5/pAceR_500Hz_30mW_-2512+222-104_5_MMStack_Default.ome.tif\",\n",
    "         \"Z:/Data for optimizing Volpy/Positive dye/pAceR_500Hz_30mW_-2512+222-104_6/pAceR_500Hz_30mW_-2512+222-104_6_MMStack_Default.ome.tif\",\n",
    "         \"Z:/Data for optimizing Volpy/Positive dye/pAceR_500Hz_30mW_-2512+222-104_7/pAceR_500Hz_30mW_-2512+222-104_7_MMStack_Default.ome.tif\",\n",
    "         \"Z:/Data for optimizing Volpy/Positive dye/pAceR_500Hz_30mW_-2512+222-104_8/pAceR_500Hz_30mW_-2512+222-104_8_MMStack_Default.ome.tif\",\n",
    "         \"Z:/Data for optimizing Volpy/Positive dye/pAceR_500Hz_30mW_-2512+222-104_9/pAceR_500Hz_30mW_-2512+222-104_9_MMStack_Default.ome.tif\"]\n",
    "\n",
    "if isinstance(fnames,str):\n",
    "    fnames = [fnames]\n",
    "\n",
    "for i in range(0,len(fnames)):\n",
    "    if os.path.exists(fnames[i]) == False:\n",
    "        logging.warning('File '+ str(i+1) + ': '+fnames[i] + ' does not exits! Please correct the filename.')"
   ]
  },
  {
   "cell_type": "code",
   "execution_count": 27,
   "id": "24c554e9-9062-4e08-802b-df33f19298e8",
   "metadata": {},
   "outputs": [
    {
     "name": "stderr",
     "output_type": "stream",
     "text": [
      "     3439922 [params.py:                 set():976] [20292] Changing key fnames in group data from None to Z:/Data for optimizing Volpy/Positive dye/pAceR_500Hz_30mW_-2512+222-104_4x4binning_1/pAceR_500Hz_30mW_-2512+222-104_4x4binning_1_MMStack_Default.ome.tif\n",
      "     3439924 [params.py:                 set():976] [20292] Changing key max_shifts_online in group online from 10 to 20\n",
      "     3439927 [params.py:                 set():976] [20292] Changing key init_batch in group online from 200 to 500\n",
      "     3439929 [params.py:                 set():976] [20292] Changing key gSig_filt in group motion from None to (13, 13)\n",
      "     3439932 [params.py:                 set():976] [20292] Changing key overlaps in group motion from (32, 32) to (24, 24)\n",
      "     3439934 [params.py:                 set():976] [20292] Changing key max_deviation_rigid in group motion from 3 to 5\n",
      "     3443174 [params.py:                 set():976] [20292] Changing key fnames in group data from None to Z:/Data for optimizing Volpy/Positive dye/pAceR_500Hz_30mW_-2512+222-104_4x4binning_1/pAceR_500Hz_30mW_-2512+222-104_4x4binning_1_MMStack_Default.ome.tif\n",
      "     3443176 [params.py:                 set():976] [20292] Changing key max_shifts_online in group online from 10 to 20\n",
      "     3443178 [params.py:                 set():976] [20292] Changing key init_batch in group online from 200 to 500\n",
      "     3443180 [params.py:                 set():976] [20292] Changing key gSig_filt in group motion from None to (13, 13)\n",
      "     3443182 [params.py:                 set():976] [20292] Changing key overlaps in group motion from (32, 32) to (24, 24)\n",
      "     3443183 [params.py:                 set():976] [20292] Changing key max_deviation_rigid in group motion from 3 to 5\n"
     ]
    }
   ],
   "source": [
    "if isinstance(fnames,str):\n",
    "    fnames = [fnames]\n",
    "    ##############################################################################################################\n",
    "#Set parameters\n",
    "fr = 500                            # frame rate\n",
    "gSig_filt = (13,13)                 #Gaussian filter size. It should normally be half the neuron size. Set it to none for 2-photon\n",
    "pw_rigid = False                    #True if piece-wise motion correction should be used\n",
    "strides = (96, 96)                  #Patch sizes in pixels.\n",
    "overlaps = (24, 24)                 #Overlap between patches in pixels. This value normally does not have to be very high.\n",
    "max_shifts_online = 20              #Maximum rigid shifts\n",
    "max_deviation_rigid = 5            #Maximum deviation in pixels between rigid shifts and shifts of individual patches\n",
    "border_nan = 'copy'                 #flag for allowing NaN in the boundaries. True allows NaN, whereas 'copy' copies the \n",
    "                                            #value of the nearest data point.\n",
    "shifts_opencv = True                #flag for applying shifts using cubic interpolation (otherwise FFT)\n",
    "init_batch = 500                    #initial batch \n",
    "ds_factor = 1                       #Spatial binning factor. Have in account that if spatial binning is used, all values above are unaltered.\n",
    "normalize = False                   #Whether to normalize each frame prior to online processing. Set it to False for 2 photon\n",
    "\n",
    "params_dict = {'fnames': fnames[0],\n",
    "               'gSig_filt': gSig_filt,\n",
    "               'pw_rigid': pw_rigid,\n",
    "               'strides': strides,\n",
    "               'overlaps': overlaps,\n",
    "               'max_shifts_online': max_shifts_online,\n",
    "               'max_deviation_rigid': max_deviation_rigid,\n",
    "               'border_nan': border_nan,\n",
    "               'shifts_opencv': shifts_opencv,\n",
    "               'init_batch': init_batch,\n",
    "               'ds_factor': ds_factor,\n",
    "               'normalize': normalize}\n",
    "opts = cnmf.params.CNMFParams(params_dict=params_dict)\n",
    "\n",
    "nbits = np.float16                          #Number of bits in which to save final images as tiff files.\n",
    "init_template = None                #If an initial template can be provided, this should be where to set this variable into \n",
    "                                           #the template 2D numpy array.\n",
    "    \n",
    "#Set parameters\n",
    "opts = cnmf.params.CNMFParams(params_dict=params_dict)\n",
    "cnm = cnmf.online_cnmf.OnACID(params=opts)  "
   ]
  },
  {
   "cell_type": "markdown",
   "id": "60bf4031-a172-4079-823c-a94c575951e8",
   "metadata": {},
   "source": [
    "# Motion correction"
   ]
  },
  {
   "cell_type": "code",
   "execution_count": 28,
   "id": "49a4db06-7e32-4813-ad83-68e8f645bad3",
   "metadata": {},
   "outputs": [
    {
     "name": "stderr",
     "output_type": "stream",
     "text": [
      "     3446067 [online_cnmf.py:motion_correction_online():944] [20292] Analyzing Z:/Data for optimizing Volpy/Positive dye/pAceR_500Hz_30mW_-2512+222-104_4x4binning_1/pAceR_500Hz_30mW_-2512+222-104_4x4binning_1_MMStack_Default.ome.tif\n",
      "     3447047 [movies.py:      extract_shifts():344] [20292] Movie average is negative. Removing 1st percentile.\n",
      "     3447055 [movies.py:      extract_shifts():362] [20292] Movie average is negative. Removing 1st percentile.\n",
      "     3447428 [movies.py:      extract_shifts():344] [20292] Movie average is negative. Removing 1st percentile.\n",
      "     3447432 [movies.py:      extract_shifts():362] [20292] Movie average is negative. Removing 1st percentile.\n",
      "     3447679 [movies.py:      extract_shifts():344] [20292] Movie average is negative. Removing 1st percentile.\n",
      "     3447689 [movies.py:      extract_shifts():362] [20292] Movie average is negative. Removing 1st percentile.\n",
      "     3448273 [online_cnmf.py:motion_correction_online():971] [20292] Initial template initialized in 2 seconds\n",
      "     3448475 [online_cnmf.py:motion_correction_online():1005] [20292] Start processing all frames\n",
      "     3451945 [online_cnmf.py:motion_correction_online():1076] [20292] Processed and saved 500 frames in 3 seconds\n",
      "     3453048 [online_cnmf.py:motion_correction_online():1076] [20292] Processed and saved 1000 frames in 4 seconds\n",
      "     3453960 [online_cnmf.py:motion_correction_online():1076] [20292] Processed and saved 1500 frames in 5 seconds\n",
      "     3455239 [online_cnmf.py:motion_correction_online():1076] [20292] Processed and saved 2000 frames in 6 seconds\n",
      "     3456440 [online_cnmf.py:motion_correction_online():1076] [20292] Processed and saved 2500 frames in 7 seconds\n",
      "     3457302 [online_cnmf.py:motion_correction_online():1076] [20292] Processed and saved 3000 frames in 8 seconds\n",
      "     3458072 [online_cnmf.py:motion_correction_online():1076] [20292] Processed and saved 3500 frames in 9 seconds\n",
      "     3458980 [online_cnmf.py:motion_correction_online():1076] [20292] Processed and saved 4000 frames in 10 seconds\n",
      "     3460199 [online_cnmf.py:motion_correction_online():1076] [20292] Processed and saved 4500 frames in 11 seconds\n",
      "     3461823 [online_cnmf.py:motion_correction_online():1076] [20292] Processed and saved 5000 frames in 13 seconds\n",
      "     3461842 [params.py:                 set():976] [20292] Changing key fnames in group data from ['Z:/Data for optimizing Volpy/Positive dye/pAceR_500Hz_30mW_-2512+222-104_4x4binning_1/pAceR_500Hz_30mW_-2512+222-104_4x4binning_1_MMStack_Default.ome.tif'] to ['Z:/Data for optimizing Volpy/Positive dye/pAceR_500Hz_30mW_-2512+222-104_5/pAceR_500Hz_30mW_-2512+222-104_5_MMStack_Default.ome.tif']\n",
      "     3464611 [online_cnmf.py:motion_correction_online():944] [20292] Analyzing Z:/Data for optimizing Volpy/Positive dye/pAceR_500Hz_30mW_-2512+222-104_5/pAceR_500Hz_30mW_-2512+222-104_5_MMStack_Default.ome.tif\n",
      "     3469694 [movies.py:      extract_shifts():344] [20292] Movie average is negative. Removing 1st percentile.\n",
      "     3469727 [movies.py:      extract_shifts():362] [20292] Movie average is negative. Removing 1st percentile.\n",
      "     3472091 [movies.py:      extract_shifts():344] [20292] Movie average is negative. Removing 1st percentile.\n",
      "     3472124 [movies.py:      extract_shifts():362] [20292] Movie average is negative. Removing 1st percentile.\n",
      "     3474007 [movies.py:      extract_shifts():344] [20292] Movie average is negative. Removing 1st percentile.\n",
      "     3474051 [movies.py:      extract_shifts():362] [20292] Movie average is negative. Removing 1st percentile.\n",
      "     3475990 [online_cnmf.py:motion_correction_online():971] [20292] Initial template initialized in 11 seconds\n",
      "     3478924 [online_cnmf.py:motion_correction_online():1005] [20292] Start processing all frames\n",
      "     3494069 [online_cnmf.py:motion_correction_online():1076] [20292] Processed and saved 500 frames in 15 seconds\n",
      "     3501679 [online_cnmf.py:motion_correction_online():1076] [20292] Processed and saved 1000 frames in 22 seconds\n",
      "     3509727 [online_cnmf.py:motion_correction_online():1076] [20292] Processed and saved 1500 frames in 30 seconds\n",
      "     3517501 [online_cnmf.py:motion_correction_online():1076] [20292] Processed and saved 2000 frames in 38 seconds\n",
      "     3526851 [online_cnmf.py:motion_correction_online():1076] [20292] Processed and saved 2500 frames in 47 seconds\n",
      "     3535876 [online_cnmf.py:motion_correction_online():1076] [20292] Processed and saved 3000 frames in 56 seconds\n",
      "     3545110 [online_cnmf.py:motion_correction_online():1076] [20292] Processed and saved 3500 frames in 66 seconds\n",
      "     3554090 [online_cnmf.py:motion_correction_online():1076] [20292] Processed and saved 4000 frames in 75 seconds\n",
      "     3562337 [online_cnmf.py:motion_correction_online():1076] [20292] Processed and saved 4500 frames in 83 seconds\n",
      "     3570468 [online_cnmf.py:motion_correction_online():1076] [20292] Processed and saved 5000 frames in 91 seconds\n",
      "     3570504 [params.py:                 set():976] [20292] Changing key fnames in group data from ['Z:/Data for optimizing Volpy/Positive dye/pAceR_500Hz_30mW_-2512+222-104_5/pAceR_500Hz_30mW_-2512+222-104_5_MMStack_Default.ome.tif'] to ['Z:/Data for optimizing Volpy/Positive dye/pAceR_500Hz_30mW_-2512+222-104_6/pAceR_500Hz_30mW_-2512+222-104_6_MMStack_Default.ome.tif']\n",
      "     3573240 [online_cnmf.py:motion_correction_online():944] [20292] Analyzing Z:/Data for optimizing Volpy/Positive dye/pAceR_500Hz_30mW_-2512+222-104_6/pAceR_500Hz_30mW_-2512+222-104_6_MMStack_Default.ome.tif\n",
      "     3578963 [movies.py:      extract_shifts():344] [20292] Movie average is negative. Removing 1st percentile.\n",
      "     3579003 [movies.py:      extract_shifts():362] [20292] Movie average is negative. Removing 1st percentile.\n",
      "     3581536 [movies.py:      extract_shifts():344] [20292] Movie average is negative. Removing 1st percentile.\n",
      "     3581578 [movies.py:      extract_shifts():362] [20292] Movie average is negative. Removing 1st percentile.\n",
      "     3583673 [movies.py:      extract_shifts():344] [20292] Movie average is negative. Removing 1st percentile.\n",
      "     3583703 [movies.py:      extract_shifts():362] [20292] Movie average is negative. Removing 1st percentile.\n",
      "     3585434 [online_cnmf.py:motion_correction_online():971] [20292] Initial template initialized in 12 seconds\n",
      "     3587658 [online_cnmf.py:motion_correction_online():1005] [20292] Start processing all frames\n",
      "     3601622 [online_cnmf.py:motion_correction_online():1076] [20292] Processed and saved 500 frames in 13 seconds\n",
      "     3612188 [online_cnmf.py:motion_correction_online():1076] [20292] Processed and saved 1000 frames in 24 seconds\n",
      "     3622052 [online_cnmf.py:motion_correction_online():1076] [20292] Processed and saved 1500 frames in 34 seconds\n",
      "     3633513 [online_cnmf.py:motion_correction_online():1076] [20292] Processed and saved 2000 frames in 45 seconds\n",
      "     3643963 [online_cnmf.py:motion_correction_online():1076] [20292] Processed and saved 2500 frames in 56 seconds\n",
      "     3653535 [online_cnmf.py:motion_correction_online():1076] [20292] Processed and saved 3000 frames in 65 seconds\n",
      "     3662022 [online_cnmf.py:motion_correction_online():1076] [20292] Processed and saved 3500 frames in 74 seconds\n",
      "     3670415 [online_cnmf.py:motion_correction_online():1076] [20292] Processed and saved 4000 frames in 82 seconds\n",
      "     3678360 [online_cnmf.py:motion_correction_online():1076] [20292] Processed and saved 4500 frames in 90 seconds\n",
      "     3685970 [online_cnmf.py:motion_correction_online():1076] [20292] Processed and saved 5000 frames in 98 seconds\n",
      "     3686005 [params.py:                 set():976] [20292] Changing key fnames in group data from ['Z:/Data for optimizing Volpy/Positive dye/pAceR_500Hz_30mW_-2512+222-104_6/pAceR_500Hz_30mW_-2512+222-104_6_MMStack_Default.ome.tif'] to ['Z:/Data for optimizing Volpy/Positive dye/pAceR_500Hz_30mW_-2512+222-104_7/pAceR_500Hz_30mW_-2512+222-104_7_MMStack_Default.ome.tif']\n",
      "     3688572 [online_cnmf.py:motion_correction_online():944] [20292] Analyzing Z:/Data for optimizing Volpy/Positive dye/pAceR_500Hz_30mW_-2512+222-104_7/pAceR_500Hz_30mW_-2512+222-104_7_MMStack_Default.ome.tif\n",
      "     3689868 [movies.py:      extract_shifts():344] [20292] Movie average is negative. Removing 1st percentile.\n",
      "     3689885 [movies.py:      extract_shifts():362] [20292] Movie average is negative. Removing 1st percentile.\n",
      "     3690512 [movies.py:      extract_shifts():344] [20292] Movie average is negative. Removing 1st percentile.\n",
      "     3690521 [movies.py:      extract_shifts():362] [20292] Movie average is negative. Removing 1st percentile.\n",
      "     3691017 [movies.py:      extract_shifts():344] [20292] Movie average is negative. Removing 1st percentile.\n",
      "     3691026 [movies.py:      extract_shifts():362] [20292] Movie average is negative. Removing 1st percentile.\n",
      "     3691587 [online_cnmf.py:motion_correction_online():971] [20292] Initial template initialized in 3 seconds\n",
      "     3691924 [online_cnmf.py:motion_correction_online():1005] [20292] Start processing all frames\n",
      "     3697619 [online_cnmf.py:motion_correction_online():1076] [20292] Processed and saved 500 frames in 5 seconds\n",
      "     3699359 [online_cnmf.py:motion_correction_online():1076] [20292] Processed and saved 1000 frames in 7 seconds\n",
      "     3701829 [online_cnmf.py:motion_correction_online():1076] [20292] Processed and saved 1500 frames in 9 seconds\n",
      "     3704069 [online_cnmf.py:motion_correction_online():1076] [20292] Processed and saved 2000 frames in 12 seconds\n",
      "     3706845 [online_cnmf.py:motion_correction_online():1076] [20292] Processed and saved 2500 frames in 14 seconds\n",
      "     3709042 [online_cnmf.py:motion_correction_online():1076] [20292] Processed and saved 3000 frames in 17 seconds\n",
      "     3711263 [online_cnmf.py:motion_correction_online():1076] [20292] Processed and saved 3500 frames in 19 seconds\n",
      "     3713769 [online_cnmf.py:motion_correction_online():1076] [20292] Processed and saved 4000 frames in 21 seconds\n",
      "     3715727 [online_cnmf.py:motion_correction_online():1076] [20292] Processed and saved 4500 frames in 23 seconds\n",
      "     3718302 [online_cnmf.py:motion_correction_online():1076] [20292] Processed and saved 5000 frames in 26 seconds\n",
      "     3718317 [params.py:                 set():976] [20292] Changing key fnames in group data from ['Z:/Data for optimizing Volpy/Positive dye/pAceR_500Hz_30mW_-2512+222-104_7/pAceR_500Hz_30mW_-2512+222-104_7_MMStack_Default.ome.tif'] to ['Z:/Data for optimizing Volpy/Positive dye/pAceR_500Hz_30mW_-2512+222-104_8/pAceR_500Hz_30mW_-2512+222-104_8_MMStack_Default.ome.tif']\n",
      "     3720924 [online_cnmf.py:motion_correction_online():944] [20292] Analyzing Z:/Data for optimizing Volpy/Positive dye/pAceR_500Hz_30mW_-2512+222-104_8/pAceR_500Hz_30mW_-2512+222-104_8_MMStack_Default.ome.tif\n",
      "     3722141 [movies.py:      extract_shifts():344] [20292] Movie average is negative. Removing 1st percentile.\n",
      "     3722149 [movies.py:      extract_shifts():362] [20292] Movie average is negative. Removing 1st percentile.\n",
      "     3722614 [movies.py:      extract_shifts():344] [20292] Movie average is negative. Removing 1st percentile.\n",
      "     3722623 [movies.py:      extract_shifts():362] [20292] Movie average is negative. Removing 1st percentile.\n",
      "     3723221 [movies.py:      extract_shifts():344] [20292] Movie average is negative. Removing 1st percentile.\n",
      "     3723228 [movies.py:      extract_shifts():362] [20292] Movie average is negative. Removing 1st percentile.\n",
      "     3723716 [online_cnmf.py:motion_correction_online():971] [20292] Initial template initialized in 2 seconds\n",
      "     3724059 [online_cnmf.py:motion_correction_online():1005] [20292] Start processing all frames\n",
      "     3729895 [online_cnmf.py:motion_correction_online():1076] [20292] Processed and saved 500 frames in 5 seconds\n",
      "     3731516 [online_cnmf.py:motion_correction_online():1076] [20292] Processed and saved 1000 frames in 7 seconds\n",
      "     3733151 [online_cnmf.py:motion_correction_online():1076] [20292] Processed and saved 1500 frames in 9 seconds\n",
      "     3735160 [online_cnmf.py:motion_correction_online():1076] [20292] Processed and saved 2000 frames in 11 seconds\n",
      "     3736867 [online_cnmf.py:motion_correction_online():1076] [20292] Processed and saved 2500 frames in 12 seconds\n",
      "     3738707 [online_cnmf.py:motion_correction_online():1076] [20292] Processed and saved 3000 frames in 14 seconds\n",
      "     3740935 [online_cnmf.py:motion_correction_online():1076] [20292] Processed and saved 3500 frames in 16 seconds\n",
      "     3742882 [online_cnmf.py:motion_correction_online():1076] [20292] Processed and saved 4000 frames in 18 seconds\n",
      "     3744909 [online_cnmf.py:motion_correction_online():1076] [20292] Processed and saved 4500 frames in 20 seconds\n",
      "     3746623 [online_cnmf.py:motion_correction_online():1076] [20292] Processed and saved 5000 frames in 22 seconds\n",
      "     3746646 [params.py:                 set():976] [20292] Changing key fnames in group data from ['Z:/Data for optimizing Volpy/Positive dye/pAceR_500Hz_30mW_-2512+222-104_8/pAceR_500Hz_30mW_-2512+222-104_8_MMStack_Default.ome.tif'] to ['Z:/Data for optimizing Volpy/Positive dye/pAceR_500Hz_30mW_-2512+222-104_9/pAceR_500Hz_30mW_-2512+222-104_9_MMStack_Default.ome.tif']\n",
      "     3749310 [online_cnmf.py:motion_correction_online():944] [20292] Analyzing Z:/Data for optimizing Volpy/Positive dye/pAceR_500Hz_30mW_-2512+222-104_9/pAceR_500Hz_30mW_-2512+222-104_9_MMStack_Default.ome.tif\n",
      "     3749991 [movies.py:      extract_shifts():344] [20292] Movie average is negative. Removing 1st percentile.\n",
      "     3749993 [movies.py:      extract_shifts():362] [20292] Movie average is negative. Removing 1st percentile.\n",
      "     3750143 [movies.py:      extract_shifts():344] [20292] Movie average is negative. Removing 1st percentile.\n",
      "     3750146 [movies.py:      extract_shifts():362] [20292] Movie average is negative. Removing 1st percentile.\n",
      "     3750319 [movies.py:      extract_shifts():344] [20292] Movie average is negative. Removing 1st percentile.\n",
      "     3750323 [movies.py:      extract_shifts():362] [20292] Movie average is negative. Removing 1st percentile.\n",
      "     3750530 [online_cnmf.py:motion_correction_online():971] [20292] Initial template initialized in 1 seconds\n",
      "     3750633 [online_cnmf.py:motion_correction_online():1005] [20292] Start processing all frames\n",
      "     3752779 [online_cnmf.py:motion_correction_online():1076] [20292] Processed and saved 500 frames in 2 seconds\n",
      "     3753426 [online_cnmf.py:motion_correction_online():1076] [20292] Processed and saved 1000 frames in 2 seconds\n",
      "     3754360 [online_cnmf.py:motion_correction_online():1076] [20292] Processed and saved 1500 frames in 3 seconds\n",
      "     3754967 [online_cnmf.py:motion_correction_online():1076] [20292] Processed and saved 2000 frames in 4 seconds\n",
      "     3755701 [online_cnmf.py:motion_correction_online():1076] [20292] Processed and saved 2500 frames in 5 seconds\n",
      "     3756410 [online_cnmf.py:motion_correction_online():1076] [20292] Processed and saved 3000 frames in 5 seconds\n",
      "     3757273 [online_cnmf.py:motion_correction_online():1076] [20292] Processed and saved 3500 frames in 6 seconds\n",
      "     3758034 [online_cnmf.py:motion_correction_online():1076] [20292] Processed and saved 4000 frames in 7 seconds\n",
      "     3758812 [online_cnmf.py:motion_correction_online():1076] [20292] Processed and saved 4500 frames in 8 seconds\n",
      "     3759561 [online_cnmf.py:motion_correction_online():1076] [20292] Processed and saved 5000 frames in 8 seconds\n"
     ]
    }
   ],
   "source": [
    "reuse_template = False\n",
    "#save_dir = \"Z:/Data for optimizing Volpy/Negative dye\"\n",
    "save_dir=None\n",
    "MCfnames = fnames.copy()\n",
    "\n",
    "for i in range(0,len(fnames)):\n",
    "    cnm.params.set('data',{'fnames':[fnames[i]]})\n",
    "    cnm.motion_correction_online(template = init_template, save_movie=True,nbits=nbits, save_dir = save_dir)\n",
    "\n",
    "    if save_dir is None:\n",
    "        MCfnames[i] = os.path.join(os.path.dirname(fnames[i]),'MC Results', os.path.basename(fnames[i]).split('.')[0]+str('_MC.tif'))\n",
    "    else:\n",
    "        MCfnames[i] = os.path.join(save_dir, os.path.basename(fnames[i]).split('.')[0]+str('_MC.tif'))\n",
    "    \n",
    "    if reuse_template:\n",
    "        init_template = cm.load(os.path.join(os.path.dirname(MCfnames[i]), 'MC_results', 'MC_templates.tif'))[-1]"
   ]
  },
  {
   "cell_type": "markdown",
   "id": "20bed4f4-bf53-477d-9729-a3cdbb6d02c3",
   "metadata": {},
   "source": [
    "# Plot x and y shifts and the motion_corrected movies"
   ]
  },
  {
   "cell_type": "code",
   "execution_count": 29,
   "id": "d4d63484-cc0d-4f18-acd4-bdaf2cea5a30",
   "metadata": {},
   "outputs": [
    {
     "data": {
      "text/plain": [
       "[Text(0.5, 1.0, 'Y shifts'),\n",
       " Text(0.5, 0, 'Frames'),\n",
       " Text(0, 0.5, 'Pixel shift')]"
      ]
     },
     "execution_count": 29,
     "metadata": {},
     "output_type": "execute_result"
    },
    {
     "data": {
      "image/png": "[encoded data removed]",
      "text/plain": [
       "<Figure size 640x480 with 2 Axes>"
      ]
     },
     "metadata": {},
     "output_type": "display_data"
    }
   ],
   "source": [
    "T = len(cnm.estimates.shifts) #Calculated shifts\n",
    "    \n",
    "#Get x and y shifts\n",
    "shifts = cnm.estimates.shifts[-T:]\n",
    "if (pw_rigid is True):\n",
    "    y_shifts = [[sx[1] for sx in sh] for sh in shifts]\n",
    "    x_shifts = [[sx[0] for sx in sh] for sh in shifts]\n",
    "\n",
    "else:\n",
    "    y_shifts = [sh[1] for sh in shifts]\n",
    "    x_shifts = [sh[0] for sh in shifts]\n",
    "    \n",
    "fig, (ax1, ax2) = plt.subplots(1, 2)\n",
    "ax1.plot(x_shifts)\n",
    "ax1.set(title = 'X shifts', xlabel = 'Frames', ylabel = 'Pixel shift')\n",
    "ax2.plot(y_shifts)\n",
    "ax2.set(title = 'Y shifts', xlabel = 'Frames', ylabel = 'Pixel shift')"
   ]
  },
  {
   "cell_type": "code",
   "execution_count": null,
   "id": "e282b51d-9857-4ffd-9450-5fec3264a6e5",
   "metadata": {},
   "outputs": [],
   "source": [
    "# Open movies to verify if motion correction went well \n",
    "\n",
    "input_movie = mescore.movie_readers.default_reader(fnames[0])\n",
    "MC_movie = mescore.movie_readers.default_reader(MCfnames[0])"
   ]
  },
  {
   "cell_type": "code",
   "execution_count": null,
   "id": "2a153ceb-d951-4157-a920-e060d8269ab4",
   "metadata": {},
   "outputs": [],
   "source": [
    "mcorr_iw = ImageWidget(\n",
    "    data=[input_movie, MC_movie], \n",
    "    vmin_vmax_sliders=True, \n",
    "    cmap=\"gray\"\n",
    ")\n",
    "mcorr_iw.show()"
   ]
  },
  {
   "cell_type": "markdown",
   "id": "3ad9bbf5-f805-42ea-83c2-dba25a782041",
   "metadata": {},
   "source": [
    "# Background removal"
   ]
  },
  {
   "cell_type": "code",
   "execution_count": 30,
   "id": "f4c6bab2-9c1e-407c-8c88-aedf32cc9a2f",
   "metadata": {},
   "outputs": [
    {
     "name": "stderr",
     "output_type": "stream",
     "text": [
      "     3884309 [pre_processing.py:voltage_preprocessing():131] [20292] Background removal of  Z:/Data for optimizing Volpy/Positive dye/pAceR_500Hz_30mW_-2512+222-104_4x4binning_1\\MC Results\\pAceR_500Hz_30mW_-2512+222-104_4x4binning_1_MMStack_Default_MC.tif\n",
      "  0%|                                                                                            | 0/1 [00:00<?, ?it/s]     3884485 [movies.py:                load():1605] [20292] Your tif file is multiseries. Performance may be affected.\n",
      "100%|████████████████████████████████████████████████████████████████████████████████████| 1/1 [00:04<00:00,  4.01s/it]\n",
      "     3888494 [pre_processing.py:voltage_preprocessing():155] [20292] Spline background removal done\n",
      "     3888844 [pre_processing.py:voltage_preprocessing():162] [20292] Median detrending done\n",
      "     3889297 [pre_processing.py:voltage_preprocessing():131] [20292] Background removal of  Z:/Data for optimizing Volpy/Positive dye/pAceR_500Hz_30mW_-2512+222-104_5\\MC Results\\pAceR_500Hz_30mW_-2512+222-104_5_MMStack_Default_MC.tif\n",
      "  0%|                                                                                            | 0/1 [00:00<?, ?it/s]     3889470 [movies.py:                load():1605] [20292] Your tif file is multiseries. Performance may be affected.\n",
      "100%|████████████████████████████████████████████████████████████████████████████████████| 1/1 [00:13<00:00, 13.66s/it]\n",
      "     3904356 [pre_processing.py:voltage_preprocessing():155] [20292] Spline background removal done\n",
      "     3910232 [pre_processing.py:voltage_preprocessing():162] [20292] Median detrending done\n",
      "     3917435 [pre_processing.py:voltage_preprocessing():131] [20292] Background removal of  Z:/Data for optimizing Volpy/Positive dye/pAceR_500Hz_30mW_-2512+222-104_6\\MC Results\\pAceR_500Hz_30mW_-2512+222-104_6_MMStack_Default_MC.tif\n",
      "  0%|                                                                                            | 0/1 [00:00<?, ?it/s]     3917958 [movies.py:                load():1605] [20292] Your tif file is multiseries. Performance may be affected.\n",
      "100%|████████████████████████████████████████████████████████████████████████████████████| 1/1 [00:14<00:00, 14.40s/it]\n",
      "     3933274 [pre_processing.py:voltage_preprocessing():155] [20292] Spline background removal done\n",
      "     3938481 [pre_processing.py:voltage_preprocessing():162] [20292] Median detrending done\n",
      "     3945217 [pre_processing.py:voltage_preprocessing():131] [20292] Background removal of  Z:/Data for optimizing Volpy/Positive dye/pAceR_500Hz_30mW_-2512+222-104_7\\MC Results\\pAceR_500Hz_30mW_-2512+222-104_7_MMStack_Default_MC.tif\n",
      "  0%|                                                                                            | 0/1 [00:00<?, ?it/s]     3945392 [movies.py:                load():1605] [20292] Your tif file is multiseries. Performance may be affected.\n",
      "100%|████████████████████████████████████████████████████████████████████████████████████| 1/1 [00:05<00:00,  5.91s/it]\n",
      "     3951439 [pre_processing.py:voltage_preprocessing():155] [20292] Spline background removal done\n",
      "     3952882 [pre_processing.py:voltage_preprocessing():162] [20292] Median detrending done\n",
      "     3954577 [pre_processing.py:voltage_preprocessing():131] [20292] Background removal of  Z:/Data for optimizing Volpy/Positive dye/pAceR_500Hz_30mW_-2512+222-104_8\\MC Results\\pAceR_500Hz_30mW_-2512+222-104_8_MMStack_Default_MC.tif\n",
      "  0%|                                                                                            | 0/1 [00:00<?, ?it/s]     3954726 [movies.py:                load():1605] [20292] Your tif file is multiseries. Performance may be affected.\n",
      "100%|████████████████████████████████████████████████████████████████████████████████████| 1/1 [00:05<00:00,  5.91s/it]\n",
      "     3960751 [pre_processing.py:voltage_preprocessing():155] [20292] Spline background removal done\n",
      "     3962537 [pre_processing.py:voltage_preprocessing():162] [20292] Median detrending done\n",
      "     3964535 [pre_processing.py:voltage_preprocessing():131] [20292] Background removal of  Z:/Data for optimizing Volpy/Positive dye/pAceR_500Hz_30mW_-2512+222-104_9\\MC Results\\pAceR_500Hz_30mW_-2512+222-104_9_MMStack_Default_MC.tif\n",
      "  0%|                                                                                            | 0/1 [00:00<?, ?it/s]     3964815 [movies.py:                load():1605] [20292] Your tif file is multiseries. Performance may be affected.\n",
      "100%|████████████████████████████████████████████████████████████████████████████████████| 1/1 [00:03<00:00,  3.56s/it]\n",
      "     3968295 [pre_processing.py:voltage_preprocessing():155] [20292] Spline background removal done\n",
      "     3968625 [pre_processing.py:voltage_preprocessing():162] [20292] Median detrending done\n"
     ]
    }
   ],
   "source": [
    "Denoisedfnames = MCfnames.copy()\n",
    "\n",
    "for i in range(0,len(MCfnames)):\n",
    "    Denoisedfnames[i] = volpy.pre_processing.voltage_preprocessing(Denoisedfnames[i])"
   ]
  },
  {
   "cell_type": "markdown",
   "id": "9059644d-0e3e-4cf1-a30c-d2b51982864b",
   "metadata": {},
   "source": [
    "## Get Neurons"
   ]
  },
  {
   "cell_type": "markdown",
   "id": "de513280-7213-4ada-9369-c59590199154",
   "metadata": {
    "jp-MarkdownHeadingCollapsed": true,
    "tags": []
   },
   "source": [
    "### Select ROIs through the volpy GUI"
   ]
  },
  {
   "cell_type": "code",
   "execution_count": 31,
   "id": "ecb600b4-d833-422b-9a0e-118abb4d4e20",
   "metadata": {},
   "outputs": [
    {
     "name": "stdout",
     "output_type": "stream",
     "text": [
      "tree changes:\n",
      "<ActionParameter 'LOAD DATA' at 0x1feb4a21ea0>\n",
      "activated\n",
      "None\n",
      "tree changes:\n",
      "<ActionParameter 'ADD' at 0x1feb4a22200>\n",
      "activated\n",
      "None\n",
      "Saving\n",
      "Z:/Data for optimizing Volpy/Negative dye/ROIs_7mW.hdf5\n"
     ]
    },
    {
     "name": "stderr",
     "output_type": "stream",
     "text": [
      "     4200328 [timeseries.py:                save():288] [20292] No file saved\n"
     ]
    },
    {
     "name": "stdout",
     "output_type": "stream",
     "text": [
      "tree changes:\n",
      "<ActionParameter 'SAVE' at 0x1feb4a220e0>\n",
      "activated\n",
      "None\n",
      "tree changes:\n",
      "<ActionParameter 'LOAD DATA' at 0x1feb4a21ea0>\n",
      "activated\n",
      "None\n",
      "tree changes:\n",
      "<ActionParameter 'CLEAR' at 0x1feb4a22560>\n",
      "activated\n",
      "None\n",
      "tree changes:\n",
      "<ActionParameter 'REMOVE' at 0x1feb4a22320>\n",
      "activated\n",
      "None\n",
      "tree changes:\n",
      "<ActionParameter 'CLEAR' at 0x1feb4a22560>\n",
      "activated\n",
      "None\n",
      "tree changes:\n",
      "<ActionParameter 'ADD' at 0x1feb4a22200>\n",
      "activated\n",
      "None\n",
      "tree changes:\n",
      "<ActionParameter 'REMOVE' at 0x1feb4a22320>\n",
      "activated\n",
      "None\n",
      "tree changes:\n",
      "<ActionParameter 'ADD' at 0x1feb4a22200>\n",
      "activated\n",
      "None\n",
      "Saving\n",
      "Z:/Data for optimizing Volpy/Negative dye/ROIs_15mW_1.hdf5\n"
     ]
    },
    {
     "name": "stderr",
     "output_type": "stream",
     "text": [
      "     4248207 [timeseries.py:                save():288] [20292] No file saved\n"
     ]
    },
    {
     "name": "stdout",
     "output_type": "stream",
     "text": [
      "tree changes:\n",
      "<ActionParameter 'SAVE' at 0x1feb4a220e0>\n",
      "activated\n",
      "None\n",
      "tree changes:\n",
      "<ActionParameter 'LOAD DATA' at 0x1feb4a21ea0>\n",
      "activated\n",
      "None\n",
      "Saving\n",
      "Z:/Data for optimizing Volpy/Negative dye/ROIs_15mW_2.hdf5\n"
     ]
    },
    {
     "name": "stderr",
     "output_type": "stream",
     "text": [
      "     4271078 [timeseries.py:                save():288] [20292] No file saved\n"
     ]
    },
    {
     "name": "stdout",
     "output_type": "stream",
     "text": [
      "tree changes:\n",
      "<ActionParameter 'SAVE' at 0x1feb4a220e0>\n",
      "activated\n",
      "None\n",
      "tree changes:\n",
      "<ActionParameter 'LOAD DATA' at 0x1feb4a21ea0>\n",
      "activated\n",
      "None\n",
      "tree changes:\n",
      "<ActionParameter 'REMOVE' at 0x1feb4a22320>\n",
      "activated\n",
      "None\n",
      "tree changes:\n",
      "<ActionParameter 'ADD' at 0x1feb4a22200>\n",
      "activated\n",
      "None\n",
      "Saving\n",
      "Z:/Data for optimizing Volpy/Negative dye/ROIs_30mW_1.hdf5\n"
     ]
    },
    {
     "name": "stderr",
     "output_type": "stream",
     "text": [
      "     4295108 [timeseries.py:                save():288] [20292] No file saved\n"
     ]
    },
    {
     "name": "stdout",
     "output_type": "stream",
     "text": [
      "tree changes:\n",
      "<ActionParameter 'SAVE' at 0x1feb4a220e0>\n",
      "activated\n",
      "None\n",
      "tree changes:\n",
      "<ActionParameter 'LOAD DATA' at 0x1feb4a21ea0>\n",
      "activated\n",
      "None\n",
      "tree changes:\n",
      "<ActionParameter 'REMOVE' at 0x1feb4a22320>\n",
      "activated\n",
      "None\n",
      "tree changes:\n",
      "<ActionParameter 'ADD' at 0x1feb4a22200>\n",
      "activated\n",
      "None\n",
      "Saving\n",
      "Z:/Data for optimizing Volpy/Negative dye/ROIs_30mW_2.hdf5\n"
     ]
    },
    {
     "name": "stderr",
     "output_type": "stream",
     "text": [
      "     4320431 [timeseries.py:                save():288] [20292] No file saved\n"
     ]
    },
    {
     "name": "stdout",
     "output_type": "stream",
     "text": [
      "tree changes:\n",
      "<ActionParameter 'SAVE' at 0x1feb4a220e0>\n",
      "activated\n",
      "None\n",
      "tree changes:\n",
      "<ActionParameter 'LOAD DATA' at 0x1feb4a21ea0>\n",
      "activated\n",
      "None\n",
      "tree changes:\n",
      "<ActionParameter 'REMOVE' at 0x1feb4a22320>\n",
      "activated\n",
      "None\n",
      "tree changes:\n",
      "<ActionParameter 'ADD' at 0x1feb4a22200>\n",
      "activated\n",
      "None\n",
      "Saving\n",
      "Z:/Data for optimizing Volpy/Negative dye/ROIs_15mW_1000Hz.hdf5\n"
     ]
    },
    {
     "name": "stderr",
     "output_type": "stream",
     "text": [
      "     4349503 [timeseries.py:                save():288] [20292] No file saved\n"
     ]
    },
    {
     "name": "stdout",
     "output_type": "stream",
     "text": [
      "tree changes:\n",
      "<ActionParameter 'SAVE' at 0x1feb4a220e0>\n",
      "activated\n",
      "None\n",
      "tree changes:\n",
      "<ActionParameter 'LOAD DATA' at 0x1feb4a21ea0>\n",
      "activated\n",
      "None\n",
      "tree changes:\n",
      "<ActionParameter 'REMOVE' at 0x1feb4a22320>\n",
      "activated\n",
      "None\n",
      "tree changes:\n",
      "<ActionParameter 'ADD' at 0x1feb4a22200>\n",
      "activated\n",
      "None\n",
      "Saving\n",
      "Z:/Data for optimizing Volpy/Positive dye/ROIs_1x1binning_1.hdf5\n"
     ]
    },
    {
     "name": "stderr",
     "output_type": "stream",
     "text": [
      "     4384816 [timeseries.py:                save():288] [20292] No file saved\n"
     ]
    },
    {
     "name": "stdout",
     "output_type": "stream",
     "text": [
      "tree changes:\n",
      "<ActionParameter 'SAVE' at 0x1feb4a220e0>\n",
      "activated\n",
      "None\n",
      "tree changes:\n",
      "<ActionParameter 'LOAD DATA' at 0x1feb4a21ea0>\n",
      "activated\n",
      "None\n",
      "tree changes:\n",
      "<ActionParameter 'REMOVE' at 0x1feb4a22320>\n",
      "activated\n",
      "None\n",
      "tree changes:\n",
      "<ActionParameter 'ADD' at 0x1feb4a22200>\n",
      "activated\n",
      "None\n",
      "Saving\n",
      "Z:/Data for optimizing Volpy/Positive dye/ROIs_1x1binning_2.hdf5\n"
     ]
    },
    {
     "name": "stderr",
     "output_type": "stream",
     "text": [
      "     4407978 [timeseries.py:                save():288] [20292] No file saved\n"
     ]
    },
    {
     "name": "stdout",
     "output_type": "stream",
     "text": [
      "tree changes:\n",
      "<ActionParameter 'SAVE' at 0x1feb4a220e0>\n",
      "activated\n",
      "None\n",
      "tree changes:\n",
      "<ActionParameter 'LOAD DATA' at 0x1feb4a21ea0>\n",
      "activated\n",
      "None\n",
      "tree changes:\n",
      "<ActionParameter 'REMOVE' at 0x1feb4a22320>\n",
      "activated\n",
      "None\n",
      "tree changes:\n",
      "<ActionParameter 'ADD' at 0x1feb4a22200>\n",
      "activated\n",
      "None\n",
      "Saving\n",
      "Z:/Data for optimizing Volpy/Positive dye/ROIs_2x2binning_1.hdf5\n"
     ]
    },
    {
     "name": "stderr",
     "output_type": "stream",
     "text": [
      "     4428050 [timeseries.py:                save():288] [20292] No file saved\n"
     ]
    },
    {
     "name": "stdout",
     "output_type": "stream",
     "text": [
      "tree changes:\n",
      "<ActionParameter 'SAVE' at 0x1feb4a220e0>\n",
      "activated\n",
      "None\n",
      "tree changes:\n",
      "<ActionParameter 'LOAD DATA' at 0x1feb4a21ea0>\n",
      "activated\n",
      "None\n",
      "tree changes:\n",
      "<ActionParameter 'REMOVE' at 0x1feb4a22320>\n",
      "activated\n",
      "None\n",
      "tree changes:\n",
      "<ActionParameter 'ADD' at 0x1feb4a22200>\n",
      "activated\n",
      "None\n",
      "Saving\n",
      "Z:/Data for optimizing Volpy/Positive dye/ROIs_2x2binning_2.hdf5\n"
     ]
    },
    {
     "name": "stderr",
     "output_type": "stream",
     "text": [
      "     4451783 [timeseries.py:                save():288] [20292] No file saved\n"
     ]
    },
    {
     "name": "stdout",
     "output_type": "stream",
     "text": [
      "tree changes:\n",
      "<ActionParameter 'SAVE' at 0x1feb4a220e0>\n",
      "activated\n",
      "None\n",
      "tree changes:\n",
      "<ActionParameter 'LOAD DATA' at 0x1feb4a21ea0>\n",
      "activated\n",
      "None\n",
      "tree changes:\n",
      "<ActionParameter 'REMOVE' at 0x1feb4a22320>\n",
      "activated\n",
      "None\n",
      "tree changes:\n",
      "<ActionParameter 'ADD' at 0x1feb4a22200>\n",
      "activated\n",
      "None\n",
      "Saving\n",
      "Z:/Data for optimizing Volpy/Positive dye/ROIs_4x4binning_1.hdf5\n"
     ]
    },
    {
     "name": "stderr",
     "output_type": "stream",
     "text": [
      "     4470113 [timeseries.py:                save():288] [20292] No file saved\n"
     ]
    },
    {
     "name": "stdout",
     "output_type": "stream",
     "text": [
      "tree changes:\n",
      "<ActionParameter 'SAVE' at 0x1feb4a220e0>\n",
      "activated\n",
      "None\n",
      "tree changes:\n",
      "<ActionParameter 'LOAD DATA' at 0x1feb4a21ea0>\n",
      "activated\n",
      "None\n",
      "tree changes:\n",
      "<ActionParameter 'REMOVE' at 0x1feb4a22320>\n",
      "activated\n",
      "None\n",
      "tree changes:\n",
      "<ActionParameter 'ADD' at 0x1feb4a22200>\n",
      "activated\n",
      "None\n",
      "Saving\n",
      "Z:/Data for optimizing Volpy/Positive dye/ROIs_4x4binning_2.hdf5\n"
     ]
    },
    {
     "name": "stderr",
     "output_type": "stream",
     "text": [
      "     4485741 [timeseries.py:                save():288] [20292] No file saved\n"
     ]
    },
    {
     "name": "stdout",
     "output_type": "stream",
     "text": [
      "tree changes:\n",
      "<ActionParameter 'SAVE' at 0x1feb4a220e0>\n",
      "activated\n",
      "None\n"
     ]
    }
   ],
   "source": [
    "%run C:/Users/Gebruiker/mambaforge/envs/caimanRui/Lib/site-packages/caiman/source_extraction/volpy/volpy_gui"
   ]
  },
  {
   "cell_type": "markdown",
   "id": "43fb0df5-0cc3-43ee-8a1e-8a7d7f7c08b3",
   "metadata": {
    "jp-MarkdownHeadingCollapsed": true,
    "tags": []
   },
   "source": [
    "## Set parameters for VOLPY"
   ]
  },
  {
   "cell_type": "code",
   "execution_count": null,
   "id": "a263e12d-9462-4e68-b3f1-fef6cdc8f696",
   "metadata": {},
   "outputs": [],
   "source": [
    "# create summary images\n",
    "save = True\n",
    "\n",
    "for i in range(0,len(Denoisedfnames)): \n",
    "    \n",
    "    gui_ROIs = os.path.join(os.path.dirname(Denoisedfnames[i]), 'ROIs.hdf5')\n",
    "    with h5py.File(gui_ROIs, 'r') as fl:\n",
    "        ROIs = fl['mov'][()]\n",
    "          \n",
    "    ROIs = ROIs                                   # region of interests\n",
    "    index = list(range(len(ROIs)))                # index of neurons\n",
    "    weights = None                                # if None, use ROIs for initialization; to reuse weights check reuse weights block \n",
    "\n",
    "    template_size = 0.02                          # half size of the window length for spike templates, default is 20 ms \n",
    "    context_size = 70                             # number of pixels surrounding the ROI to censor from the background PCA\n",
    "    visualize_ROI = True                         # whether to visualize the region of interest inside the context region\n",
    "    flip_signal = True                            # Important!! Flip signal or not, True for Voltron indicator, False for others\n",
    "    hp_freq_pb = 1 / 3                            # parameter for high-pass filter to remove photobleaching\n",
    "    clip = 100                                    # maximum number of spikes to form spike template\n",
    "    threshold_method = 'adaptive_threshold'       # adaptive_threshold or simple \n",
    "    min_spikes= 10                                # minimal spikes to be found\n",
    "    pnorm = 0.5                                   # a variable deciding the amount of spikes chosen for adaptive threshold method\n",
    "    threshold = 3                                 # threshold for finding spikes only used in simple threshold method, Increase the threshold to find less spikes\n",
    "    do_plot = True                               # plot detail of spikes, template for the last iteration\n",
    "    ridge_bg= 0.01                                # ridge regression regularizer strength for background removement, larger value specifies stronger regularization \n",
    "    sub_freq = 10                                 # frequency for subthreshold extraction\n",
    "    weight_update = 'ridge'                       # ridge or NMF for weight update\n",
    "    n_iter = 2                                    # number of iterations alternating between estimating spike times and spatial filters\n",
    "    nPC_bg = 8                                    # number of principal components from the background to remove from trace\n",
    "    \n",
    "    opts_dict={'fnames': Denoisedfnames[i],\n",
    "               'fr': fr,\n",
    "               'ROIs': ROIs,\n",
    "               'index': index,\n",
    "               'weights': weights,\n",
    "               'template_size': template_size, \n",
    "               'context_size': context_size,\n",
    "               'visualize_ROI': visualize_ROI, \n",
    "               'flip_signal': flip_signal,\n",
    "               'hp_freq_pb': hp_freq_pb,\n",
    "               'clip': clip,\n",
    "               'threshold_method': threshold_method,\n",
    "               'min_spikes':min_spikes,\n",
    "               'pnorm': pnorm, \n",
    "               'threshold': threshold,\n",
    "               'do_plot':do_plot,\n",
    "               'ridge_bg':ridge_bg,\n",
    "               'sub_freq': sub_freq,\n",
    "               'weight_update': weight_update,\n",
    "               'n_iter': n_iter,\n",
    "               'nPC_bg': nPC_bg}\n",
    "\n",
    "    opts = volparams(params_dict=opts_dict)\n",
    "                                                \n",
    "    vpy = VOLPY(n_processes=1, dview=None, params=opts)\n",
    "    vpy.fit(n_processes=1, dview=None)\n",
    "    \n",
    "    # Show final output\n",
    "    img = np.mean(cm.load(Denoisedfnames[i], subindices = slice(0,500,1)),0)\n",
    "    #bwexp = dilation(ROIs[i], np.ones([vpy.params.volspike.get('context_size'),\n",
    "    #                     vpy.params.volspike.get('context_size')]), shift_x=True, shift_y=True)\n",
    "    Xinds = np.where(np.any(ROIs[0] > 0, axis=1) > 0)[0]\n",
    "    Yinds = np.where(np.any(ROIs[0] > 0, axis=0) > 0)[0]\n",
    "    img = img[Xinds[0]:Xinds[-1] + 1, Yinds[0]:Yinds[-1] + 1]\n",
    "    \n",
    "    utils.view_components(vpy.estimates, img,[int(0)])\n",
    "    \n",
    "    if save == True:\n",
    "        np.save(os.path.join(os.path.dirname(Denoisedfnames[i]), 'Neurons_traces'), vpy.estimates)\n"
   ]
  },
  {
   "cell_type": "code",
   "execution_count": null,
   "id": "433aafa8-2892-400c-94a5-6781470fc394",
   "metadata": {},
   "outputs": [],
   "source": [
    "3#\n",
    "#vpy = np.load(os.path.join(os.path.dirname(Denoisedfnames[0]), 'Neurons_traces.npy'), allow_pickle=True)\n",
    "\n",
    "#print(vpy.estimates.get('ts'))\n",
    "#print(vpy)\n",
    "#plt.plot(vpy.estimates.get('ts')[0])\n",
    "#plt.plot(vpy.estimates.get('t_rec')[0])\n",
    "#plt.plot(vpy.estimates.get('t_sub')[0])"
   ]
  },
  {
   "cell_type": "code",
   "execution_count": null,
   "id": "43f21f1d-2c17-482c-a980-6e3cf8645370",
   "metadata": {},
   "outputs": [],
   "source": []
  }
 ],
 "metadata": {
  "kernelspec": {
   "display_name": "Python 3 (ipykernel)",
   "language": "python",
   "name": "python3"
  },
  "language_info": {
   "codemirror_mode": {
    "name": "ipython",
    "version": 3
   },
   "file_extension": ".py",
   "mimetype": "text/x-python",
   "name": "python",
   "nbconvert_exporter": "python",
   "pygments_lexer": "ipython3",
   "version": "3.10.8"
  }
 },
 "nbformat": 4,
 "nbformat_minor": 5
}
