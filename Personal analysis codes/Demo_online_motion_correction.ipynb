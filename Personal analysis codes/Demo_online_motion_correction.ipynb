{
 "cells": [
  {
   "cell_type": "markdown",
   "id": "08d32866",
   "metadata": {},
   "source": [
    "# Motion correction online\n",
    "\n",
    "This notebook uses the code for motion correction online based on the motion corretion code from Online CNMF (OnAcid) from Caiman and from the original motion correction code from NoRMCorr.\n",
    "\n",
    "If first opens the required packages for running the code, then sets the files to perform motion correction on and sets the required parameters for performing motion correction."
   ]
  },
  {
   "cell_type": "code",
   "execution_count": 22,
   "id": "13ae8270",
   "metadata": {},
   "outputs": [
    {
     "name": "stderr",
     "output_type": "stream",
     "text": [
      "C:\\Users\\Gebruiker\\AppData\\Local\\Temp\\ipykernel_24984\\2272691973.py:5: DeprecationWarning: `magic(...)` is deprecated since IPython 0.13 (warning added in 8.1), use run_line_magic(magic_name, parameter_s).\n",
      "  get_ipython().magic('load_ext autoreload')\n",
      "C:\\Users\\Gebruiker\\AppData\\Local\\Temp\\ipykernel_24984\\2272691973.py:6: DeprecationWarning: `magic(...)` is deprecated since IPython 0.13 (warning added in 8.1), use run_line_magic(magic_name, parameter_s).\n",
      "  get_ipython().magic('autoreload 2')\n"
     ]
    },
    {
     "name": "stdout",
     "output_type": "stream",
     "text": [
      "The autoreload extension is already loaded. To reload it, use:\n",
      "  %reload_ext autoreload\n"
     ]
    }
   ],
   "source": [
    "import logging\n",
    "try:\n",
    "    if __IPYTHON__:\n",
    "        # this is used for debugging purposes only. allows to reload classes when changed\n",
    "        get_ipython().magic('load_ext autoreload')\n",
    "        get_ipython().magic('autoreload 2')\n",
    "except NameError:\n",
    "    pass\n",
    "\n",
    "logging.basicConfig(format=\n",
    "                          \"%(relativeCreated)12d [%(filename)s:%(funcName)20s():%(lineno)s] [%(process)d] %(message)s\",\n",
    "                    # filename=\"/tmp/caiman.log\",\n",
    "                    level=logging.INFO)\n",
    "\n",
    "import numpy as np\n",
    "import os\n",
    "import caiman as cm\n",
    "import mesmerize_core as mescore\n",
    "from caiman.source_extraction import cnmf\n",
    "import matplotlib.pyplot as plt\n",
    "\n",
    "from fastplotlib import ImageWidget, Plot, GridPlot\n",
    "from fastplotlib.graphics.line_slider import LineSlider\n",
    "from ipywidgets import VBox, IntSlider, Layout"
   ]
  },
  {
   "cell_type": "markdown",
   "id": "83088b23",
   "metadata": {},
   "source": [
    "## Set data\n",
    "\n",
    "Data can be set in a loop but should be set as a list and not as a string. \n",
    "Otherwise the code will turn them into a list.\n",
    "\n",
    "Using '/' instead of '\\\\' allows to pass this code among operative systems"
   ]
  },
  {
   "cell_type": "code",
   "execution_count": 5,
   "id": "14f86ff3",
   "metadata": {},
   "outputs": [],
   "source": [
    "fnames = [\"Z:/Calcium_Analysis/12937-06_S/12937-06AI_2DPI_S.tif\",\n",
    "         \"Z:/Calcium_Analysis/12937-06_S/12937-06AI_3DPI_S.tif\",\n",
    "         \"Z:/Calcium_Analysis/12937-06_S/12937-06AI_4DPI_S.tif\",\n",
    "         \"Z:/Calcium_Analysis/12937-06_S/12937-06AI_6DPI_S.tif\",\n",
    "         \"Z:/Calcium_Analysis/12937-06_S/12937-06AI_7DPI_S.tif\",\n",
    "         \"Z:/Calcium_Analysis/12937-06_S/12937-06AI_8DPI_S.tif\"]\n",
    "\n",
    "if isinstance(fnames,str):\n",
    "    fnames = [fnames]\n",
    "\n",
    "for i in range(0,len(fnames)):\n",
    "    if os.path.exists(fnames[i]) == False:\n",
    "        logging.error('File '+ str(i+1) + ': '+fnames[i] + ' does not exits! Please correct the filename.')"
   ]
  },
  {
   "cell_type": "markdown",
   "id": "f06c0412",
   "metadata": {},
   "source": [
    "## Set parameters\n",
    "\n",
    "This is where the parameters are set for motion correction. These are set as CNMF parameters because the online_motion_correction code is inside the online CNMF pipeline code. This may change in future updates.\n",
    "\n",
    "All the parameters are explained below. However, the most important parameters in this code are:\n",
    "\n",
    "<ul>\n",
    "    <li><b> gSig_filt: </b> Gaussian filter. Should normally be half the neuron size.</li>\n",
    "    <li><b> pw_rigid: </b> Set True for piece-wise motion correction.</li>\n",
    "    <li><b> max_shifts_online: </b> Maximum rigid shifts. It should not be huge to not have major problems in the updated templates.</li>\n",
    "</ul>"
   ]
  },
  {
   "cell_type": "code",
   "execution_count": 28,
   "id": "cc38b127",
   "metadata": {},
   "outputs": [
    {
     "name": "stderr",
     "output_type": "stream",
     "text": [
      "    63220195 [params.py:                 set():976] [24984] Changing key fnames in group data from None to ['Z:/Calcium_Analysis/12937-06_S/12937-06AI_1DPI_S.tif']\n",
      "    63220198 [params.py:                 set():976] [24984] Changing key max_shifts_online in group online from 10 to 40\n",
      "    63220200 [params.py:                 set():976] [24984] Changing key init_batch in group online from 200 to 500\n",
      "    63220200 [params.py:                 set():976] [24984] Changing key gSig_filt in group motion from None to (6, 6)\n",
      "    63220201 [params.py:                 set():976] [24984] Changing key strides in group motion from (96, 96) to (300, 300)\n",
      "    63220201 [params.py:                 set():976] [24984] Changing key overlaps in group motion from (32, 32) to (24, 24)\n",
      "    63220202 [params.py:                 set():976] [24984] Changing key max_deviation_rigid in group motion from 3 to (10, 10)\n"
     ]
    }
   ],
   "source": [
    "gSig_filt = (6,6)                    #Gaussian filter size. It should normally be half the neuron size. Set it to none for 2-photon\n",
    "pw_rigid = False                     #True if piece-wise motion correction should be used\n",
    "strides = (300, 300)                  #Patch sizes in pixels.\n",
    "overlaps = (24, 24)                 #Overlap between patches in pixels. This value normally does not have to be very high.\n",
    "max_shifts_online = 40              #Maximum rigid shifts\n",
    "max_deviation_rigid = 6       #Maximum deviation in pixels between rigid shifts and shifts of individual patches\n",
    "border_nan = 'copy'                 #flag for allowing NaN in the boundaries. True allows NaN, whereas 'copy' copies the value of the nearest data point.\n",
    "shifts_opencv = True                #flag for applying shifts using cubic interpolation (otherwise FFT)\n",
    "init_batch = 500                    #initial batch \n",
    "ds_factor = 1                       #Spatial binning factor. Have in account that if spatial binning is used, all values above are unaltered.\n",
    "normalize = False                    #Whether to normalize each frame prior to online processing. Set it to False for 2 photon\n",
    "\n",
    "params_dict = {'fnames': fnames,\n",
    "               'gSig_filt': gSig_filt,\n",
    "               'pw_rigid': pw_rigid,\n",
    "               'strides': strides,\n",
    "               'overlaps': overlaps,\n",
    "               'max_shifts_online': max_shifts_online,\n",
    "               'max_deviation_rigid': max_deviation_rigid,\n",
    "               'border_nan': border_nan,\n",
    "               'shifts_opencv': shifts_opencv,\n",
    "               'init_batch': init_batch,\n",
    "               'ds_factor': ds_factor,\n",
    "               'normalize': normalize}\n",
    "opts = cnmf.params.CNMFParams(params_dict=params_dict)\n",
    "cnm = cnmf.online_cnmf.OnACID(params=opts)  "
   ]
  },
  {
   "cell_type": "markdown",
   "id": "84a3e6ff",
   "metadata": {},
   "source": [
    "# Extra variables\n",
    "\n",
    "You can also set the precision with which you want the motion corrected images to be stored, which can save some storage space. We don't advise to store with less precision than the original recording.\n",
    "\n",
    "You can also open a template as a numpy array if you want to match these images against a previous template. Useful for when you have two channels or sucessive recordings of the same FOV with similar signal and background."
   ]
  },
  {
   "cell_type": "code",
   "execution_count": 7,
   "id": "05fc2e36",
   "metadata": {},
   "outputs": [],
   "source": [
    "#These are extra variables\n",
    "nbits = np.float16                          #Number of bits in which to save final images as tiff files.\n",
    "init_template = None                        #If an initial template can be provided, this should be where to set this variable into \n",
    "                                                   #the template 2D numpy array."
   ]
  },
  {
   "cell_type": "markdown",
   "id": "a3c9d730",
   "metadata": {},
   "source": [
    "## Run online motion correction\n",
    "\n",
    "This code uses the same template for 2nd and subsequent files if <b> reuse_template </b> is set to True"
   ]
  },
  {
   "cell_type": "code",
   "execution_count": 29,
   "id": "381ba922",
   "metadata": {},
   "outputs": [
    {
     "name": "stderr",
     "output_type": "stream",
     "text": [
      "    63223132 [online_cnmf.py:motion_correction_online():1026] [24984] Analyzing Z:/Calcium_Analysis/12937-06_S/12937-06AI_1DPI_S.tif\n",
      "    63223439 [movies.py:                load():1605] [24984] Your tif file is multiseries. Performance may be affected.\n",
      "    63240933 [movies.py:      extract_shifts():344] [24984] Movie average is negative. Removing 1st percentile.\n",
      "    63241345 [movies.py:      extract_shifts():362] [24984] Movie average is negative. Removing 1st percentile.\n",
      "    63261943 [movies.py:      extract_shifts():344] [24984] Movie average is negative. Removing 1st percentile.\n",
      "    63262238 [movies.py:      extract_shifts():362] [24984] Movie average is negative. Removing 1st percentile.\n",
      "    63281202 [movies.py:      extract_shifts():344] [24984] Movie average is negative. Removing 1st percentile.\n",
      "    63281409 [movies.py:      extract_shifts():362] [24984] Movie average is negative. Removing 1st percentile.\n",
      "    63297498 [online_cnmf.py:motion_correction_online():1053] [24984] Initial template initialized in 74 seconds\n",
      "    63307665 [online_cnmf.py:motion_correction_online():1087] [24984] Start processing all frames\n",
      "    63352849 [online_cnmf.py:motion_correction_online():1158] [24984] Processed and saved 500 frames in 45 seconds\n",
      "    63393699 [online_cnmf.py:motion_correction_online():1158] [24984] Processed and saved 1000 frames in 86 seconds\n",
      "    63440750 [online_cnmf.py:motion_correction_online():1158] [24984] Processed and saved 1500 frames in 133 seconds\n",
      "    63488731 [online_cnmf.py:motion_correction_online():1158] [24984] Processed and saved 2000 frames in 181 seconds\n",
      "    63533905 [online_cnmf.py:motion_correction_online():1158] [24984] Processed and saved 2500 frames in 226 seconds\n",
      "    63580814 [online_cnmf.py:motion_correction_online():1158] [24984] Processed and saved 3000 frames in 273 seconds\n",
      "    63619686 [online_cnmf.py:motion_correction_online():1158] [24984] Processed and saved 3500 frames in 312 seconds\n",
      "    63657471 [online_cnmf.py:motion_correction_online():1158] [24984] Processed and saved 4000 frames in 349 seconds\n",
      "    63698509 [online_cnmf.py:motion_correction_online():1158] [24984] Processed and saved 4500 frames in 390 seconds\n",
      "    63744799 [online_cnmf.py:motion_correction_online():1158] [24984] Processed and saved 5000 frames in 437 seconds\n",
      "    63795073 [online_cnmf.py:motion_correction_online():1158] [24984] Processed and saved 5500 frames in 487 seconds\n",
      "    63843652 [online_cnmf.py:motion_correction_online():1158] [24984] Processed and saved 6000 frames in 535 seconds\n",
      "    63893882 [online_cnmf.py:motion_correction_online():1158] [24984] Processed and saved 6500 frames in 586 seconds\n",
      "    63942764 [online_cnmf.py:motion_correction_online():1158] [24984] Processed and saved 7000 frames in 635 seconds\n",
      "    63989400 [online_cnmf.py:motion_correction_online():1158] [24984] Processed and saved 7500 frames in 681 seconds\n",
      "    64036084 [online_cnmf.py:motion_correction_online():1158] [24984] Processed and saved 8000 frames in 728 seconds\n",
      "    64084504 [online_cnmf.py:motion_correction_online():1158] [24984] Processed and saved 8500 frames in 776 seconds\n",
      "    64125071 [online_cnmf.py:motion_correction_online():1158] [24984] Processed and saved 9000 frames in 817 seconds\n",
      "    64170347 [online_cnmf.py:motion_correction_online():1158] [24984] Processed and saved 9500 frames in 862 seconds\n",
      "    64221330 [online_cnmf.py:motion_correction_online():1158] [24984] Processed and saved 10000 frames in 913 seconds\n",
      "    64273571 [online_cnmf.py:motion_correction_online():1158] [24984] Processed and saved 10500 frames in 965 seconds\n",
      "    64327528 [online_cnmf.py:motion_correction_online():1158] [24984] Processed and saved 11000 frames in 1019 seconds\n",
      "    64380526 [online_cnmf.py:motion_correction_online():1158] [24984] Processed and saved 11500 frames in 1072 seconds\n",
      "    64433795 [online_cnmf.py:motion_correction_online():1158] [24984] Processed and saved 12000 frames in 1126 seconds\n",
      "    64489460 [online_cnmf.py:motion_correction_online():1158] [24984] Processed and saved 12500 frames in 1181 seconds\n",
      "    64544433 [online_cnmf.py:motion_correction_online():1158] [24984] Processed and saved 13000 frames in 1236 seconds\n",
      "    64599053 [online_cnmf.py:motion_correction_online():1158] [24984] Processed and saved 13500 frames in 1291 seconds\n",
      "    64651153 [online_cnmf.py:motion_correction_online():1158] [24984] Processed and saved 14000 frames in 1343 seconds\n",
      "    64697726 [online_cnmf.py:motion_correction_online():1158] [24984] Processed and saved 14500 frames in 1390 seconds\n",
      "    64744195 [online_cnmf.py:motion_correction_online():1158] [24984] Processed and saved 15000 frames in 1436 seconds\n",
      "    64779487 [online_cnmf.py:motion_correction_online():1158] [24984] Processed and saved 15500 frames in 1471 seconds\n",
      "    64814216 [online_cnmf.py:motion_correction_online():1158] [24984] Processed and saved 16000 frames in 1506 seconds\n",
      "    64850647 [online_cnmf.py:motion_correction_online():1158] [24984] Processed and saved 16500 frames in 1542 seconds\n",
      "    64888304 [online_cnmf.py:motion_correction_online():1158] [24984] Processed and saved 17000 frames in 1580 seconds\n",
      "    64933852 [online_cnmf.py:motion_correction_online():1158] [24984] Processed and saved 17500 frames in 1626 seconds\n",
      "    64973133 [online_cnmf.py:motion_correction_online():1158] [24984] Processed and saved 18000 frames in 1665 seconds\n",
      "    65016011 [online_cnmf.py:motion_correction_online():1158] [24984] Processed and saved 18500 frames in 1708 seconds\n",
      "    65065156 [online_cnmf.py:motion_correction_online():1158] [24984] Processed and saved 19000 frames in 1757 seconds\n",
      "    65114446 [online_cnmf.py:motion_correction_online():1158] [24984] Processed and saved 19500 frames in 1806 seconds\n",
      "    65161947 [online_cnmf.py:motion_correction_online():1158] [24984] Processed and saved 20000 frames in 1854 seconds\n",
      "    65209734 [online_cnmf.py:motion_correction_online():1158] [24984] Processed and saved 20500 frames in 1902 seconds\n",
      "    65257677 [online_cnmf.py:motion_correction_online():1158] [24984] Processed and saved 21000 frames in 1950 seconds\n",
      "    65306507 [online_cnmf.py:motion_correction_online():1158] [24984] Processed and saved 21500 frames in 1998 seconds\n",
      "    65358694 [online_cnmf.py:motion_correction_online():1158] [24984] Processed and saved 22000 frames in 2051 seconds\n",
      "    65410879 [online_cnmf.py:motion_correction_online():1158] [24984] Processed and saved 22500 frames in 2103 seconds\n",
      "    65460194 [online_cnmf.py:motion_correction_online():1158] [24984] Processed and saved 23000 frames in 2152 seconds\n",
      "    65510753 [online_cnmf.py:motion_correction_online():1158] [24984] Processed and saved 23500 frames in 2203 seconds\n",
      "    65561721 [online_cnmf.py:motion_correction_online():1158] [24984] Processed and saved 24000 frames in 2254 seconds\n",
      "    65609263 [online_cnmf.py:motion_correction_online():1158] [24984] Processed and saved 24500 frames in 2301 seconds\n",
      "    65660332 [online_cnmf.py:motion_correction_online():1158] [24984] Processed and saved 25000 frames in 2352 seconds\n",
      "    65711246 [online_cnmf.py:motion_correction_online():1158] [24984] Processed and saved 25500 frames in 2403 seconds\n",
      "    65763319 [online_cnmf.py:motion_correction_online():1158] [24984] Processed and saved 26000 frames in 2455 seconds\n",
      "    65812830 [online_cnmf.py:motion_correction_online():1158] [24984] Processed and saved 26500 frames in 2505 seconds\n",
      "    65859267 [online_cnmf.py:motion_correction_online():1158] [24984] Processed and saved 27000 frames in 2551 seconds\n",
      "    65902967 [online_cnmf.py:motion_correction_online():1158] [24984] Processed and saved 27500 frames in 2595 seconds\n",
      "    65954687 [online_cnmf.py:motion_correction_online():1158] [24984] Processed and saved 28000 frames in 2647 seconds\n",
      "    66004298 [online_cnmf.py:motion_correction_online():1158] [24984] Processed and saved 28500 frames in 2696 seconds\n",
      "    66055775 [online_cnmf.py:motion_correction_online():1158] [24984] Processed and saved 29000 frames in 2748 seconds\n",
      "    66107899 [online_cnmf.py:motion_correction_online():1158] [24984] Processed and saved 29500 frames in 2800 seconds\n",
      "    66159331 [online_cnmf.py:motion_correction_online():1158] [24984] Processed and saved 30000 frames in 2851 seconds\n",
      "    66205726 [online_cnmf.py:motion_correction_online():1158] [24984] Processed and saved 30500 frames in 2898 seconds\n",
      "    66249691 [online_cnmf.py:motion_correction_online():1158] [24984] Processed and saved 31000 frames in 2942 seconds\n",
      "    66307626 [online_cnmf.py:motion_correction_online():1158] [24984] Processed and saved 31500 frames in 2999 seconds\n",
      "    66361015 [online_cnmf.py:motion_correction_online():1158] [24984] Processed and saved 32000 frames in 3053 seconds\n",
      "    66412721 [online_cnmf.py:motion_correction_online():1158] [24984] Processed and saved 32500 frames in 3105 seconds\n",
      "    66464538 [online_cnmf.py:motion_correction_online():1158] [24984] Processed and saved 33000 frames in 3156 seconds\n",
      "    66513607 [online_cnmf.py:motion_correction_online():1158] [24984] Processed and saved 33500 frames in 3205 seconds\n",
      "    66565271 [online_cnmf.py:motion_correction_online():1158] [24984] Processed and saved 34000 frames in 3257 seconds\n",
      "    66615613 [online_cnmf.py:motion_correction_online():1158] [24984] Processed and saved 34500 frames in 3307 seconds\n",
      "    66665697 [online_cnmf.py:motion_correction_online():1158] [24984] Processed and saved 35000 frames in 3358 seconds\n",
      "    66720544 [online_cnmf.py:motion_correction_online():1158] [24984] Processed and saved 35500 frames in 3412 seconds\n",
      "    66770140 [online_cnmf.py:motion_correction_online():1158] [24984] Processed and saved 36000 frames in 3462 seconds\n",
      "    66807944 [online_cnmf.py:motion_correction_online():1158] [24984] Processed and saved 36500 frames in 3500 seconds\n",
      "    66850078 [online_cnmf.py:motion_correction_online():1158] [24984] Processed and saved 37000 frames in 3542 seconds\n",
      "    66890278 [online_cnmf.py:motion_correction_online():1158] [24984] Processed and saved 37500 frames in 3582 seconds\n",
      "    66928835 [online_cnmf.py:motion_correction_online():1158] [24984] Processed and saved 38000 frames in 3621 seconds\n",
      "    66968045 [online_cnmf.py:motion_correction_online():1158] [24984] Processed and saved 38500 frames in 3660 seconds\n",
      "    67008267 [online_cnmf.py:motion_correction_online():1158] [24984] Processed and saved 39000 frames in 3700 seconds\n",
      "    67049957 [online_cnmf.py:motion_correction_online():1158] [24984] Processed and saved 39500 frames in 3742 seconds\n",
      "    67091917 [online_cnmf.py:motion_correction_online():1158] [24984] Processed and saved 40000 frames in 3784 seconds\n",
      "    67137560 [online_cnmf.py:motion_correction_online():1158] [24984] Processed and saved 40500 frames in 3829 seconds\n",
      "    67174746 [online_cnmf.py:motion_correction_online():1158] [24984] Processed and saved 41000 frames in 3867 seconds\n",
      "    67210180 [online_cnmf.py:motion_correction_online():1158] [24984] Processed and saved 41500 frames in 3902 seconds\n",
      "    67245286 [online_cnmf.py:motion_correction_online():1158] [24984] Processed and saved 42000 frames in 3937 seconds\n",
      "    67289160 [online_cnmf.py:motion_correction_online():1158] [24984] Processed and saved 42500 frames in 3981 seconds\n",
      "    67339872 [online_cnmf.py:motion_correction_online():1158] [24984] Processed and saved 43000 frames in 4032 seconds\n",
      "    67395645 [online_cnmf.py:motion_correction_online():1158] [24984] Processed and saved 43500 frames in 4087 seconds\n",
      "    67446940 [online_cnmf.py:motion_correction_online():1158] [24984] Processed and saved 44000 frames in 4139 seconds\n",
      "    67497217 [online_cnmf.py:motion_correction_online():1158] [24984] Processed and saved 44500 frames in 4189 seconds\n",
      "    67545449 [online_cnmf.py:motion_correction_online():1158] [24984] Processed and saved 45000 frames in 4237 seconds\n"
     ]
    }
   ],
   "source": [
    "reuse_template = False\n",
    "MCfnames = fnames.copy()\n",
    "\n",
    "for i in range(0,len(fnames)):\n",
    "    cnm.params.set('data',{'fnames':[fnames[i]]})\n",
    "    cnm.motion_correction_online(template = init_template, save_movie=True,nbits=nbits)\n",
    "\n",
    "    MCfnames[i] = os.path.join(os.path.dirname(fnames[i]),os.path.basename(fnames[i]).split('.')[0]+'_MC Results', os.path.splitext(os.path.basename(fnames[i]))[0]+str('_MC.tif'))\n",
    "    \n",
    "    if reuse_template:\n",
    "        init_template = cm.load(os.path.join(os.path.dirname(fnames[i]), 'MC_results', 'MC_templates.tif'))[-1]"
   ]
  },
  {
   "cell_type": "markdown",
   "id": "ea1cffd1",
   "metadata": {},
   "source": [
    "## Plot x and y shifts\n",
    "\n",
    "Plotting shifts can allow to have an idea of if the motion correction went well. A typical example is when the maximum shifts allowed is lower than the actual shifts that occured. When that happens, it is common to see x or y shifts jumping from very big negative values to very positive values or vice-versa in a small number of frames. These jumps, however, are not common."
   ]
  },
  {
   "cell_type": "code",
   "execution_count": null,
   "id": "3f087c3a",
   "metadata": {},
   "outputs": [],
   "source": [
    "T = len(cnm.estimates.shifts) #Calculated shifts\n",
    "    \n",
    "#Get x and y shifts\n",
    "shifts = cnm.estimates.shifts[-T:]\n",
    "if (pw_rigid is True):\n",
    "    y_shifts = [[sx[1] for sx in sh] for sh in shifts]\n",
    "    x_shifts = [[sx[0] for sx in sh] for sh in shifts]\n",
    "\n",
    "else:\n",
    "    y_shifts = [sh[1] for sh in shifts]\n",
    "    x_shifts = [sh[0] for sh in shifts]\n",
    "    \n",
    "fig, (ax1, ax2) = plt.subplots(1, 2)\n",
    "ax1.plot(x_shifts)\n",
    "ax1.set(title = 'X shifts', xlabel = 'Frames', ylabel = 'Pixel shift')\n",
    "ax2.plot(y_shifts)\n",
    "ax2.set(title = 'Y shifts', xlabel = 'Frames', ylabel = 'Pixel shift')"
   ]
  },
  {
   "cell_type": "markdown",
   "id": "e69d76cb-64f8-4f75-9b09-f2c772898323",
   "metadata": {},
   "source": [
    "## Check motion corrected file\n",
    "\n",
    "Another way to check the motion correction file is by opening it and run through the frames side-by-side with the original file to see if the movement is gone.\n",
    "\n",
    "<b> If you had a list of several files, select the index of files to compare (the first file has index=0). </b>"
   ]
  },
  {
   "cell_type": "code",
   "execution_count": 23,
   "id": "30104d0f-8b21-4d24-8e5d-9770b414bb90",
   "metadata": {},
   "outputs": [
    {
     "data": {
      "application/vnd.jupyter.widget-view+json": {
       "model_id": "f3abe2264b6c41b48d8cd078b8731ea1",
       "version_major": 2,
       "version_minor": 0
      },
      "text/plain": [
       "RFBOutputContext()"
      ]
     },
     "metadata": {},
     "output_type": "display_data"
    },
    {
     "name": "stderr",
     "output_type": "stream",
     "text": [
      "C:\\Users\\Gebruiker\\mambaforge\\envs\\caimanRui\\lib\\site-packages\\mesmerize_core\\arrays\\_tiff.py:98: UserWarning: min not implemented for LazyTiff, returning min of 0th index\n",
      "  warn(\"min not implemented for LazyTiff, returning min of 0th index\")\n",
      "C:\\Users\\Gebruiker\\mambaforge\\envs\\caimanRui\\lib\\site-packages\\mesmerize_core\\arrays\\_tiff.py:103: UserWarning: max not implemented for LazyTiff, returning min of 0th index\n",
      "  warn(\"max not implemented for LazyTiff, returning min of 0th index\")\n"
     ]
    },
    {
     "data": {
      "application/vnd.jupyter.widget-view+json": {
       "model_id": "d80a7279e4f74e8d949b2c7955ce950c",
       "version_major": 2,
       "version_minor": 0
      },
      "text/plain": [
       "VBox(children=(JupyterWgpuCanvas(), IntSlider(value=0, description='dimension: t', max=44999), FloatRangeSlide…"
      ]
     },
     "metadata": {},
     "output_type": "display_data"
    }
   ],
   "source": [
    "i = 0                         #Index of files to compare\n",
    "\n",
    "originalMovie = mescore.movie_readers.default_reader(fnames[i])\n",
    "MC_movie = mescore.movie_readers.default_reader(MCfnames[i])\n",
    "\n",
    "mcorr_iw = ImageWidget(\n",
    "    data=[originalMovie, MC_movie], \n",
    "    vmin_vmax_sliders=True, \n",
    "    cmap=\"gray\"\n",
    ")\n",
    "\n",
    "mcorr_iw.show()"
   ]
  },
  {
   "cell_type": "markdown",
   "id": "c524f9c3-fd59-4fec-bab0-227e2950c186",
   "metadata": {},
   "source": [
    "### Use mean window function to visualize motion correction better\n",
    "\n",
    "By setting a rolling average of a number of frames, motion correctio artifacts are more easily visualized."
   ]
  },
  {
   "cell_type": "code",
   "execution_count": null,
   "id": "619ac5f3-517a-4e52-8505-cb426b0f30e9",
   "metadata": {},
   "outputs": [],
   "source": [
    "# Use rolling mean over 10 frames in this case.\n",
    "mcorr_iw.window_funcs = {\"t\": (np.mean, 10)}"
   ]
  },
  {
   "cell_type": "markdown",
   "id": "ef3c2cc2-1e5d-4435-947a-7af617608be2",
   "metadata": {},
   "source": [
    "## Close the canvas to free up GPU processing time, not necessary if you have a powerful GPU\n",
    "\n",
    "Computers with slow GPU may not have the capability of running several things in parallel. Thus, it is important to close the image widget if it was opened before"
   ]
  },
  {
   "cell_type": "code",
   "execution_count": null,
   "id": "16d5e8aa-c86b-45ca-bd5f-b51641061520",
   "metadata": {},
   "outputs": [],
   "source": [
    "mcorr_iw.plot.canvas.close()"
   ]
  }
 ],
 "metadata": {
  "kernelspec": {
   "display_name": "Python 3 (ipykernel)",
   "language": "python",
   "name": "python3"
  },
  "language_info": {
   "codemirror_mode": {
    "name": "ipython",
    "version": 3
   },
   "file_extension": ".py",
   "mimetype": "text/x-python",
   "name": "python",
   "nbconvert_exporter": "python",
   "pygments_lexer": "ipython3",
   "version": "3.10.8"
  }
 },
 "nbformat": 4,
 "nbformat_minor": 5
}
