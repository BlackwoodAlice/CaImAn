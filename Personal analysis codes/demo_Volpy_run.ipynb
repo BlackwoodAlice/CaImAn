{
 "cells": [
  {
   "cell_type": "markdown",
   "id": "505e71a5-466f-4f94-aefd-156151a031c6",
   "metadata": {},
   "source": [
    "# Example of online analysis using Volpy\n",
    "\n",
    "This pipeline serves for analyzing data after motion correction.\n",
    "\n",
    "It first allows to select ROIs manually if they are not present and then runs the adapted Volpy package.\n",
    "\n",
    "### Open libraries"
   ]
  },
  {
   "cell_type": "code",
   "execution_count": 2,
   "id": "8d613893-ae6a-47dc-a075-c367a8239a9a",
   "metadata": {},
   "outputs": [
    {
     "name": "stdout",
     "output_type": "stream",
     "text": [
      "The autoreload extension is already loaded. To reload it, use:\n",
      "  %reload_ext autoreload\n"
     ]
    },
    {
     "name": "stderr",
     "output_type": "stream",
     "text": [
      "C:\\Users\\Gebruiker\\AppData\\Local\\Temp\\ipykernel_25628\\1342850826.py:5: DeprecationWarning: `magic(...)` is deprecated since IPython 0.13 (warning added in 8.1), use run_line_magic(magic_name, parameter_s).\n",
      "  get_ipython().magic('load_ext autoreload')\n",
      "C:\\Users\\Gebruiker\\AppData\\Local\\Temp\\ipykernel_25628\\1342850826.py:6: DeprecationWarning: `magic(...)` is deprecated since IPython 0.13 (warning added in 8.1), use run_line_magic(magic_name, parameter_s).\n",
      "  get_ipython().magic('autoreload 2')\n"
     ]
    }
   ],
   "source": [
    "import logging\n",
    "try:\n",
    "    if __IPYTHON__:\n",
    "        # this is used for debugging purposes only. allows to reload classes when changed\n",
    "        get_ipython().magic('load_ext autoreload')\n",
    "        get_ipython().magic('autoreload 2')\n",
    "except NameError:\n",
    "    pass\n",
    "\n",
    "logging.basicConfig(format=\n",
    "                          \"%(relativeCreated)12d [%(filename)s:%(funcName)20s():%(lineno)s] [%(process)d] %(message)s\",\n",
    "                    # filename=\"/tmp/caiman.log\",\n",
    "                    level=logging.INFO)\n",
    "\n",
    "import numpy as np\n",
    "import tifffile\n",
    "import os\n",
    "import h5py\n",
    "\n",
    "import caiman as cm\n",
    "import mesmerize_core as mescore\n",
    "from caiman.source_extraction import cnmf, volpy\n",
    "from caiman.source_extraction.volpy.volparams import volparams\n",
    "from caiman.source_extraction.volpy.volpy import VOLPY\n",
    "from caiman.source_extraction.volpy import pre_processing, utils\n",
    "import matplotlib.pyplot as plt"
   ]
  },
  {
   "cell_type": "markdown",
   "id": "165d8294-b2f8-4825-a8b9-dd061b885993",
   "metadata": {},
   "source": [
    "## Import data\n",
    "\n",
    "Set a list of filenames in the fnames variable to run in a row"
   ]
  },
  {
   "cell_type": "code",
   "execution_count": 3,
   "id": "7ed1009c-4b70-45bf-bbe2-f71e7a66d870",
   "metadata": {},
   "outputs": [],
   "source": [
    "fnames = [\"Z:/Data for optimizing Volpy/Negative dye/Ace_mNeon2_500Hz_7mW.tif\",\n",
    "          \"Z:/Data for optimizing Volpy/Negative dye/Ace_mNeon2_500Hz_15mW_1.tif\",\n",
    "          \"Z:/Data for optimizing Volpy/Negative dye/Ace_mNeon2_500Hz_15mW_2.tif\",\n",
    "          \"Z:/Data for optimizing Volpy/Negative dye/Ace_mNeon2_500Hz_30mW_1.tif\",\n",
    "          \"Z:/Data for optimizing Volpy/Negative dye/Ace_mNeon2_500Hz_30mW_2.tif\",\n",
    "         \"Z:/Data for optimizing Volpy/Negative dye/Ace_mNeon2_1000Hz_15mW.tif\"]\n",
    "\n",
    "if isinstance(fnames,str):\n",
    "    fnames = [fnames]\n",
    "\n",
    "for name in fnames:\n",
    "    if os.path.exists(name) == False:\n",
    "        logging.warning(name + ' does not exits! Please correct the filename.')"
   ]
  },
  {
   "cell_type": "markdown",
   "id": "c525861a-05ae-4600-9677-6581014ecc62",
   "metadata": {},
   "source": [
    "## Create ROIs manually\n",
    "\n",
    "<b> Change the path to the file path where the volpy_gui.py code is. </b>\n",
    "\n",
    "Skip this step if the ROIs already exist"
   ]
  },
  {
   "cell_type": "code",
   "execution_count": null,
   "id": "4e8e4033-12ec-4868-9460-df4045371f5a",
   "metadata": {},
   "outputs": [],
   "source": [
    "%run C:/Users/Gebruiker/mambaforge/envs/caimanRui/Lib/site-packages/caiman/source_extraction/volpy/volpy_gui"
   ]
  },
  {
   "cell_type": "markdown",
   "id": "b6603be4-9472-47dc-9307-93f75ff9e397",
   "metadata": {},
   "source": [
    "## Set list of ROIs\n",
    "\n",
    "Create a list of ROIs to be used for each of the fnames above or use one ROI for all fnames by setting a single path.\n",
    "\n",
    "Below there are 2 forms of setting the Neurons_path variable. The first one is if the ROIs file are in the same folder as the filenames, the second one is by setting the full path. Comment the one that does not matter."
   ]
  },
  {
   "cell_type": "code",
   "execution_count": 14,
   "id": "abbb53e8-255b-479c-ad52-923dab5d745c",
   "metadata": {},
   "outputs": [],
   "source": [
    "# If ROIs files are in the same folder of the original image, select through this for loop\n",
    "\n",
    "#Neurons_path = []\n",
    "#for i in range(0,len(fnames)):\n",
    "#    gui_ROIs = os.path.join(os.path.dirname(fnames[i]), 'ROIs.hdf5')\n",
    "#    if os.path.exists(gui_ROIs):\n",
    "#        Neurons_path.append(gui_ROIs)\n",
    "#    else:\n",
    "#        logging.warning(gui_ROIs + ' does not exist! It will not be added to the variable.')\n",
    "    \n",
    "# If a ROIs file is used for all files, set a single Neurons_path\n",
    "Neurons_path = [\"Z:/Data for optimizing Volpy/Negative dye/ROIs_7mW.hdf5\",\n",
    "               \"Z:/Data for optimizing Volpy/Negative dye/ROIs_15mW_1.hdf5\",\n",
    "               \"Z:/Data for optimizing Volpy/Negative dye/ROIs_15mW_2.hdf5\",\n",
    "               \"Z:/Data for optimizing Volpy/Negative dye/ROIs_30mW_1.hdf5\",\n",
    "               \"Z:/Data for optimizing Volpy/Negative dye/ROIs_30mW_2.hdf5\",\n",
    "               \"Z:/Data for optimizing Volpy/Negative dye/ROIs_15mW_1000Hz.hdf5\"]\n",
    "\n",
    "if isinstance(Neurons_path,str):\n",
    "    Neurons_path = [Neurons_path]\n",
    "\n",
    "if len(Neurons_path)!=1 and len(Neurons_path)!= len(fnames):\n",
    "    logging.error('The size of fnames and Neurons_path is different! Select the same number of Neurons_path as fnames or solely one to be used for all files.')"
   ]
  },
  {
   "cell_type": "markdown",
   "id": "365ae379-2aed-48e8-b954-66956a7d204e",
   "metadata": {},
   "source": [
    "## Set parameters for Volpy"
   ]
  },
  {
   "cell_type": "code",
   "execution_count": 59,
   "id": "b59b6494-1f2e-4e84-af2c-23a8a14c74dc",
   "metadata": {},
   "outputs": [
    {
     "name": "stderr",
     "output_type": "stream",
     "text": [
      "    20587600 [volparams.py:                 set():95] [25628] Changing key fnames in group data from None to Z:/Data for optimizing Volpy/Negative dye/Ace_mNeon2_500Hz_7mW.tif\n",
      "    20587601 [volparams.py:                 set():95] [25628] Changing key fr in group data from None to 500\n",
      "    20587607 [volparams.py:                 set():95] [25628] Changing key ROIs in group data from None to [[[0. 0. 0. ... 0. 0. 0.]\n",
      "  [0. 0. 0. ... 0. 0. 0.]\n",
      "  [0. 0. 0. ... 0. 0. 0.]\n",
      "  ...\n",
      "  [0. 0. 0. ... 0. 0. 0.]\n",
      "  [0. 0. 0. ... 0. 0. 0.]\n",
      "  [0. 0. 0. ... 0. 0. 0.]]]\n",
      "    20587609 [volparams.py:                 set():95] [25628] Changing key index in group data from None to [0]\n",
      "    20587613 [volparams.py:                 set():95] [25628] Changing key context_size in group volspike from 35 to 70\n",
      "    20587615 [volparams.py:                 set():95] [25628] Changing key sub_freq in group volspike from 20 to 10\n"
     ]
    }
   ],
   "source": [
    "n = 0 #Index of file to start parameters\n",
    "\n",
    "with h5py.File(Neurons_path[n], 'r') as fl:\n",
    "    ROIs = fl['mov'][()]\n",
    "\n",
    "ROIs = ROIs                                   # region of interests\n",
    "index = list(range(len(ROIs)))                # index of neurons\n",
    "weights = None                                # if None, use ROIs for initialization; to reuse weights check reuse weights block \n",
    "fr = 500                                      # Frame rate\n",
    "template_size = 0.02                          # half size of the window length for spike templates, default is 20 ms \n",
    "context_size = 70                             # number of pixels surrounding the ROI to censor from the background PCA\n",
    "visualize_ROI = False                         # whether to visualize the region of interest inside the context region\n",
    "flip_signal = True                            # Important!! Flip signal or not, True for Voltron indicator, False for others\n",
    "hp_freq_pb = 1 / 3                            # parameter for high-pass filter to remove photobleaching\n",
    "clip = 100                                    # maximum number of spikes to form spike template\n",
    "threshold_method = 'adaptive_threshold'       # adaptive_threshold or simple \n",
    "min_spikes= 10                                # minimal spikes to be found\n",
    "pnorm = 0.5                                   # a variable deciding the amount of spikes chosen for adaptive threshold method\n",
    "threshold = 3                                 # threshold for finding spikes only used in simple threshold method, Increase the threshold to find less spikes\n",
    "do_plot = False                               # plot detail of spikes, template for the last iteration\n",
    "ridge_bg= 0.01                                # ridge regression regularizer strength for background removement, larger value specifies stronger regularization \n",
    "sub_freq = 10                                 # frequency for subthreshold extraction\n",
    "weight_update = 'ridge'                       # ridge or NMF for weight update\n",
    "n_iter = 2                                    # number of iterations alternating between estimating spike times and spatial filters\n",
    "nPC_bg = 8                                    # number of principal components from the background to remove from trace\n",
    "\n",
    "opts_dict={'fnames': fnames[n],\n",
    "           'fr': fr,\n",
    "           'ROIs': ROIs,\n",
    "           'index': index,\n",
    "           'weights': weights,\n",
    "           'template_size': template_size, \n",
    "           'context_size': context_size,\n",
    "           'visualize_ROI': visualize_ROI, \n",
    "           'flip_signal': flip_signal,\n",
    "           'hp_freq_pb': hp_freq_pb,\n",
    "           'clip': clip,\n",
    "           'threshold_method': threshold_method,\n",
    "           'min_spikes':min_spikes,\n",
    "           'pnorm': pnorm, \n",
    "           'threshold': threshold,\n",
    "           'do_plot':do_plot,\n",
    "           'ridge_bg':ridge_bg,\n",
    "           'sub_freq': sub_freq,\n",
    "           'weight_update': weight_update,\n",
    "           'n_iter': n_iter,\n",
    "           'nPC_bg': nPC_bg}\n",
    "\n",
    "opts = volparams(params_dict=opts_dict)                 "
   ]
  },
  {
   "cell_type": "markdown",
   "id": "52f5cda6-5403-4e05-abf5-1ba954b04e9a",
   "metadata": {
    "tags": []
   },
   "source": [
    "# Iterate over all files, run VOLPY and save results"
   ]
  },
  {
   "cell_type": "code",
   "execution_count": 75,
   "id": "492c6665-bf3e-4c59-bf33-ca4c15f0cf88",
   "metadata": {},
   "outputs": [
    {
     "name": "stderr",
     "output_type": "stream",
     "text": [
      "    21507955 [volparams.py:                 set():95] [25628] Changing key fnames in group data from None to Z:/Data for optimizing Volpy/Negative dye/Ace_mNeon2_500Hz_7mW.tif\n",
      "    21507957 [volparams.py:                 set():95] [25628] Changing key fr in group data from None to 500\n",
      "    21507960 [volparams.py:                 set():95] [25628] Changing key ROIs in group data from None to [[[0. 0. 0. ... 0. 0. 0.]\n",
      "  [0. 0. 0. ... 0. 0. 0.]\n",
      "  [0. 0. 0. ... 0. 0. 0.]\n",
      "  ...\n",
      "  [0. 0. 0. ... 0. 0. 0.]\n",
      "  [0. 0. 0. ... 0. 0. 0.]\n",
      "  [0. 0. 0. ... 0. 0. 0.]]]\n",
      "    21507962 [volparams.py:                 set():95] [25628] Changing key index in group data from None to [0]\n",
      "    21507962 [volparams.py:                 set():95] [25628] Changing key context_size in group volspike from 35 to 70\n",
      "    21507963 [volparams.py:                 set():95] [25628] Changing key sub_freq in group volspike from 20 to 10\n"
     ]
    },
    {
     "name": "stdout",
     "output_type": "stream",
     "text": [
      "Now processing cell number 0\n"
     ]
    },
    {
     "name": "stderr",
     "output_type": "stream",
     "text": [
      "    21526991 [spikepursuit.py:     adaptive_thresh():628] [25628] Selecting top 100 spikes for template\n",
      "    21536165 [spikepursuit.py:     adaptive_thresh():628] [25628] Selecting top 100 spikes for template\n",
      "    21537187 [spikepursuit.py:     adaptive_thresh():628] [25628] Selecting top 100 spikes for template\n",
      "    21538766 [volparams.py:                 set():95] [25628] Changing key fnames in group data from Z:/Data for optimizing Volpy/Negative dye/Ace_mNeon2_500Hz_7mW.tif to Z:/Data for optimizing Volpy/Negative dye/Ace_mNeon2_500Hz_15mW_1.tif\n",
      "    21538768 [volparams.py:                 set():95] [25628] Changing key fnames in group data from None to Z:/Data for optimizing Volpy/Negative dye/Ace_mNeon2_500Hz_7mW.tif\n",
      "    21538769 [volparams.py:                 set():95] [25628] Changing key fr in group data from None to 500\n",
      "    21538779 [volparams.py:                 set():95] [25628] Changing key ROIs in group data from None to [[[0. 0. 0. ... 0. 0. 0.]\n",
      "  [0. 0. 0. ... 0. 0. 0.]\n",
      "  [0. 0. 0. ... 0. 0. 0.]\n",
      "  ...\n",
      "  [0. 0. 0. ... 0. 0. 0.]\n",
      "  [0. 0. 0. ... 0. 0. 0.]\n",
      "  [0. 0. 0. ... 0. 0. 0.]]]\n",
      "    21538780 [volparams.py:                 set():95] [25628] Changing key index in group data from None to [0]\n",
      "    21538783 [volparams.py:                 set():95] [25628] Changing key context_size in group volspike from 35 to 70\n",
      "    21538784 [volparams.py:                 set():95] [25628] Changing key sub_freq in group volspike from 20 to 10\n"
     ]
    },
    {
     "name": "stdout",
     "output_type": "stream",
     "text": [
      "Now processing cell number 0\n"
     ]
    },
    {
     "name": "stderr",
     "output_type": "stream",
     "text": [
      "    21557251 [spikepursuit.py:     adaptive_thresh():628] [25628] Selecting top 100 spikes for template\n",
      "    21564282 [spikepursuit.py:     adaptive_thresh():628] [25628] Selecting top 100 spikes for template\n",
      "    21564980 [spikepursuit.py:     adaptive_thresh():628] [25628] Selecting top 100 spikes for template\n",
      "    21566219 [volparams.py:                 set():95] [25628] Changing key fnames in group data from Z:/Data for optimizing Volpy/Negative dye/Ace_mNeon2_500Hz_7mW.tif to Z:/Data for optimizing Volpy/Negative dye/Ace_mNeon2_500Hz_15mW_2.tif\n",
      "    21566221 [volparams.py:                 set():95] [25628] Changing key fnames in group data from None to Z:/Data for optimizing Volpy/Negative dye/Ace_mNeon2_500Hz_7mW.tif\n",
      "    21566224 [volparams.py:                 set():95] [25628] Changing key fr in group data from None to 500\n",
      "    21566237 [volparams.py:                 set():95] [25628] Changing key ROIs in group data from None to [[[0. 0. 0. ... 0. 0. 0.]\n",
      "  [0. 0. 0. ... 0. 0. 0.]\n",
      "  [0. 0. 0. ... 0. 0. 0.]\n",
      "  ...\n",
      "  [0. 0. 0. ... 0. 0. 0.]\n",
      "  [0. 0. 0. ... 0. 0. 0.]\n",
      "  [0. 0. 0. ... 0. 0. 0.]]]\n",
      "    21566239 [volparams.py:                 set():95] [25628] Changing key index in group data from None to [0]\n",
      "    21566240 [volparams.py:                 set():95] [25628] Changing key context_size in group volspike from 35 to 70\n",
      "    21566241 [volparams.py:                 set():95] [25628] Changing key sub_freq in group volspike from 20 to 10\n"
     ]
    },
    {
     "name": "stdout",
     "output_type": "stream",
     "text": [
      "Now processing cell number 0\n"
     ]
    },
    {
     "name": "stderr",
     "output_type": "stream",
     "text": [
      "    21585892 [spikepursuit.py:     adaptive_thresh():628] [25628] Selecting top 100 spikes for template\n",
      "    21594682 [spikepursuit.py:     adaptive_thresh():628] [25628] Selecting top 100 spikes for template\n",
      "    21595662 [spikepursuit.py:     adaptive_thresh():628] [25628] Selecting top 100 spikes for template\n",
      "    21597201 [volparams.py:                 set():95] [25628] Changing key fnames in group data from Z:/Data for optimizing Volpy/Negative dye/Ace_mNeon2_500Hz_7mW.tif to Z:/Data for optimizing Volpy/Negative dye/Ace_mNeon2_500Hz_30mW_1.tif\n",
      "    21597204 [volparams.py:                 set():95] [25628] Changing key fnames in group data from None to Z:/Data for optimizing Volpy/Negative dye/Ace_mNeon2_500Hz_7mW.tif\n",
      "    21597206 [volparams.py:                 set():95] [25628] Changing key fr in group data from None to 500\n",
      "    21597218 [volparams.py:                 set():95] [25628] Changing key ROIs in group data from None to [[[0. 0. 0. ... 0. 0. 0.]\n",
      "  [0. 0. 0. ... 0. 0. 0.]\n",
      "  [0. 0. 0. ... 0. 0. 0.]\n",
      "  ...\n",
      "  [0. 0. 0. ... 0. 0. 0.]\n",
      "  [0. 0. 0. ... 0. 0. 0.]\n",
      "  [0. 0. 0. ... 0. 0. 0.]]]\n",
      "    21597220 [volparams.py:                 set():95] [25628] Changing key index in group data from None to [0]\n",
      "    21597221 [volparams.py:                 set():95] [25628] Changing key context_size in group volspike from 35 to 70\n",
      "    21597222 [volparams.py:                 set():95] [25628] Changing key sub_freq in group volspike from 20 to 10\n"
     ]
    },
    {
     "name": "stdout",
     "output_type": "stream",
     "text": [
      "Now processing cell number 0\n"
     ]
    },
    {
     "name": "stderr",
     "output_type": "stream",
     "text": [
      "    21614648 [spikepursuit.py:     adaptive_thresh():628] [25628] Selecting top 100 spikes for template\n",
      "    21620956 [spikepursuit.py:     adaptive_thresh():628] [25628] Selecting top 100 spikes for template\n",
      "    21621827 [spikepursuit.py:     adaptive_thresh():628] [25628] Selecting top 100 spikes for template\n",
      "    21623102 [volparams.py:                 set():95] [25628] Changing key fnames in group data from Z:/Data for optimizing Volpy/Negative dye/Ace_mNeon2_500Hz_7mW.tif to Z:/Data for optimizing Volpy/Negative dye/Ace_mNeon2_500Hz_30mW_2.tif\n",
      "    21623104 [volparams.py:                 set():95] [25628] Changing key fnames in group data from None to Z:/Data for optimizing Volpy/Negative dye/Ace_mNeon2_500Hz_7mW.tif\n",
      "    21623105 [volparams.py:                 set():95] [25628] Changing key fr in group data from None to 500\n",
      "    21623109 [volparams.py:                 set():95] [25628] Changing key ROIs in group data from None to [[[0. 0. 0. ... 0. 0. 0.]\n",
      "  [0. 0. 0. ... 0. 0. 0.]\n",
      "  [0. 0. 0. ... 0. 0. 0.]\n",
      "  ...\n",
      "  [0. 0. 0. ... 0. 0. 0.]\n",
      "  [0. 0. 0. ... 0. 0. 0.]\n",
      "  [0. 0. 0. ... 0. 0. 0.]]]\n",
      "    21623109 [volparams.py:                 set():95] [25628] Changing key index in group data from None to [0]\n",
      "    21623110 [volparams.py:                 set():95] [25628] Changing key context_size in group volspike from 35 to 70\n",
      "    21623110 [volparams.py:                 set():95] [25628] Changing key sub_freq in group volspike from 20 to 10\n"
     ]
    },
    {
     "name": "stdout",
     "output_type": "stream",
     "text": [
      "Now processing cell number 0\n"
     ]
    },
    {
     "name": "stderr",
     "output_type": "stream",
     "text": [
      "    21639025 [spikepursuit.py:     adaptive_thresh():628] [25628] Selecting top 100 spikes for template\n",
      "    21646107 [spikepursuit.py:     adaptive_thresh():628] [25628] Selecting top 100 spikes for template\n",
      "    21646847 [spikepursuit.py:     adaptive_thresh():628] [25628] Selecting top 100 spikes for template\n",
      "    21648208 [volparams.py:                 set():95] [25628] Changing key fnames in group data from Z:/Data for optimizing Volpy/Negative dye/Ace_mNeon2_500Hz_7mW.tif to Z:/Data for optimizing Volpy/Negative dye/Ace_mNeon2_1000Hz_15mW.tif\n",
      "    21648209 [volparams.py:                 set():95] [25628] Changing key fnames in group data from None to Z:/Data for optimizing Volpy/Negative dye/Ace_mNeon2_500Hz_7mW.tif\n",
      "    21648210 [volparams.py:                 set():95] [25628] Changing key fr in group data from None to 500\n",
      "    21648221 [volparams.py:                 set():95] [25628] Changing key ROIs in group data from None to [[[0. 0. 0. ... 0. 0. 0.]\n",
      "  [0. 0. 0. ... 0. 0. 0.]\n",
      "  [0. 0. 0. ... 0. 0. 0.]\n",
      "  ...\n",
      "  [0. 0. 0. ... 0. 0. 0.]\n",
      "  [0. 0. 0. ... 0. 0. 0.]\n",
      "  [0. 0. 0. ... 0. 0. 0.]]]\n",
      "    21648222 [volparams.py:                 set():95] [25628] Changing key index in group data from None to [0]\n",
      "    21648224 [volparams.py:                 set():95] [25628] Changing key context_size in group volspike from 35 to 70\n",
      "    21648225 [volparams.py:                 set():95] [25628] Changing key sub_freq in group volspike from 20 to 10\n"
     ]
    },
    {
     "name": "stdout",
     "output_type": "stream",
     "text": [
      "Now processing cell number 0\n"
     ]
    },
    {
     "name": "stderr",
     "output_type": "stream",
     "text": [
      "    21664907 [spikepursuit.py:     adaptive_thresh():628] [25628] Selecting top 100 spikes for template\n",
      "    21671040 [spikepursuit.py:     adaptive_thresh():628] [25628] Selecting top 100 spikes for template\n",
      "    21671812 [spikepursuit.py:     adaptive_thresh():628] [25628] Selecting top 100 spikes for template\n"
     ]
    }
   ],
   "source": [
    "save = True               # Save VOLPY results\n",
    "show_final = False         # Show final trace\n",
    "for i in range(0,len(fnames)): \n",
    "    \n",
    "    if len(Neurons_path)>1:\n",
    "        with h5py.File(Neurons_path[i], 'r') as fl:\n",
    "            ROIs = fl['mov'][()]\n",
    "        ROIs = ROIs                                   # region of interests\n",
    "        index = list(range(len(ROIs)))                # index of neurons\n",
    "        \n",
    "        opts.set('volspike',{'ROIs': ROIs})\n",
    "        opts.set('volspike',{'index': index})\n",
    "    \n",
    "    opts.set('data',{'fnames': fnames[i]})\n",
    "\n",
    "    opts = volparams(params_dict=opts_dict)                                     \n",
    "    vpy = VOLPY(n_processes=1, dview=None, params=opts)\n",
    "    vpy.fit(n_processes=1, dview=None)\n",
    "    \n",
    "    # Show final output\n",
    "    if show_final == True:\n",
    "        img = np.mean(cm.load(fnames[i], subindices = slice(0,500,1)),0)\n",
    "        Xinds = np.where(np.any(ROIs[0] > 0, axis=1) > 0)[0]\n",
    "        Yinds = np.where(np.any(ROIs[0] > 0, axis=0) > 0)[0]\n",
    "        img = img[Xinds[0]:Xinds[-1] + 1, Yinds[0]:Yinds[-1] + 1]\n",
    "\n",
    "        utils.view_components(vpy.estimates, img,[int(0)])\n",
    "    \n",
    "    if save == True:\n",
    "        np.save(os.path.join(os.path.dirname(fnames[i]), os.path.basename(fnames[i]).split('.')[0] + '_Neurons_traces.npy'), vpy.estimates)"
   ]
  },
  {
   "cell_type": "markdown",
   "id": "0be98d8c-90f0-4146-bf01-2233c189e6b1",
   "metadata": {},
   "source": [
    "# Open saved files and use data\n",
    "\n",
    "Data is stored in .npy files. They should be opened as dictionaries and then the data stored should be the same as in Volpy package.\n",
    "Check Volpy paper to know remaining variables\n",
    "\n",
    "#### <b>Main keys:</b>\n",
    "<ul>\n",
    "    <li><b> raw_ROI: </b> Raw traces (t), weights (weights_init) and mean image (mean_im). </li> \n",
    "    <li><b> t: </b> Trace with final weights </li> \n",
    "    <li><b> ts: </b> Denoised trace with final weights </li> \n",
    "    <li><b> t_rec: </b> Final spikes </li> \n",
    "    <li><b> t_sub: </b> Trace of subthreshold signal with the given frequency </li> \n",
    "</ul>"
   ]
  },
  {
   "cell_type": "code",
   "execution_count": 73,
   "id": "2541feb7-ce3d-4dc5-9e96-2bba5073bd2a",
   "metadata": {},
   "outputs": [
    {
     "name": "stdout",
     "output_type": "stream",
     "text": [
      "Z:/Data for optimizing Volpy/Negative dye\\Neurons_traces.npy\n"
     ]
    },
    {
     "data": {
      "text/plain": [
       "[<matplotlib.lines.Line2D at 0x1e9934e80d0>]"
      ]
     },
     "execution_count": 73,
     "metadata": {},
     "output_type": "execute_result"
    },
    {
     "data": {
      "image/png": "[encoded data removed]",
      "text/plain": [
       "<Figure size 640x480 with 1 Axes>"
      ]
     },
     "metadata": {},
     "output_type": "display_data"
    }
   ],
   "source": [
    "n = 0 #Index of file\n",
    "Neurons_data = np.load(os.path.join(os.path.dirname(fnames[0]), 'Neurons_traces.npy'), allow_pickle = True)\n",
    "\n",
    "cell = 0  #index of cells. First cell has index 0\n",
    "\n",
    "raw_t = Neurons_data.item(cell).get('rawROI')[0].get('t')            # Raw signal\n",
    "t = Neurons_data.item(cell).get('t')                                 # Signal with final weights\n",
    "ts = Neurons_data.item(cell).get('ts')                               # Denoised signal\n",
    "t_rec = Neurons_data.item(cell).get('t_rec')                         # Spikes\n",
    "t_sub = Neurons_data.item(cell).get('t_sub')                         # Subthrehsold signals at mentioned frequency\n",
    "\n",
    "plt.plot(raw_t)"
   ]
  },
  {
   "cell_type": "code",
   "execution_count": null,
   "id": "56b70272-3a17-48d7-a809-93ca073b8b8e",
   "metadata": {},
   "outputs": [],
   "source": []
  }
 ],
 "metadata": {
  "kernelspec": {
   "display_name": "Python 3 (ipykernel)",
   "language": "python",
   "name": "python3"
  },
  "language_info": {
   "codemirror_mode": {
    "name": "ipython",
    "version": 3
   },
   "file_extension": ".py",
   "mimetype": "text/x-python",
   "name": "python",
   "nbconvert_exporter": "python",
   "pygments_lexer": "ipython3",
   "version": "3.10.8"
  }
 },
 "nbformat": 4,
 "nbformat_minor": 5
}
