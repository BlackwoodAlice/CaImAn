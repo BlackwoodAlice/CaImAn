{
 "cells": [
  {
   "cell_type": "markdown",
   "id": "072fc829-a42d-46a3-bf2a-c1b0a0e1ef95",
   "metadata": {},
   "source": [
    "# Motion correction + Online CNMF/CNMF_E code\n",
    "\n",
    "Complete pipeline for online processing using CaImAn Online, but with motion correction and CNMF/CNMF_E separate instead of done simultaneously.\n",
    "\n",
    "This allows to visualize if motion correction was well performed prior to start CNMF_E. If parameters are set and recordings are stable, one can use just OnACID"
   ]
  },
  {
   "cell_type": "code",
   "execution_count": 1,
   "id": "4797d009-382c-46b2-b2f0-4428296b579c",
   "metadata": {},
   "outputs": [
    {
     "name": "stderr",
     "output_type": "stream",
     "text": [
      "C:\\Users\\Gebruiker\\AppData\\Local\\Temp\\ipykernel_11172\\4207315497.py:5: DeprecationWarning: `magic(...)` is deprecated since IPython 0.13 (warning added in 8.1), use run_line_magic(magic_name, parameter_s).\n",
      "  get_ipython().magic('load_ext autoreload')\n",
      "C:\\Users\\Gebruiker\\AppData\\Local\\Temp\\ipykernel_11172\\4207315497.py:6: DeprecationWarning: `magic(...)` is deprecated since IPython 0.13 (warning added in 8.1), use run_line_magic(magic_name, parameter_s).\n",
      "  get_ipython().magic('autoreload 2')\n"
     ]
    }
   ],
   "source": [
    "import logging\n",
    "try:\n",
    "    if __IPYTHON__:\n",
    "        # this is used for debugging purposes only. allows to reload classes when changed\n",
    "        get_ipython().magic('load_ext autoreload')\n",
    "        get_ipython().magic('autoreload 2')\n",
    "except NameError:\n",
    "    pass\n",
    "\n",
    "logging.basicConfig(format=\n",
    "                          \"%(relativeCreated)12d [%(filename)s:%(funcName)20s():%(lineno)s] [%(process)d] %(message)s\",\n",
    "                    # filename=\"/tmp/caiman.log\",\n",
    "                    level=logging.INFO)\n",
    "\n",
    "import numpy as np\n",
    "import os\n",
    "\n",
    "import caiman as cm\n",
    "from caiman.source_extraction import cnmf\n",
    "import matplotlib.pyplot as plt"
   ]
  },
  {
   "cell_type": "markdown",
   "id": "5386ba3e-e7f1-454a-9240-15ca910592b2",
   "metadata": {},
   "source": [
    "# First import data and set parameters for motion_correction\n",
    "\n",
    "Complete pipeline for online processing using CaImAn Online, but with motion correction and CNMF/CNMF_E separate instead of done simultaneously.\n",
    "\n",
    "This allows to visualize if motion correction was well performed prior to start CNMF_E. If parameters are set and recordings are stable, one can use just OnACID"
   ]
  },
  {
   "cell_type": "code",
   "execution_count": 2,
   "id": "b8181e92-4fec-4f61-b45e-6692ae8edbda",
   "metadata": {
    "tags": []
   },
   "outputs": [
    {
     "name": "stderr",
     "output_type": "stream",
     "text": [
      "        9380 [params.py:                 set():976] [11172] Changing key fnames in group data from None to ['Z:/Shared/For_Rui/Data_20230214/12937-06AI_1DPI_S.avi', 'Z:/Shared/For_Rui/Data_20230214/12937-06AI_3DPI_S.avi', 'Z:/Shared/For_Rui/Data_20230214/12937-06AI_6DPI_S.avi', 'Z:/Shared/For_Rui/Data_20230214/12937-06AI2_1DPI_S.avi', 'Z:/Shared/For_Rui/Data_20230214/12937-06AI2_3DPI_S.avi', 'Z:/Shared/For_Rui/Data_20230214/12937-06AI2_6DPI_S.avi', 'Z:/Shared/For_Rui/Data_20230214/12937-06BI_01S.avi', 'Z:/Shared/For_Rui/Data_20230214/12937-06BI_02S.avi']\n",
      "        9380 [params.py:                 set():976] [11172] Changing key max_shifts_online in group online from 10 to 40\n",
      "        9381 [params.py:                 set():976] [11172] Changing key init_batch in group online from 200 to 500\n",
      "        9382 [params.py:                 set():976] [11172] Changing key ds_factor in group online from 1 to 2\n",
      "        9382 [params.py:                 set():976] [11172] Changing key pw_rigid in group motion from False to True\n",
      "        9384 [params.py:                 set():976] [11172] Changing key overlaps in group motion from (32, 32) to (24, 24)\n",
      "        9385 [params.py:                 set():976] [11172] Changing key max_deviation_rigid in group motion from 3 to 10\n"
     ]
    }
   ],
   "source": [
    "#Set data as a list\n",
    "fnames = [\"Z:/Shared/For_Rui/Data_20230214/12937-06AI_1DPI_S.avi\",\n",
    "         \"Z:/Shared/For_Rui/Data_20230214/12937-06AI_3DPI_S.avi\",\n",
    "         \"Z:/Shared/For_Rui/Data_20230214/12937-06AI_6DPI_S.avi\",\n",
    "         \"Z:/Shared/For_Rui/Data_20230214/12937-06AI2_1DPI_S.avi\",\n",
    "         \"Z:/Shared/For_Rui/Data_20230214/12937-06AI2_3DPI_S.avi\",\n",
    "         \"Z:/Shared/For_Rui/Data_20230214/12937-06AI2_6DPI_S.avi\",\n",
    "         \"Z:/Shared/For_Rui/Data_20230214/12937-06BI_01S.avi\",\n",
    "         \"Z:/Shared/For_Rui/Data_20230214/12937-06BI_02S.avi\"]\n",
    "\n",
    "if isinstance(fnames,str):\n",
    "    fnames = [fnames]\n",
    "\n",
    "    ##############################################################################################################\n",
    "#Set parameters\n",
    "gSig_filt = None                    #Gaussian filter size. It should normally be half the neuron size. Set it to none for 2-photon\n",
    "pw_rigid = True                     #True if piece-wise motion correction should be used\n",
    "strides = (96, 96)                  #Patch sizes in pixels.\n",
    "overlaps = (24, 24)                 #Overlap between patches in pixels. This value normally does not have to be very high.\n",
    "max_shifts_online = 40              #Maximum rigid shifts\n",
    "max_deviation_rigid = 10            #Maximum deviation in pixels between rigid shifts and shifts of individual patches\n",
    "border_nan = 'copy'                 #flag for allowing NaN in the boundaries. True allows NaN, whereas 'copy' copies the \n",
    "                                            #value of the nearest data point.\n",
    "shifts_opencv = True                #flag for applying shifts using cubic interpolation (otherwise FFT)\n",
    "init_batch = 500                    #initial batch \n",
    "ds_factor = 2                       #Spatial binning factor. Have in account that if spatial binning is used, all values above are unaltered.\n",
    "normalize = True                    #Whether to normalize each frame prior to online processing. Set it to False for 2 photon\n",
    "\n",
    "params_dict = {'fnames': fnames,\n",
    "               'gSig_filt': gSig_filt,\n",
    "               'pw_rigid': pw_rigid,\n",
    "               'strides': strides,\n",
    "               'overlaps': overlaps,\n",
    "               'max_shifts_online': max_shifts_online,\n",
    "               'max_deviation_rigid': max_deviation_rigid,\n",
    "               'border_nan': border_nan,\n",
    "               'shifts_opencv': shifts_opencv,\n",
    "               'init_batch': init_batch,\n",
    "               'ds_factor': ds_factor}\n",
    "opts = cnmf.params.CNMFParams(params_dict=params_dict)\n",
    "\n",
    "nbits = np.float16                          #Number of bits in which to save final images as tiff files.\n",
    "init_template = None                #If an initial template can be provided, this should be where to set this variable into \n",
    "                                           #the template 2D numpy array.\n"
   ]
  },
  {
   "cell_type": "markdown",
   "id": "7880a4fb-50ce-4ae0-9791-8329241b2c19",
   "metadata": {},
   "source": [
    "# Motion correction"
   ]
  },
  {
   "cell_type": "code",
   "execution_count": null,
   "id": "b43a236d-9b80-4d8b-86f2-c058f0f64789",
   "metadata": {},
   "outputs": [
    {
     "name": "stderr",
     "output_type": "stream",
     "text": [
      "       13067 [params.py:                 set():976] [11172] Changing key fnames in group data from ['Z:/Shared/For_Rui/Data_20230214/12937-06AI_1DPI_S.avi', 'Z:/Shared/For_Rui/Data_20230214/12937-06AI_3DPI_S.avi', 'Z:/Shared/For_Rui/Data_20230214/12937-06AI_6DPI_S.avi', 'Z:/Shared/For_Rui/Data_20230214/12937-06AI2_1DPI_S.avi', 'Z:/Shared/For_Rui/Data_20230214/12937-06AI2_3DPI_S.avi', 'Z:/Shared/For_Rui/Data_20230214/12937-06AI2_6DPI_S.avi', 'Z:/Shared/For_Rui/Data_20230214/12937-06BI_01S.avi', 'Z:/Shared/For_Rui/Data_20230214/12937-06BI_02S.avi'] to ['Z:/Shared/For_Rui/Data_20230214/12937-06AI_1DPI_S.avi']\n",
      "       13269 [online_cnmf.py:motion_correction_online():944] [11172] Analyzing Z:/Shared/For_Rui/Data_20230214/12937-06AI_1DPI_S.avi\n"
     ]
    }
   ],
   "source": [
    "cnm = cnmf.online_cnmf.OnACID(params=opts)\n",
    "\n",
    "for i in range(0,len(fnames)):\n",
    "    cnm.params.set('data',{'fnames':[fnames[i]]})\n",
    "    cnm.motion_correction_online(template = init_template, save_movie=True,nbits=nbits)\n",
    "\n",
    "    fnames[i] = os.path.splitext(fnames[i])[0]+str('_MC.tif')"
   ]
  },
  {
   "cell_type": "markdown",
   "id": "816b17d7-6e51-4c79-9c4e-bf4a36e40922",
   "metadata": {},
   "source": [
    "# Set up parameters for CNMF or CNMF_E\n",
    "\n",
    "Online calcium analysis can be done in patches. However that is normally not necessary.\n",
    "In this case, patches are not being used.\n",
    "Moreover, the preprocessing of images is removed in this example.\n",
    "\n",
    "For a good online analysis, it is important to define a good initialization. That depends on some variables such as:\n",
    "\n",
    "<ul>\n",
    "    <li><b>init_batch: </b> It says the number of frames used for initializing the spatial components. Decrease if the kernel dies due to lack of memory.</li>\n",
    "    <li><b>K: </b> Number of components to find in initialization. If set to None, the code tries to find based on a matemathical calculus as if running the normal CNMF pipeline.</li>\n",
    "    <li><b>gSig: </b> Average radius of neurons. This value should be set to None in 2-photon data where neurons are too small.</li>\n",
    "    <li><b>gSiz: </b> Half size of neuron bounding box. This value does not need to be initialized unless when one wants to detect non round shapes, such as dendrites.</li>\n",
    "    <li><b>center_psf: Set true for 1 photon data. Set false for 2 photon data </b></li>\n",
    "    <li><b>method_init: </b> Method for detect initialspatial components. <b>Should be set as 'corr_pnr' for 1 photon and 'greedy_roi' for 2 photon. </b></li>\n",
    "    <li><b>init_method: </b> Method for initialize components. It can be 'bare', 'seeded' or 'cnmf'. </li>\n",
    "</ul>"
   ]
  },
  {
   "cell_type": "code",
   "execution_count": null,
   "id": "98b9f48e-df98-4487-ab66-636224688177",
   "metadata": {},
   "outputs": [],
   "source": [
    "#INITIALIZATION VARIABLES\n",
    "####################################################################################################################################################\n",
    "init_batch = 3000                                                   # number of frames to initialize components\n",
    "K = 2                                                               # initial number of components\n",
    "center_psf = True                                                   # wther to use 1 photon or 2 photon analysis\n",
    "ssub = 2                                                            # satial subsampling\n",
    "ssub_B = 2                                                          # downsampling factor for background during corr_pnr\n",
    "tsub = 1                                                            # temporal subsampling\n",
    "nb = 1                                                              # number of background components. Set to 2 if background fluctuates a lot.\n",
    "method_init = 'corr_pnr'                                            # Method for initialize spatial components. Use 'greedy_roi' for 2-photon and 'corr_pnr'for 1 photon\n",
    "init_method = 'cnmf'                                                # initialization method. It can be 'bare', 'cnmf' or 'seeded'\n",
    "ring_size_factor = 1.5                                              # Radius of ring (*gSig) for computing backgroud corr_pnr\n",
    "\n",
    "#SPATIAL COMPONENTS VARIABLES\n",
    "####################################################################################################################################################\n",
    "gSig = (4,4)                                                        # expected half size of neurons\n",
    "#gSiz = (9,9)                                                       # half-size of bounding box for each neuron. This value is by default 2*gSig + 1\n",
    "min_corr = 0.8                                                      # minimum correlation value for accepting spatial footprint in corr_pnr method\n",
    "min_pnr = 0.7                                                       # minimum peak to noise ratio value for accepting spatial footprint in corr_pnr method\n",
    "method_exp = 'dilate'                                               # method for expanding footprint of spatial components: 'ellipse' or 'dilate'\n",
    "dist = 3                                                            # expansion factor of ellipse\n",
    "\n",
    "#TEMPORAL COMPONENTS VARIABLES\n",
    "####################################################################################################################################################\n",
    "fr = 15                                                             # frame rate (Hz)\n",
    "decay_time = 0.4                                                    # approximate length of transient event in seconds\n",
    "p = 1                                                               # order of AR indicator dynamics\n",
    "s_min = None                                                        # Minimum spike threshold amplitude (computed in the code if used). If negative is based on the absolute value\n",
    "\n",
    "#ONLINE PROCESS VARIABLES\n",
    "####################################################################################################################################################\n",
    "expected_comps = 500                                                # total expected components\n",
    "min_SNR = 1                                                         # minimum SNR for accepting new components\n",
    "rval_thr = 0.90                                                     # correlation threshold for new component inclusion\n",
    "#sniper_mode = True                                                 # flag using a CNN to detect new neurons (o/w space correlation is used)\n",
    "expected_comps = 500                                                # maximum number of expected components used for memory pre-allocation (exaggerate here)\n",
    "dist_shape_update = True                                            # flag for updating shapes in a distributed way\n",
    "min_num_trial = 10                                                  # number of candidate components per frame     \n",
    "epochs = 2                                                          # number of passes over the data\n",
    "show_movie = False                                                  # show the movie with the results as the data gets processed\n",
    "stop_detection = False                                              # stop detection on the last epoch\n",
    "\n",
    "params_dict = {'fnames': fnames,\n",
    "               'fr': fr,\n",
    "               'decay_time': decay_time,\n",
    "               'gSig': gSig,\n",
    "               'p': p,\n",
    "               'min_SNR': min_SNR,\n",
    "               'rval_thr': rval_thr,\n",
    "               'ds_factor': ds_factor,\n",
    "               'nb': gnb,\n",
    "               'motion_correct': False\n",
    "               'init_batch': init_batch,\n",
    "               'init_method': 'bare',\n",
    "               'normalize': True,\n",
    "               'expected_comps': expected_comps,\n",
    "               'sniper_mode': sniper_mode,\n",
    "               'dist_shape_update' : dist_shape_update,\n",
    "               'min_num_trial': min_num_trial,\n",
    "               'K': K,\n",
    "               'epochs': epochs,\n",
    "               'max_shifts_online': max_shifts_online,\n",
    "               'pw_rigid': pw_rigid,\n",
    "               'show_movie': show_movie}\n",
    "opts = cnmf.params.CNMFParams(params_dict=params_dict)"
   ]
  },
  {
   "cell_type": "code",
   "execution_count": null,
   "id": "0c00edc6-590a-4fec-87ba-016325bffd14",
   "metadata": {},
   "outputs": [],
   "source": []
  }
 ],
 "metadata": {
  "kernelspec": {
   "display_name": "Python 3 (ipykernel)",
   "language": "python",
   "name": "python3"
  },
  "language_info": {
   "codemirror_mode": {
    "name": "ipython",
    "version": 3
   },
   "file_extension": ".py",
   "mimetype": "text/x-python",
   "name": "python",
   "nbconvert_exporter": "python",
   "pygments_lexer": "ipython3",
   "version": "3.10.8"
  }
 },
 "nbformat": 4,
 "nbformat_minor": 5
}
