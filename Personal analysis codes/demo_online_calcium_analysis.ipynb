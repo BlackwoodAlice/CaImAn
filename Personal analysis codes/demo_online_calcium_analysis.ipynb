{
 "cells": [
  {
   "cell_type": "markdown",
   "id": "072fc829-a42d-46a3-bf2a-c1b0a0e1ef95",
   "metadata": {
    "tags": []
   },
   "source": [
    "# Motion correction + Online CNMF/CNMF_E code\n",
    "\n",
    "Complete pipeline for online processing using CaImAn Online, but with motion correction and CNMF/CNMF_E separate instead of done simultaneously.\n",
    "\n",
    "This allows to visualize if motion correction was well performed prior to start CNMF_E. If parameters are set and recordings are stable, one can use just OnACID, bu may not be advisable."
   ]
  },
  {
   "cell_type": "markdown",
   "id": "614d6dd3-8b48-48cb-aa0d-6a1e258581b9",
   "metadata": {
    "tags": []
   },
   "source": [
    "## Initialization\n",
    "\n",
    "### Import packages"
   ]
  },
  {
   "cell_type": "code",
   "execution_count": 1,
   "id": "4797d009-382c-46b2-b2f0-4428296b579c",
   "metadata": {},
   "outputs": [
    {
     "name": "stderr",
     "output_type": "stream",
     "text": [
      "C:\\Users\\Gebruiker\\AppData\\Local\\Temp\\ipykernel_8344\\1931500065.py:5: DeprecationWarning: `magic(...)` is deprecated since IPython 0.13 (warning added in 8.1), use run_line_magic(magic_name, parameter_s).\n",
      "  get_ipython().magic('load_ext autoreload')\n",
      "C:\\Users\\Gebruiker\\AppData\\Local\\Temp\\ipykernel_8344\\1931500065.py:6: DeprecationWarning: `magic(...)` is deprecated since IPython 0.13 (warning added in 8.1), use run_line_magic(magic_name, parameter_s).\n",
      "  get_ipython().magic('autoreload 2')\n"
     ]
    }
   ],
   "source": [
    "import logging\n",
    "try:\n",
    "    if __IPYTHON__:\n",
    "        # this is used for debugging purposes only. allows to reload classes when changed\n",
    "        get_ipython().magic('load_ext autoreload')\n",
    "        get_ipython().magic('autoreload 2')\n",
    "except NameError:\n",
    "    pass\n",
    "\n",
    "logging.basicConfig(format=\n",
    "                          \"%(relativeCreated)12d [%(filename)s:%(funcName)20s():%(lineno)s] [%(process)d] %(message)s\",\n",
    "                    # filename=\"/tmp/caiman.log\",\n",
    "                    level=logging.INFO)\n",
    "\n",
    "import numpy as np\n",
    "import os\n",
    "\n",
    "import caiman as cm\n",
    "import mesmerize_core as mescore\n",
    "from caiman.source_extraction import cnmf\n",
    "import matplotlib.pyplot as plt\n",
    "from fastplotlib import ImageWidget, Plot, GridPlot\n",
    "from fastplotlib.graphics.line_slider import LineSlider\n",
    "from ipywidgets import VBox, IntSlider, Layout\n",
    "\n",
    "import cv2"
   ]
  },
  {
   "cell_type": "markdown",
   "id": "5386ba3e-e7f1-454a-9240-15ca910592b2",
   "metadata": {
    "tags": []
   },
   "source": [
    "### Set data\n",
    "\n",
    "Data can be set in a loop but should be set as a list and not as a string. \n",
    "Otherwise the code will turn them into a list.\n",
    "\n",
    "Using '/' instead of '\\\\' allows to pass this code among operative systems. Linux and "
   ]
  },
  {
   "cell_type": "code",
   "execution_count": 2,
   "id": "18e65535-9282-48f8-be2d-8dd40bc343dd",
   "metadata": {},
   "outputs": [],
   "source": [
    "fnames = ['Z:/Shared/For_Rui/original images of one session/MC Results/12937-06AI2_3DPI_S_MC.tif']\n",
    "\n",
    "if isinstance(fnames,str):\n",
    "    fnames = [fnames]\n",
    "    \n",
    "for i in range(0,len(fnames)):\n",
    "    if os.path.exists(fnames[i]) == False:\n",
    "        logging.error('File '+ str(i+1) + ': '+fnames[i] + ' does not exits! Please correct the filename.')"
   ]
  },
  {
   "cell_type": "markdown",
   "id": "70602ec5-fe48-48f9-9cbd-78f7641fd6fa",
   "metadata": {
    "tags": []
   },
   "source": [
    "## Motion correction\n",
    "\n",
    "### Set motion correction parameters.\n",
    "\n",
    "All the parameters are commented. However, the most important parameters in this code are:\n",
    "\n",
    "<ul>\n",
    "    <li><b> gSig_filt: </b> Gaussian filter. Should normally be half the neuron size.</li>\n",
    "    <li><b> pw_rigid: </b> Set True for piece-wise motion correction.</li>\n",
    "    <li><b> max_shifts_online: </b> Maximum rigid shifts. It should not be huge to not have major problems in the updated templates.</li>\n",
    "</ul>"
   ]
  },
  {
   "cell_type": "code",
   "execution_count": null,
   "id": "b8181e92-4fec-4f61-b45e-6692ae8edbda",
   "metadata": {
    "tags": []
   },
   "outputs": [],
   "source": [
    "##############################################################################################################\n",
    "#Set parameters\n",
    "gSig_filt = (9,9)                 # Gaussian filter size. It should normally be half the neuron size.\n",
    "pw_rigid = False                    # True if piece-wise motion correction should be used\n",
    "strides = (300, 180)                  # Patch sizes in pixels.\n",
    "overlaps = (24, 24)                 # Overlap between patches in pixels. This value normally does not have to be very high.\n",
    "max_shifts_online = 50              # Maximum rigid shifts\n",
    "max_deviation_rigid = 10            # Maximum deviation in pixels between rigid shifts and shifts of individual patches\n",
    "border_nan = 'copy'                 # Flag for allowing NaN in the boundaries. True allows NaN, whereas 'copy' copies the value of the nearest data point.\n",
    "shifts_opencv = True                # Flag for applying shifts using cubic interpolation (otherwise FFT)\n",
    "init_batch = 500                    # Initial batch \n",
    "ds_factor = 1                       # Spatial binning factor. Have in account that if spatial binning is used, all values above are unaltered.\n",
    "normalize = False                   # Whether to normalize each frame prior to online processing. Set it to False, otherwise results may be wierd sometimes\n",
    "\n",
    "params_dict = {'fnames': fnames,\n",
    "               'gSig_filt': gSig_filt,\n",
    "               'pw_rigid': pw_rigid,\n",
    "               'strides': strides,\n",
    "               'overlaps': overlaps,\n",
    "               'max_shifts_online': max_shifts_online,\n",
    "               'max_deviation_rigid': max_deviation_rigid,\n",
    "               'border_nan': border_nan,\n",
    "               'shifts_opencv': shifts_opencv,\n",
    "               'init_batch': init_batch,\n",
    "               'ds_factor': ds_factor,\n",
    "               'normalize': normalize}\n",
    "\n",
    "#Set parameters\n",
    "opts = cnmf.params.CNMFParams(params_dict=params_dict)\n",
    "cnm = cnmf.online_cnmf.OnACID(params=opts)  \n",
    "\n",
    "nbits = np.uint8                   # Number of bits in which to save final images as tiff files.\n",
    "init_template = None                 # If an initial template can be provided, this should be where to set this variable into the template 2D numpy array."
   ]
  },
  {
   "cell_type": "markdown",
   "id": "7880a4fb-50ce-4ae0-9791-8329241b2c19",
   "metadata": {},
   "source": [
    "### Run motion correction online in each file.\n",
    "\n",
    "This code uses the same template for 2nd and subsequent files if <b> reuse_template </b> is set to True"
   ]
  },
  {
   "cell_type": "code",
   "execution_count": null,
   "id": "b43a236d-9b80-4d8b-86f2-c058f0f64789",
   "metadata": {},
   "outputs": [],
   "source": [
    "reuse_template = False\n",
    "MCfnames = fnames.copy()\n",
    "\n",
    "for i in range(0,len(fnames)):\n",
    "    cnm.params.set('data',{'fnames':[fnames[i]]})\n",
    "    cnm.motion_correction_online(template = init_template, save_movie=True,nbits=nbits)\n",
    "\n",
    "    MCfnames[i] = os.path.join(os.path.dirname(fnames[i]),'MC Results', os.path.splitext(os.path.basename(fnames[i]))[0]+str('_MC.tif'))\n",
    "    \n",
    "    if reuse_template:\n",
    "        init_template = cm.load(os.path.join(os.path.dirname(fnames[i]), 'MC_results', 'MC_templates.tif'))[-1]"
   ]
  },
  {
   "cell_type": "markdown",
   "id": "4285ad02-3ba5-4245-a661-b096710f3fd3",
   "metadata": {
    "tags": []
   },
   "source": [
    "# Check motion corrected file\n",
    "\n",
    "If you had a list of several files, select the index of files to compare (the first file has index=0)."
   ]
  },
  {
   "cell_type": "code",
   "execution_count": null,
   "id": "ca6d8f9c-ad32-4b63-85b4-335eb02f3e7d",
   "metadata": {},
   "outputs": [],
   "source": [
    "i = 0                         #Index of files to compare\n",
    "\n",
    "originalMovie = mescore.movie_readers.default_reader(fnames[i])\n",
    "MC_movie = mescore.movie_readers.default_reader(MCfnames[i])\n",
    "\n",
    "mcorr_iw = ImageWidget(\n",
    "    data=[originalMovie, MC_movie], \n",
    "    vmin_vmax_sliders=True, \n",
    "    cmap=\"gray\"\n",
    ")\n",
    "\n",
    "mcorr_iw.show()"
   ]
  },
  {
   "cell_type": "markdown",
   "id": "b9ffc9c8-094f-4c6f-b65e-6b94a5ba7158",
   "metadata": {},
   "source": [
    "## Close Canvas to not make computer slow"
   ]
  },
  {
   "cell_type": "code",
   "execution_count": null,
   "id": "a899093f-69e8-45cd-babb-756418113afa",
   "metadata": {},
   "outputs": [],
   "source": [
    "mcorr_iw.plot.canvas.close()"
   ]
  },
  {
   "cell_type": "markdown",
   "id": "816b17d7-6e51-4c79-9c4e-bf4a36e40922",
   "metadata": {
    "tags": []
   },
   "source": [
    "# Set up parameters for CNMF and CNMF_E\n",
    "\n",
    "<b> Below you have parameters optimized for 1-photon and 2-photon separatelly. Choose the only that best suits you </>\n",
    "    \n",
    "Online calcium analysis can be done in patches. However that is normally not necessary.\n",
    "In this case, patches are not being used.\n",
    "Moreover, the preprocessing of images is removed in this example.\n",
    "\n",
    "For a good online analysis, it is important to define a good initialization. That depends on some variables such as:\n",
    "\n",
    "<ul>\n",
    "    <li><b>init_batch: </b> It says the number of frames used for initializing the spatial components. Decrease if the kernel dies due to lack of memory.</li>\n",
    "    <li><b>K: </b> Number of components to find in initialization. If set to None, the code tries to find based on a matemathical calculus as if running the normal CNMF pipeline.</li>\n",
    "    <li><b>gSig: </b> Average radius of neurons.</li>\n",
    "    <li><b>gSiz: </b> Half size of neuron bounding box. This value does not need to be initialized unless when one wants to detect non round shapes, such as dendrites.</li>\n",
    "    <li><b>center_psf: Set true for 1 photon data. Set false for 2 photon data </b></li>\n",
    "    <li><b>method_init: </b> Method for detect initialspatial components. <b>Should be set as 'corr_pnr' for 1 photon and 'greedy_roi' for 2 photon. </b></li>\n",
    "    <li><b>init_method: </b> Method for initialize components. <b>It can be 'bare' suitable for 1 photon, 'seeded' when neurons are already seeded or 'cnmf' suitable for 2 photon </b>. </li>\n",
    "</ul>"
   ]
  },
  {
   "cell_type": "markdown",
   "id": "c1b44009-9fe0-4cf2-8311-3bb84dc9e23e",
   "metadata": {
    "jp-MarkdownHeadingCollapsed": true,
    "tags": []
   },
   "source": [
    "## These first parameters were optimized in 2-photon recordings\n",
    "\n",
    "Change the parameters <b> s_min </b> if necessary to change the threshold."
   ]
  },
  {
   "cell_type": "code",
   "execution_count": 3,
   "id": "98b9f48e-df98-4487-ab66-636224688177",
   "metadata": {},
   "outputs": [
    {
     "name": "stderr",
     "output_type": "stream",
     "text": [
      "       38785 [params.py:                 set():976] [8344] Changing key fnames in group data from None to ['Z:/Shared/For_Rui/original images of one session/MC Results/12937-06AI2_3DPI_S_MC.tif']\n",
      "       38787 [params.py:                 set():976] [8344] Changing key fr in group data from 30 to 60\n",
      "       38789 [params.py:                 set():976] [8344] Changing key p in group preprocess from 2 to 0\n",
      "       38789 [params.py:                 set():976] [8344] Changing key n_pixels_per_process in group preprocess from None to 200\n",
      "       38791 [params.py:                 set():976] [8344] Changing key K in group init from 30 to 50\n",
      "       38791 [params.py:                 set():976] [8344] Changing key ssub in group init from 2 to 1\n",
      "       38792 [params.py:                 set():976] [8344] Changing key ssub_B in group init from 2 to 1\n",
      "       38794 [params.py:                 set():976] [8344] Changing key tsub in group init from 2 to 1\n",
      "       38794 [params.py:                 set():976] [8344] Changing key nb in group init from 1 to 2\n",
      "       38795 [params.py:                 set():976] [8344] Changing key gSig in group init from [5, 5] to (3, 3)\n",
      "       38795 [params.py:                 set():976] [8344] Changing key gSiz in group init from None to (9, 9)\n",
      "       38796 [params.py:                 set():976] [8344] Changing key min_corr in group init from 0.85 to 0.8\n",
      "       38796 [params.py:                 set():976] [8344] Changing key min_pnr in group init from 20 to 0.7\n",
      "       38797 [params.py:                 set():976] [8344] Changing key nb in group spatial from 1 to 2\n",
      "       38798 [params.py:                 set():976] [8344] Changing key n_pixels_per_process in group spatial from None to 200\n",
      "       38798 [params.py:                 set():976] [8344] Changing key nb in group temporal from 1 to 2\n",
      "       38798 [params.py:                 set():976] [8344] Changing key p in group temporal from 2 to 0\n",
      "       38800 [params.py:                 set():976] [8344] Changing key s_min in group temporal from None to -5\n",
      "       38800 [params.py:                 set():976] [8344] Changing key optimize_g in group temporal from False to True\n",
      "       38801 [params.py:                 set():976] [8344] Changing key min_SNR in group quality from 2.5 to 1\n",
      "       38802 [params.py:                 set():976] [8344] Changing key rval_thr in group quality from 0.8 to 0.9\n",
      "       38803 [params.py:                 set():976] [8344] Changing key init_batch in group online from 200 to 3000\n",
      "       38803 [params.py:                 set():976] [8344] Changing key init_method in group online from bare to cnmf\n",
      "       38804 [params.py:                 set():976] [8344] Changing key expected_comps in group online from 500 to 200\n",
      "       38805 [params.py:                 set():976] [8344] Changing key min_SNR in group online from 2.5 to 1\n",
      "       38805 [params.py:                 set():976] [8344] Changing key rval_thr in group online from 0.8 to 0.9\n",
      "       38805 [params.py:                 set():976] [8344] Changing key dist_shape_update in group online from False to True\n",
      "       38806 [params.py:                 set():976] [8344] Changing key min_num_trial in group online from 5 to 10\n",
      "       38806 [params.py:                 set():976] [8344] Changing key epochs in group online from 1 to 2\n",
      "       38807 [params.py:                 set():976] [8344] Changing key stop_detection in group online from False to True\n",
      "       38808 [params.py:                 set():976] [8344] Changing key motion_correct in group online from True to False\n",
      "       38808 [params.py:                 set():976] [8344] Changing key normalize in group online from False to True\n"
     ]
    }
   ],
   "source": [
    "#INITIALIZATION VARIABLES\n",
    "\n",
    "#Choose which file to run CNMF on\n",
    "analyzeFname = [MCfnames[0]]\n",
    "if isinstance(analyzeFname,str):\n",
    "    analyzeFname = [analyzeFname]\n",
    "\n",
    "####################################################################################################################################################\n",
    "init_batch = 3000                                                   # number of frames to initialize components\n",
    "K = 50                                                               # initial number of components\n",
    "center_psf = False                                                   # wether to use 1 photon (True) or 2 photon (False) analysis\n",
    "ssub = 1                                                            # satial subsampling\n",
    "ssub_B = 1                                                          # downsampling factor for background during corr_pnr\n",
    "tsub = 1                                                            # temporal subsampling\n",
    "nb = 2                                                              # number of background components. Set to 2 if background fluctuates a lot.\n",
    "method_init = 'greedy_roi'                                          # Method for initialize spatial components. Use 'greedy_roi' for 2-photon and 'corr_pnr'for 1 photon\n",
    "init_method = 'cnmf'                                                # initialization method. It can be 'bare', 'cnmf' or 'seeded'\n",
    "ring_size_factor = 1.5                                              # Radius of ring (*gSig) for computing backgroud corr_pnr\n",
    "\n",
    "#SPATIAL COMPONENTS VARIABLES\n",
    "####################################################################################################################################################\n",
    "gSig = (3,3)                                                        # expected half size of neurons\n",
    "gSiz = (9,9)                                                       # half-size of bounding box for each neuron. This value is by default 2*gSig + 1\n",
    "min_corr = 0.8                                                      # minimum correlation value for accepting spatial footprint in corr_pnr method\n",
    "min_pnr = 0.7                                                       # minimum peak to noise ratio value for accepting spatial footprint in corr_pnr method\n",
    "method_exp = 'dilate'                                               # method for expanding footprint of spatial components: 'ellipse' or 'dilate'\n",
    "dist = 3                                                            # expansion factor of ellipse\n",
    "\n",
    "#TEMPORAL COMPONENTS VARIABLES\n",
    "####################################################################################################################################################\n",
    "fr = 60                                                             # frame rate (Hz)\n",
    "decay_time = 0.4                                                    # approximate length of transient event in seconds\n",
    "p = 0                                                               # order of AR indicator dynamics\n",
    "s_min = -5                                                          # Minimum spike threshold amplitude (computed in the code if is set to None but may lead to errors).\n",
    "optimize_g = True\n",
    "\n",
    "#ONLINE PROCESS VARIABLES\n",
    "####################################################################################################################################################\n",
    "expected_comps = 200                                                # maximum number of expected components used for memory pre-allocation (exaggerate here)\n",
    "min_SNR = 1                                                         # minimum SNR for accepting new components\n",
    "rval_thr = 0.90                                                     # correlation threshold for new component inclusion\n",
    "#sniper_mode = True                                                 # flag using a CNN to detect new neurons (o/w space correlation is used)\n",
    "dist_shape_update = True                                            # flag for updating shapes in a distributed way\n",
    "min_num_trial = 10                                                  # number of candidate components per frame     \n",
    "epochs = 2                                                          # number of passes over the data\n",
    "show_movie = False                                                  # show the movie with the results as the data gets processed\n",
    "stop_detection = True                                              # stop detection on the last epoch\n",
    "\n",
    "params_dict = {'fnames': analyzeFname,\n",
    "               'init_batch': init_batch,\n",
    "               'K': K,\n",
    "               'center_psf': center_psf,\n",
    "               'ssub': ssub,\n",
    "               'ssub_B': ssub_B,\n",
    "               'tsub': tsub,\n",
    "               'nb': nb,\n",
    "               'method_init': method_init,\n",
    "               'init_method': init_method,\n",
    "               'ring_size_factor': ring_size_factor,\n",
    "               \n",
    "               'gSig': gSig,\n",
    "               'gSiz': gSiz,\n",
    "               'min_corr': min_corr,\n",
    "               'min_pnr': min_pnr,\n",
    "               'method_exp': method_exp,\n",
    "               'dist': dist,\n",
    "               \n",
    "               'fr': fr,\n",
    "               'decay_time': decay_time,\n",
    "               'p': p,\n",
    "               's_min': s_min,\n",
    "               'optimize_g': optimize_g,\n",
    "               \n",
    "               'expected_comps': expected_comps,\n",
    "               'min_SNR': min_SNR,\n",
    "               'rval_thr': rval_thr,\n",
    "               #'sniper_mode': sniper_mode,\n",
    "               'dist_shape_update': dist_shape_update,\n",
    "               'min_num_trial': min_num_trial,\n",
    "               'epochs': epochs,\n",
    "               'show_movie': show_movie,\n",
    "               'stop_detection': stop_detection,\n",
    "\n",
    "               'motion_correct': False,\n",
    "               'normalize': True,\n",
    "               'n_pixels_per_process':200}\n",
    "opts = cnmf.params.CNMFParams(params_dict=params_dict)"
   ]
  },
  {
   "cell_type": "markdown",
   "id": "3881ba8c-f493-41c4-968a-8a5e3acfb34c",
   "metadata": {
    "tags": []
   },
   "source": [
    "## These second parameters were optimized for 1-photon images"
   ]
  },
  {
   "cell_type": "markdown",
   "id": "9d6c6b2e-f1b0-4272-99de-20cb317575d4",
   "metadata": {
    "jp-MarkdownHeadingCollapsed": true,
    "tags": []
   },
   "source": [
    "### First: Plot correlation and peak to noise ratio images to help chosing the values\n",
    "\n",
    "Set a gSig value, initial batch of images, spatial downsampling and temporal downsampling.\n",
    "All these parameters can then be set again for running CNMF_E, with the optimized ones."
   ]
  },
  {
   "cell_type": "code",
   "execution_count": null,
   "id": "96eef182-7dfc-452e-94ab-6bc6852a6337",
   "metadata": {},
   "outputs": [],
   "source": [
    "#Choose which file to run CNMF_E on\n",
    "analyzeFname = [MCfnames[0]]\n",
    "if isinstance(analyzeFname,str):\n",
    "    analyzeFname = [analyzeFname]\n",
    "    \n",
    "#\n",
    "gSig = (6, 6)          # expected half size of neurons \n",
    "init_batch = 3000      # number of frames to initialize components \n",
    "ssub = 2               # spatial subsampling\n",
    "tsub = 2               # temporal subsampling\n",
    "\n",
    "\n",
    "images = cm.load(analyzeFname, subindices = slice(0,init_batch,tsub))\n",
    "if ssub>1:\n",
    "    images = images.resize(1./ssub, 1./ssub)\n",
    "\n",
    "cn_filter, pnr = cm.summary_images.correlation_pnr(images, gSig=gSig[0], swap_dim=False) # change swap dim if output looks weird, it is a problem with tiffile\n",
    "# inspect the summary images and set the parameters\n",
    "\n",
    "cm.utils.visualization.inspect_correlation_pnr(cn_filter, pnr)\n"
   ]
  },
  {
   "cell_type": "markdown",
   "id": "d1246ec4-d466-4a2e-a9b2-113c131adb27",
   "metadata": {
    "tags": []
   },
   "source": [
    "### Now choose parameters for CNMF_E\n",
    "\n",
    "<b> Don't forget to change here the parameters optimized above. </b>\n",
    "<p> Change the parameters <b> s_min </b> if necessary to change the threshold.</p>\n",
    "<p> Change the parameter <b> ring_size_factor <b/> if necessary to change the background correction. </p>"
   ]
  },
  {
   "cell_type": "code",
   "execution_count": 22,
   "id": "3b11101c-b42f-4e9a-94a3-d3e96545aae3",
   "metadata": {},
   "outputs": [
    {
     "name": "stderr",
     "output_type": "stream",
     "text": [
      "    47257115 [params.py:                 set():976] [8344] Changing key fnames in group data from None to ['Z:/Shared/For_Rui/original images of one session/MC Results/12937-06AI2_3DPI_S_MC.tif']\n",
      "    47257116 [params.py:                 set():976] [8344] Changing key decay_time in group data from 0.4 to 0.1\n",
      "    47257118 [params.py:                 set():976] [8344] Changing key n_pixels_per_process in group preprocess from None to 200\n",
      "    47257118 [params.py:                 set():976] [8344] Changing key K in group init from 30 to None\n",
      "    47257118 [params.py:                 set():976] [8344] Changing key center_psf in group init from False to True\n",
      "    47257119 [params.py:                 set():976] [8344] Changing key nb in group init from 1 to 0\n",
      "    47257119 [params.py:                 set():976] [8344] Changing key method_init in group init from greedy_roi to corr_pnr\n",
      "    47257122 [params.py:                 set():976] [8344] Changing key gSig in group init from [5, 5] to (9, 9)\n",
      "    47257122 [params.py:                 set():976] [8344] Changing key gSiz in group init from None to (23, 23)\n",
      "    47257123 [params.py:                 set():976] [8344] Changing key nb in group spatial from 1 to 0\n",
      "    47257123 [params.py:                 set():976] [8344] Changing key n_pixels_per_process in group spatial from None to 200\n",
      "    47257124 [params.py:                 set():976] [8344] Changing key nb in group temporal from 1 to 0\n",
      "    47257125 [params.py:                 set():976] [8344] Changing key s_min in group temporal from None to -12\n",
      "    47257125 [params.py:                 set():976] [8344] Changing key optimize_g in group temporal from False to True\n",
      "    47257127 [params.py:                 set():976] [8344] Changing key min_SNR in group quality from 2.5 to 3\n",
      "    47257128 [params.py:                 set():976] [8344] Changing key rval_thr in group quality from 0.8 to 0.9\n",
      "    47257128 [params.py:                 set():976] [8344] Changing key init_batch in group online from 200 to 3000\n",
      "    47257129 [params.py:                 set():976] [8344] Changing key init_method in group online from bare to cnmf\n",
      "    47257130 [params.py:                 set():976] [8344] Changing key expected_comps in group online from 500 to 200\n",
      "    47257130 [params.py:                 set():976] [8344] Changing key min_SNR in group online from 2.5 to 3\n",
      "    47257131 [params.py:                 set():976] [8344] Changing key rval_thr in group online from 0.8 to 0.9\n",
      "    47257131 [params.py:                 set():976] [8344] Changing key dist_shape_update in group online from False to True\n",
      "    47257131 [params.py:                 set():976] [8344] Changing key min_num_trial in group online from 5 to 10\n",
      "    47257132 [params.py:                 set():976] [8344] Changing key stop_detection in group online from False to True\n",
      "    47257132 [params.py:                 set():976] [8344] Changing key motion_correct in group online from True to False\n",
      "    47257403 [params.py:   check_consistency():928] [8344] gnb=0, hence setting keys nb_patch and low_rank_background in group patch automatically.\n",
      "    47257404 [params.py:                 set():976] [8344] Changing key nb_patch in group patch from 1 to 0\n",
      "    47257405 [params.py:                 set():976] [8344] Changing key low_rank_background in group patch from True to None\n",
      "    47257406 [params.py:   check_consistency():937] [8344] using CNMF-E's ringmodel for background hence setting key normalize_init in group init automatically to False.\n",
      "    47257407 [params.py:                 set():976] [8344] Changing key normalize_init in group init from True to False\n"
     ]
    }
   ],
   "source": [
    "#INITIALIZATION VARIABLES\n",
    "\n",
    "analyzeFname = [fnames[0]]\n",
    "if isinstance(analyzeFname,str):\n",
    "    analyzeFname = [analyzeFname]\n",
    "    \n",
    "####################################################################################################################################################\n",
    "init_batch = 3000                                                   # number of frames to initialize components\n",
    "K = None                                                            # initial number of components\n",
    "center_psf = True                                                   # wether to use 1 photon (True) or 2 photon (False) analysis\n",
    "ssub = 2                                                            # spatial subsampling\n",
    "ssub_B = 2                                                          # downsampling factor for background during corr_pnr\n",
    "tsub = 2                                                            # temporal subsampling\n",
    "nb = 0                                                              # number of background components. Set to 2 if background fluctuates a lot.\n",
    "method_init = 'corr_pnr'                                            # Method for initialize spatial components. Use 'greedy_roi' for 2-photon and 'corr_pnr'for 1 photon\n",
    "init_method = 'cnmf'                                                # initialization method. It can be 'bare', 'cnmf' or 'seeded'\n",
    "ring_size_factor = 1.5                                                # Radius of ring (*gSig) for computing backgroud corr_pnr\n",
    "\n",
    "#SPATIAL COMPONENTS VARIABLES\n",
    "####################################################################################################################################################\n",
    "gSig = (9,9)                                                        # expected half size of neurons\n",
    "gSiz = (23,23)                                                       # half-size of bounding box for each neuron. This value is by default 2*gSig + 1\n",
    "min_corr = 0.85                                                      # minimum correlation value for accepting spatial footprint in corr_pnr method\n",
    "min_pnr = 20                                                        # minimum peak to noise ratio value for accepting spatial footprint in corr_pnr method\n",
    "method_exp = 'dilate'                                               # method for expanding footprint of spatial components: 'ellipse' or 'dilate'\n",
    "dist = 3                                                            # expansion factor of ellipse\n",
    "\n",
    "#TEMPORAL COMPONENTS VARIABLES\n",
    "####################################################################################################################################################\n",
    "fr = 30                                                             # frame rate (Hz)\n",
    "decay_time = 0.1                                                    # approximate length of transient event in seconds\n",
    "p = 2                                                               # order of AR indicator dynamics\n",
    "s_min = -12                                                          # Minimum spike threshold amplitude (computed in the code if is set to None but may lead to errors).\n",
    "optimize_g = True\n",
    "\n",
    "#ONLINE PROCESS VARIABLES\n",
    "####################################################################################################################################################\n",
    "expected_comps = 200                                                # maximum number of expected components used for memory pre-allocation (exaggerate here)\n",
    "min_SNR = 3                                                         # minimum SNR for accepting new components\n",
    "rval_thr = 0.90                                                     # correlation threshold for new component inclusion\n",
    "#sniper_mode = True                                                 # flag using a CNN to detect new neurons (o/w space correlation is used)\n",
    "dist_shape_update = True                                            # flag for updating shapes in a distributed way\n",
    "min_num_trial = 10                                                  # number of candidate components per frame     \n",
    "epochs = 1                                                          # number of passes over the data\n",
    "show_movie = False                                                  # show the movie with the results as the data gets processed\n",
    "stop_detection = True                                               # stop detection on the last epoch\n",
    "update_freq = 200                                                 # frequency of frames to update spatial shapes\n",
    "\n",
    "params_dict = {'fnames': analyzeFname,\n",
    "               'init_batch': init_batch,\n",
    "               'K': K,\n",
    "               'center_psf': center_psf,\n",
    "               'ssub': ssub,\n",
    "               'ssub_B': ssub_B,\n",
    "               'tsub': tsub,\n",
    "               'nb': nb,\n",
    "               'method_init': method_init,\n",
    "               'init_method': init_method,\n",
    "               'ring_size_factor': ring_size_factor,\n",
    "               \n",
    "               'gSig': gSig,\n",
    "               'gSiz': gSiz,\n",
    "               'min_corr': min_corr,\n",
    "               'min_pnr': min_pnr,\n",
    "               'method_exp': method_exp,\n",
    "               'dist': dist,\n",
    "               \n",
    "               'fr': fr,\n",
    "               'decay_time': decay_time,\n",
    "               'p': p,\n",
    "               's_min': s_min,\n",
    "               'optimize_g': optimize_g,\n",
    "               \n",
    "               'expected_comps': expected_comps,\n",
    "               'min_SNR': min_SNR,\n",
    "               'rval_thr': rval_thr,\n",
    "               #'sniper_mode': sniper_mode,\n",
    "               'dist_shape_update': dist_shape_update,\n",
    "               'min_num_trial': min_num_trial,\n",
    "               'epochs': epochs,\n",
    "               'show_movie': show_movie,\n",
    "               'stop_detection': stop_detection,\n",
    "               'update_freq': update_freq,\n",
    "\n",
    "               'motion_correct': False,\n",
    "               'normalize': False,\n",
    "               'n_pixels_per_process':200}\n",
    "opts = cnmf.params.CNMFParams(params_dict=params_dict)"
   ]
  },
  {
   "cell_type": "markdown",
   "id": "f68e4d04-0416-496b-8679-afc3f7d0fa84",
   "metadata": {
    "tags": []
   },
   "source": [
    "# Initialize spatial components in a subset of the frames\n",
    "\n",
    "Initialize parameters and run the initialization to create and refine spatial components.\n",
    "This code does not use the ring model CNN."
   ]
  },
  {
   "cell_type": "code",
   "execution_count": 23,
   "id": "615752cf-3a00-409b-91aa-8986aa52e5be",
   "metadata": {},
   "outputs": [
    {
     "name": "stderr",
     "output_type": "stream",
     "text": [
      "    47259810 [movies.py:                load():1605] [8344] Your tif file is multiseries. Performance may be affected.\n",
      "    47295512 [online_cnmf.py:   initialize_online():1222] [8344] Frame size:(480, 752)\n",
      "    47312445 [params.py:                 set():976] [8344] Changing key n_processes in group patch from 1 to 15\n",
      "    47312979 [cnmf.py:                 fit():450] [8344] Parallel processing in a single patch is not available for loaded in memory or sliced data.\n",
      "    47329546 [cnmf.py:                 fit():463] [8344] (3000, 480, 752)\n",
      "    47329546 [cnmf.py:                 fit():480] [8344] Using 15 processes\n",
      "    47329547 [cnmf.py:                 fit():491] [8344] using 200 pixels per process\n",
      "    47329548 [cnmf.py:                 fit():492] [8344] using 5000 block_size_spat\n",
      "    47329549 [cnmf.py:                 fit():493] [8344] using 5000 block_size_temp\n",
      "    47329549 [cnmf.py:                 fit():496] [8344] preprocessing ...\n",
      "    47329550 [pre_processing.py:interpolate_missing_data():53] [8344] Checking for missing data entries (NaN)\n",
      "    47344823 [cnmf.py:                 fit():499] [8344] initializing ...\n",
      "    47345376 [initialization.py:initialize_components():328] [8344] Spatial/Temporal downsampling 1-photon\n",
      "    47356960 [initialization.py:initialize_components():344] [8344] Roi Initialization...\n",
      "    47356961 [initialization.py:      greedyROI_corr():1221] [8344] One photon initialization (GreedyCorr)\n",
      "    47366366 [initialization.py:init_neurons_corr_pnr():1840] [8344] 0 neurons have been initialized\n",
      "    47367953 [initialization.py:init_neurons_corr_pnr():1842] [8344] In total, 21 neurons were initialized.\n",
      "    47369694 [initialization.py:      greedyROI_corr():1242] [8344] Computing ring model background\n",
      "    47378794 [initialization.py:      greedyROI_corr():1262] [8344] Updating spatial components\n",
      "    47378797 [spatial.py:update_spatial_components():185] [8344] Computing support of spatial components\n",
      "    47378988 [spatial.py:update_spatial_components():214] [8344] Memory mapping\n",
      "    47378989 [spatial.py:update_spatial_components():220] [8344] Updating Spatial Components using lasso lars\n",
      "    47384000 [spatial.py:update_spatial_components():253] [8344] thresholding components\n",
      "    47384107 [spatial.py:update_spatial_components():276] [8344] Computing residuals\n",
      "    47384107 [spatial.py:update_spatial_components():303] [8344] Updating done in 5s\n",
      "    47384108 [spatial.py:update_spatial_components():307] [8344] Removing created tempfiles\n",
      "    47384118 [initialization.py:      greedyROI_corr():1269] [8344] Updating temporal components\n",
      "    47384119 [temporal.py:update_temporal_components():207] [8344] Generating residuals\n",
      "    47384409 [temporal.py:update_temporal_components():221] [8344] entering the deconvolution \n",
      "    47384547 [temporal.py:    update_iteration():389] [8344] 14 out of total 21 temporal components updated\n",
      "    47384612 [temporal.py:    update_iteration():389] [8344] 20 out of total 21 temporal components updated\n",
      "    47384638 [temporal.py:    update_iteration():389] [8344] 21 out of total 21 temporal components updated\n",
      "    47384762 [temporal.py:    update_iteration():389] [8344] 14 out of total 21 temporal components updated\n",
      "    47384839 [temporal.py:    update_iteration():389] [8344] 20 out of total 21 temporal components updated\n",
      "    47384851 [temporal.py:    update_iteration():389] [8344] 21 out of total 21 temporal components updated\n",
      "    47384853 [initialization.py:      greedyROI_corr():1284] [8344] Searching for more neurons in the residual\n",
      "    47395274 [initialization.py:init_neurons_corr_pnr():1840] [8344] 0 neurons have been initialized\n",
      "    47403420 [initialization.py:init_neurons_corr_pnr():1840] [8344] 100 neurons have been initialized\n",
      "    47407178 [initialization.py:init_neurons_corr_pnr():1842] [8344] In total, 147 neurons were initialized.\n",
      "    47407357 [initialization.py:      greedyROI_corr():1296] [8344] Merging components\n",
      "    47407393 [merging.py:    merge_components():296] [8344] No more components merged!\n",
      "    47407394 [initialization.py:      greedyROI_corr():1302] [8344] Updating spatial components\n",
      "    47407401 [spatial.py:update_spatial_components():185] [8344] Computing support of spatial components\n",
      "    47407995 [spatial.py:update_spatial_components():214] [8344] Memory mapping\n",
      "    47407996 [spatial.py:update_spatial_components():220] [8344] Updating Spatial Components using lasso lars\n",
      "    47436321 [spatial.py:update_spatial_components():253] [8344] thresholding components\n",
      "    47437131 [spatial.py:update_spatial_components():276] [8344] Computing residuals\n",
      "    47437132 [spatial.py:update_spatial_components():303] [8344] Updating done in 29s\n",
      "    47437133 [spatial.py:update_spatial_components():307] [8344] Removing created tempfiles\n",
      "    47437148 [initialization.py:      greedyROI_corr():1310] [8344] Updating temporal components\n",
      "    47437151 [temporal.py:update_temporal_components():207] [8344] Generating residuals\n",
      "    47437472 [temporal.py:update_temporal_components():221] [8344] entering the deconvolution \n",
      "    47437953 [temporal.py:    update_iteration():389] [8344] 63 out of total 168 temporal components updated\n",
      "    47438379 [temporal.py:    update_iteration():389] [8344] 112 out of total 168 temporal components updated\n",
      "    47438629 [temporal.py:    update_iteration():389] [8344] 143 out of total 168 temporal components updated\n",
      "    47438773 [temporal.py:    update_iteration():389] [8344] 164 out of total 168 temporal components updated\n",
      "    47438799 [temporal.py:    update_iteration():389] [8344] 167 out of total 168 temporal components updated\n",
      "    47438809 [temporal.py:    update_iteration():389] [8344] 168 out of total 168 temporal components updated\n",
      "    47439383 [temporal.py:    update_iteration():389] [8344] 63 out of total 168 temporal components updated\n",
      "    47439736 [temporal.py:    update_iteration():389] [8344] 112 out of total 168 temporal components updated\n",
      "    47439975 [temporal.py:    update_iteration():389] [8344] 143 out of total 168 temporal components updated\n",
      "    47440116 [temporal.py:    update_iteration():389] [8344] 164 out of total 168 temporal components updated\n",
      "    47440139 [temporal.py:    update_iteration():389] [8344] 167 out of total 168 temporal components updated\n",
      "    47440152 [temporal.py:    update_iteration():389] [8344] 168 out of total 168 temporal components updated\n",
      "    47440155 [initialization.py:      greedyROI_corr():1317] [8344] Recomputing background\n",
      "    47489894 [initialization.py:      greedyROI_corr():1345] [8344] Merging components\n",
      "    47489930 [merging.py:    merge_components():296] [8344] No more components merged!\n",
      "    47489933 [initialization.py:      greedyROI_corr():1351] [8344] Updating spatial components\n",
      "    47489933 [spatial.py:update_spatial_components():185] [8344] Computing support of spatial components\n",
      "    47492864 [spatial.py:update_spatial_components():214] [8344] Memory mapping\n",
      "    47492865 [spatial.py:update_spatial_components():220] [8344] Updating Spatial Components using lasso lars\n",
      "    47620053 [spatial.py:update_spatial_components():253] [8344] thresholding components\n",
      "    47623108 [spatial.py:update_spatial_components():276] [8344] Computing residuals\n",
      "    47623110 [spatial.py:update_spatial_components():303] [8344] Updating done in 133s\n",
      "    47623112 [spatial.py:update_spatial_components():307] [8344] Removing created tempfiles\n",
      "    47623172 [initialization.py:      greedyROI_corr():1357] [8344] Updating temporal components\n",
      "    47623176 [temporal.py:update_temporal_components():207] [8344] Generating residuals\n",
      "    47632068 [temporal.py:update_temporal_components():221] [8344] entering the deconvolution \n",
      "C:\\Users\\Gebruiker\\mambaforge\\envs\\caimanRui\\lib\\site-packages\\caiman\\source_extraction\\cnmf\\deconvolution.py:900: RuntimeWarning: invalid value encountered in scalar divide\n",
      "  tmp[:l] = max(0, np.exp(log(d) * np.arange(l)).dot(y[:l]) * (1 - d * d)\n",
      "    47632595 [temporal.py:    update_iteration():389] [8344] 56 out of total 168 temporal components updated\n",
      "    47633192 [temporal.py:    update_iteration():389] [8344] 100 out of total 168 temporal components updated\n",
      "    47633564 [temporal.py:    update_iteration():389] [8344] 133 out of total 168 temporal components updated\n",
      "    47633837 [temporal.py:    update_iteration():389] [8344] 156 out of total 168 temporal components updated\n",
      "    47633986 [temporal.py:    update_iteration():389] [8344] 166 out of total 168 temporal components updated\n",
      "    47634033 [temporal.py:    update_iteration():389] [8344] 168 out of total 168 temporal components updated\n",
      "    47634696 [temporal.py:    update_iteration():389] [8344] 56 out of total 168 temporal components updated\n",
      "    47635210 [temporal.py:    update_iteration():389] [8344] 100 out of total 168 temporal components updated\n",
      "    47635645 [temporal.py:    update_iteration():389] [8344] 133 out of total 168 temporal components updated\n",
      "    47635912 [temporal.py:    update_iteration():389] [8344] 156 out of total 168 temporal components updated\n",
      "    47636059 [temporal.py:    update_iteration():389] [8344] 166 out of total 168 temporal components updated\n",
      "    47636110 [temporal.py:    update_iteration():389] [8344] 168 out of total 168 temporal components updated\n",
      "    47636118 [initialization.py:      greedyROI_corr():1387] [8344] Returning background as b0 and W\n",
      "C:\\Users\\Gebruiker\\mambaforge\\envs\\caimanRui\\lib\\site-packages\\scipy\\sparse\\_dia.py:338: RuntimeWarning: divide by zero encountered in remainder\n",
      "  c = np.arange(num_rows, dtype=np.intc) - (offsets % max_dim)[:, None]\n",
      "    47682323 [online_cnmf.py:     _prepare_object():235] [8344] Expecting 200 components\n",
      "    47689011 [utils.py:recursively_save_dict_contents_to_group():524] [8344] W is sparse ****\n",
      "    47689076 [utils.py:recursively_save_dict_contents_to_group():475] [8344] g is an object type\n",
      "    47689080 [utils.py:recursively_save_dict_contents_to_group():485] [8344] Key merged_ROIs is not saved\n",
      "    47689082 [utils.py:recursively_save_dict_contents_to_group():485] [8344] Key coordinates is not saved\n",
      "    47689626 [utils.py:recursively_save_dict_contents_to_group():524] [8344] Ab is sparse ****\n",
      "    47699464 [utils.py:recursively_save_dict_contents_to_group():485] [8344] Key groups is not saved\n",
      "    47699467 [utils.py:recursively_save_dict_contents_to_group():524] [8344] A is sparse ****\n",
      "    47699472 [utils.py:recursively_save_dict_contents_to_group():475] [8344] g is an object type\n",
      "    47699477 [utils.py:recursively_save_dict_contents_to_group():485] [8344] Key merged_ROIs is not saved\n",
      "    47699478 [utils.py:recursively_save_dict_contents_to_group():485] [8344] Key coordinates is not saved\n",
      "    47699488 [utils.py:recursively_save_dict_contents_to_group():485] [8344] Key groups is not saved\n",
      "    47699490 [utils.py:recursively_save_dict_contents_to_group():524] [8344] downscale_matrix is sparse ****\n",
      "    47699495 [utils.py:recursively_save_dict_contents_to_group():524] [8344] upscale_matrix is sparse ****\n",
      "    47701055 [utils.py:recursively_save_dict_contents_to_group():524] [8344] AtW is sparse ****\n",
      "    47701068 [utils.py:recursively_save_dict_contents_to_group():485] [8344] Key ind_A is not saved\n",
      "    47701072 [utils.py:recursively_save_dict_contents_to_group():485] [8344] Key tf_in is not saved\n",
      "    47701073 [utils.py:recursively_save_dict_contents_to_group():485] [8344] Key tf_out is not saved\n",
      "    47701073 [utils.py:recursively_save_dict_contents_to_group():485] [8344] Key loaded_model is not saved\n",
      "    47701075 [utils.py:recursively_save_dict_contents_to_group():539] [8344] Cannot save <class 'method'> type for key 'get_indices_of_pixels_on_ring'.\n"
     ]
    }
   ],
   "source": [
    "cnm = cnmf.online_cnmf.OnACID(params=opts)\n",
    "cnm.initialize_online()\n",
    "\n",
    "cnm.save(os.path.join(os.path.dirname(analyzeFname[0]), \"Initialized neurons.hdf5\"))"
   ]
  },
  {
   "cell_type": "markdown",
   "id": "6964d32e-6ce9-4c11-bf74-1b110925259d",
   "metadata": {
    "tags": []
   },
   "source": [
    "# Verify initial components shapes and traces\n",
    "\n",
    "Check the spatial footprints on top of the spatial correlation, peak to noise and mean images. When clicking on spatial footprints check traces.\n",
    "\n",
    "First create function to click on spatial footprints and check traces."
   ]
  },
  {
   "cell_type": "markdown",
   "id": "f57e5373-d6ef-4b5c-9485-303705d41f14",
   "metadata": {
    "jp-MarkdownHeadingCollapsed": true,
    "tags": []
   },
   "source": [
    "#### If necessary open previously saved shapes"
   ]
  },
  {
   "cell_type": "code",
   "execution_count": 6,
   "id": "68c9bf71-f6a3-41c1-94bc-ab6d917d39f6",
   "metadata": {},
   "outputs": [
    {
     "name": "stderr",
     "output_type": "stream",
     "text": [
      "       82183 [params.py:                 set():976] [8344] Changing key decay_time in group data from 0.4 to 0.1\n",
      "       82184 [params.py:                 set():976] [8344] Changing key dims in group data from None to (480, 752)\n",
      "       82185 [params.py:                 set():976] [8344] Changing key fnames in group data from None to [b'Z:/Shared/For_Rui/original images of one session/MC Results/12937-06AI2_3DPI_S_MC.tif']\n",
      "       82185 [params.py:                 set():976] [8344] Changing key method_init in group init from greedy_roi to corr_pnr\n",
      "       82186 [params.py:                 set():976] [8344] Changing key K in group init from 30 to None\n",
      "       82186 [params.py:                 set():976] [8344] Changing key center_psf in group init from False to True\n",
      "       82187 [params.py:                 set():976] [8344] Changing key gSig in group init from [5, 5] to [6 6]\n",
      "       82189 [params.py:                 set():976] [8344] Changing key gSiz in group init from (11, 11) to [23 23]\n",
      "       82189 [params.py:                 set():976] [8344] Changing key min_corr in group init from 0.85 to 0.8\n",
      "       82190 [params.py:                 set():976] [8344] Changing key nb in group init from 1 to 0\n",
      "       82190 [params.py:                 set():976] [8344] Changing key normalize_init in group init from True to False\n",
      "       82191 [params.py:                 set():976] [8344] Changing key ring_size_factor in group init from 1.5 to 5\n",
      "       82191 [params.py:                 set():976] [8344] Changing key indices in group motion from (slice(None, None, None), slice(None, None, None)) to [b'slice(None, None, None)' b'slice(None, None, None)']\n",
      "       82191 [params.py:                 set():976] [8344] Changing key splits_els in group motion from 14 to 562\n",
      "       82192 [params.py:                 set():976] [8344] Changing key splits_rig in group motion from 14 to 562\n",
      "       82192 [params.py:                 set():976] [8344] Changing key init_method in group online from bare to cnmf\n",
      "       82192 [params.py:                 set():976] [8344] Changing key movie_name_online in group online from online_movie.mp4 to Z:/Shared/For_Rui/original images of one session/MC Results\\online_movie.mp4\n",
      "       82194 [params.py:                 set():976] [8344] Changing key N_samples_exceptionality in group online from 12 to 3\n",
      "       82194 [params.py:                 set():976] [8344] Changing key dist_shape_update in group online from False to True\n",
      "       82195 [params.py:                 set():976] [8344] Changing key expected_comps in group online from 500 to 200\n",
      "       82195 [params.py:                 set():976] [8344] Changing key init_batch in group online from 200 to 3000\n",
      "       82195 [params.py:                 set():976] [8344] Changing key min_SNR in group online from 2.5 to 3\n",
      "       82196 [params.py:                 set():976] [8344] Changing key min_num_trial in group online from 5 to 10\n",
      "       82197 [params.py:                 set():976] [8344] Changing key motion_correct in group online from True to False\n",
      "       82197 [params.py:                 set():976] [8344] Changing key rval_thr in group online from 0.8 to 0.9\n",
      "       82197 [params.py:                 set():976] [8344] Changing key stop_detection in group online from False to True\n",
      "       82198 [params.py:                 set():976] [8344] Changing key thresh_fitness_raw in group online from -60.97977932734429 to -19.82317866453105\n",
      "       82198 [params.py:                 set():976] [8344] Changing key update_freq in group online from 200 to 50000\n",
      "       82198 [params.py:                 set():976] [8344] Changing key low_rank_background in group patch from True to None\n",
      "       82202 [params.py:                 set():976] [8344] Changing key n_processes in group patch from 1 to 15\n",
      "       82203 [params.py:                 set():976] [8344] Changing key nb_patch in group patch from 1 to 0\n",
      "       82204 [params.py:                 set():976] [8344] Changing key n_pixels_per_process in group preprocess from None to 200\n",
      "       82205 [params.py:                 set():976] [8344] Changing key min_SNR in group quality from 2.5 to 3\n",
      "       82206 [params.py:                 set():976] [8344] Changing key rval_thr in group quality from 0.8 to 0.9\n",
      "       82206 [params.py:                 set():976] [8344] Changing key medw in group spatial from None to b'NoneType'\n",
      "       82207 [params.py:                 set():976] [8344] Changing key n_pixels_per_process in group spatial from None to 200\n",
      "       82207 [params.py:                 set():976] [8344] Changing key nb in group spatial from 1 to 0\n",
      "       82209 [params.py:                 set():976] [8344] Changing key se in group spatial from None to [[1]]\n",
      "       82210 [params.py:                 set():976] [8344] Changing key nb in group temporal from 1 to 0\n",
      "       82210 [params.py:                 set():976] [8344] Changing key optimize_g in group temporal from False to True\n",
      "       82211 [params.py:                 set():976] [8344] Changing key s_min in group temporal from None to -12\n",
      "       82211 [params.py:                 set():976] [8344] Changing key solvers in group temporal from ['ECOS', 'SCS'] to [b'ECOS' b'SCS']\n",
      "       83473 [params.py:                 set():976] [8344] Changing key fnames in group data from [b'Z:/Shared/For_Rui/original images of one session/MC Results/12937-06AI2_3DPI_S_MC.tif'] to ['Z:/Shared/For_Rui/original images of one session/MC Results/12937-06AI2_3DPI_S_MC.tif']\n",
      "       83473 [params.py:                 set():976] [8344] Changing key solvers in group temporal from [b'ECOS' b'SCS'] to ['ECOS' 'SCS']\n"
     ]
    }
   ],
   "source": [
    "cnmOpened = cnmf.online_cnmf.load_OnlineCNMF(os.path.join(os.path.dirname(fnames[0]), \"Initialized neurons.hdf5\"))\n",
    "cnmOpened.params.set('data',{'fnames':cnmOpened.params.get('data','fnames').astype('U')})\n",
    "cnmOpened.params.set('temporal',{'solvers':cnmOpened.params.get('temporal','solvers').astype('U')})"
   ]
  },
  {
   "cell_type": "code",
   "execution_count": 7,
   "id": "015987a5-bc50-4fd7-9bfc-197e71630d21",
   "metadata": {},
   "outputs": [],
   "source": [
    "# Function to click on spatial footprints\n",
    "def euclidean(source, target, event, new_data):\n",
    "    \"\"\"maps click events to contour\"\"\"\n",
    "    # calculate coms of line collection\n",
    "    indices = np.array(event.pick_info[\"index\"])\n",
    "    \n",
    "    coms = list()\n",
    "\n",
    "    for contour in target.graphics:\n",
    "        coors = contour.data()[~np.isnan(contour.data()).any(axis=1)]\n",
    "        com = coors.mean(axis=0)\n",
    "        coms.append(com)\n",
    "\n",
    "    # euclidean distance to find closest index of com \n",
    "    indices = np.append(indices, [0])\n",
    "    \n",
    "    ix = int(np.linalg.norm((coms - indices), axis=1).argsort()[0])\n",
    "    \n",
    "    target._set_feature(feature=\"colors\", new_data=new_data, indices=ix)\n",
    "    \n",
    "    return None"
   ]
  },
  {
   "cell_type": "markdown",
   "id": "efde22e3-7350-4e58-badb-fbc72f4ff49c",
   "metadata": {},
   "source": [
    "### Compute analysis of good and bad components\n",
    "\n",
    "Use caiman function of component evaluation to check good and bad components"
   ]
  },
  {
   "cell_type": "code",
   "execution_count": 46,
   "id": "3fe6bbf1-b596-4a0a-bdfb-78991486f0d4",
   "metadata": {},
   "outputs": [
    {
     "name": "stderr",
     "output_type": "stream",
     "text": [
      "  0%|                                                                                            | 0/1 [00:00<?, ?it/s]    66252652 [movies.py:                load():1605] [8344] Your tif file is multiseries. Performance may be affected.\n",
      "  0%|                                                                                            | 0/1 [07:45<?, ?it/s]\n"
     ]
    },
    {
     "ename": "MemoryError",
     "evalue": "Unable to allocate 60.5 GiB for an array with shape (45000, 480, 752) and data type float32",
     "output_type": "error",
     "traceback": [
      "\u001b[1;31m---------------------------------------------------------------------------\u001b[0m",
      "\u001b[1;31mMemoryError\u001b[0m                               Traceback (most recent call last)",
      "Cell \u001b[1;32mIn[46], line 1\u001b[0m\n\u001b[1;32m----> 1\u001b[0m cnm\u001b[38;5;241m.\u001b[39mestimates\u001b[38;5;241m.\u001b[39mevaluate_components(\u001b[43mcm\u001b[49m\u001b[38;5;241;43m.\u001b[39;49m\u001b[43mload\u001b[49m\u001b[43m(\u001b[49m\u001b[43mcnm\u001b[49m\u001b[38;5;241;43m.\u001b[39;49m\u001b[43mparams\u001b[49m\u001b[38;5;241;43m.\u001b[39;49m\u001b[43mget\u001b[49m\u001b[43m(\u001b[49m\u001b[38;5;124;43m'\u001b[39;49m\u001b[38;5;124;43mdata\u001b[39;49m\u001b[38;5;124;43m'\u001b[39;49m\u001b[43m,\u001b[49m\u001b[38;5;124;43m'\u001b[39;49m\u001b[38;5;124;43mfnames\u001b[39;49m\u001b[38;5;124;43m'\u001b[39;49m\u001b[43m)\u001b[49m\u001b[43m[\u001b[49m\u001b[38;5;241;43m0\u001b[39;49m\u001b[43m:\u001b[49m\u001b[43minit_batch\u001b[49m\u001b[43m]\u001b[49m\u001b[43m)\u001b[49m\u001b[38;5;241m.\u001b[39mtranspose(\u001b[38;5;241m1\u001b[39m,\u001b[38;5;241m2\u001b[39m,\u001b[38;5;241m0\u001b[39m), cnm\u001b[38;5;241m.\u001b[39mparams)\n",
      "File \u001b[1;32m~\\mambaforge\\envs\\caimanRui\\lib\\site-packages\\caiman\\base\\movies.py:1538\u001b[0m, in \u001b[0;36mload\u001b[1;34m(file_name, fr, start_time, meta_data, subindices, shape, var_name_hdf5, in_memory, is_behavior, bottom, top, left, right, channel, outtype, is3D)\u001b[0m\n\u001b[0;32m   1535\u001b[0m     \u001b[38;5;28;01mif\u001b[39;00m shape \u001b[38;5;129;01mis\u001b[39;00m \u001b[38;5;129;01mnot\u001b[39;00m \u001b[38;5;28;01mNone\u001b[39;00m:\n\u001b[0;32m   1536\u001b[0m         logging\u001b[38;5;241m.\u001b[39merror(\u001b[38;5;124m'\u001b[39m\u001b[38;5;124mshape parameter not supported for multiple movie input\u001b[39m\u001b[38;5;124m'\u001b[39m)\n\u001b[1;32m-> 1538\u001b[0m     \u001b[38;5;28;01mreturn\u001b[39;00m \u001b[43mload_movie_chain\u001b[49m\u001b[43m(\u001b[49m\u001b[43mfile_name\u001b[49m\u001b[43m,\u001b[49m\n\u001b[0;32m   1539\u001b[0m \u001b[43m                            \u001b[49m\u001b[43mfr\u001b[49m\u001b[38;5;241;43m=\u001b[39;49m\u001b[43mfr\u001b[49m\u001b[43m,\u001b[49m\n\u001b[0;32m   1540\u001b[0m \u001b[43m                            \u001b[49m\u001b[43mstart_time\u001b[49m\u001b[38;5;241;43m=\u001b[39;49m\u001b[43mstart_time\u001b[49m\u001b[43m,\u001b[49m\n\u001b[0;32m   1541\u001b[0m \u001b[43m                            \u001b[49m\u001b[43mmeta_data\u001b[49m\u001b[38;5;241;43m=\u001b[39;49m\u001b[43mmeta_data\u001b[49m\u001b[43m,\u001b[49m\n\u001b[0;32m   1542\u001b[0m \u001b[43m                            \u001b[49m\u001b[43msubindices\u001b[49m\u001b[38;5;241;43m=\u001b[39;49m\u001b[43msubindices\u001b[49m\u001b[43m,\u001b[49m\n\u001b[0;32m   1543\u001b[0m \u001b[43m                            \u001b[49m\u001b[43mbottom\u001b[49m\u001b[38;5;241;43m=\u001b[39;49m\u001b[43mbottom\u001b[49m\u001b[43m,\u001b[49m\n\u001b[0;32m   1544\u001b[0m \u001b[43m                            \u001b[49m\u001b[43mtop\u001b[49m\u001b[38;5;241;43m=\u001b[39;49m\u001b[43mtop\u001b[49m\u001b[43m,\u001b[49m\n\u001b[0;32m   1545\u001b[0m \u001b[43m                            \u001b[49m\u001b[43mleft\u001b[49m\u001b[38;5;241;43m=\u001b[39;49m\u001b[43mleft\u001b[49m\u001b[43m,\u001b[49m\n\u001b[0;32m   1546\u001b[0m \u001b[43m                            \u001b[49m\u001b[43mright\u001b[49m\u001b[38;5;241;43m=\u001b[39;49m\u001b[43mright\u001b[49m\u001b[43m,\u001b[49m\n\u001b[0;32m   1547\u001b[0m \u001b[43m                            \u001b[49m\u001b[43mchannel\u001b[49m\u001b[38;5;241;43m=\u001b[39;49m\u001b[43mchannel\u001b[49m\u001b[43m,\u001b[49m\n\u001b[0;32m   1548\u001b[0m \u001b[43m                            \u001b[49m\u001b[43mouttype\u001b[49m\u001b[38;5;241;43m=\u001b[39;49m\u001b[43mouttype\u001b[49m\u001b[43m,\u001b[49m\n\u001b[0;32m   1549\u001b[0m \u001b[43m                            \u001b[49m\u001b[43mvar_name_hdf5\u001b[49m\u001b[38;5;241;43m=\u001b[39;49m\u001b[43mvar_name_hdf5\u001b[49m\u001b[43m,\u001b[49m\n\u001b[0;32m   1550\u001b[0m \u001b[43m                            \u001b[49m\u001b[43mis3D\u001b[49m\u001b[38;5;241;43m=\u001b[39;49m\u001b[43mis3D\u001b[49m\u001b[43m)\u001b[49m\n\u001b[0;32m   1552\u001b[0m \u001b[38;5;28;01melif\u001b[39;00m \u001b[38;5;28misinstance\u001b[39m(file_name, \u001b[38;5;28mtuple\u001b[39m):\n\u001b[0;32m   1553\u001b[0m     \u001b[38;5;28mprint\u001b[39m(\u001b[38;5;124mf\u001b[39m\u001b[38;5;124m'\u001b[39m\u001b[38;5;124m**** Processing input file \u001b[39m\u001b[38;5;132;01m{\u001b[39;00mfile_name\u001b[38;5;132;01m}\u001b[39;00m\u001b[38;5;124m as individualframes *****\u001b[39m\u001b[38;5;124m'\u001b[39m)\n",
      "File \u001b[1;32m~\\mambaforge\\envs\\caimanRui\\lib\\site-packages\\caiman\\base\\movies.py:1914\u001b[0m, in \u001b[0;36mload_movie_chain\u001b[1;34m(file_list, fr, start_time, meta_data, subindices, var_name_hdf5, bottom, top, left, right, z_top, z_bottom, is3D, channel, outtype)\u001b[0m\n\u001b[0;32m   1912\u001b[0m mov \u001b[38;5;241m=\u001b[39m []\n\u001b[0;32m   1913\u001b[0m \u001b[38;5;28;01mfor\u001b[39;00m f \u001b[38;5;129;01min\u001b[39;00m tqdm(file_list):\n\u001b[1;32m-> 1914\u001b[0m     m \u001b[38;5;241m=\u001b[39m \u001b[43mload\u001b[49m\u001b[43m(\u001b[49m\u001b[43mf\u001b[49m\u001b[43m,\u001b[49m\n\u001b[0;32m   1915\u001b[0m \u001b[43m             \u001b[49m\u001b[43mfr\u001b[49m\u001b[38;5;241;43m=\u001b[39;49m\u001b[43mfr\u001b[49m\u001b[43m,\u001b[49m\n\u001b[0;32m   1916\u001b[0m \u001b[43m             \u001b[49m\u001b[43mstart_time\u001b[49m\u001b[38;5;241;43m=\u001b[39;49m\u001b[43mstart_time\u001b[49m\u001b[43m,\u001b[49m\n\u001b[0;32m   1917\u001b[0m \u001b[43m             \u001b[49m\u001b[43mmeta_data\u001b[49m\u001b[38;5;241;43m=\u001b[39;49m\u001b[43mmeta_data\u001b[49m\u001b[43m,\u001b[49m\n\u001b[0;32m   1918\u001b[0m \u001b[43m             \u001b[49m\u001b[43msubindices\u001b[49m\u001b[38;5;241;43m=\u001b[39;49m\u001b[43msubindices\u001b[49m\u001b[43m,\u001b[49m\n\u001b[0;32m   1919\u001b[0m \u001b[43m             \u001b[49m\u001b[43min_memory\u001b[49m\u001b[38;5;241;43m=\u001b[39;49m\u001b[38;5;28;43;01mTrue\u001b[39;49;00m\u001b[43m,\u001b[49m\n\u001b[0;32m   1920\u001b[0m \u001b[43m             \u001b[49m\u001b[43mouttype\u001b[49m\u001b[38;5;241;43m=\u001b[39;49m\u001b[43mouttype\u001b[49m\u001b[43m,\u001b[49m\n\u001b[0;32m   1921\u001b[0m \u001b[43m             \u001b[49m\u001b[43mvar_name_hdf5\u001b[49m\u001b[38;5;241;43m=\u001b[39;49m\u001b[43mvar_name_hdf5\u001b[49m\u001b[43m)\u001b[49m\n\u001b[0;32m   1922\u001b[0m     \u001b[38;5;28;01mif\u001b[39;00m channel \u001b[38;5;129;01mis\u001b[39;00m \u001b[38;5;129;01mnot\u001b[39;00m \u001b[38;5;28;01mNone\u001b[39;00m:\n\u001b[0;32m   1923\u001b[0m         logging\u001b[38;5;241m.\u001b[39mdebug(m\u001b[38;5;241m.\u001b[39mshape)\n",
      "File \u001b[1;32m~\\mambaforge\\envs\\caimanRui\\lib\\site-packages\\caiman\\base\\movies.py:1631\u001b[0m, in \u001b[0;36mload\u001b[1;34m(file_name, fr, start_time, meta_data, subindices, shape, var_name_hdf5, in_memory, is_behavior, bottom, top, left, right, channel, outtype, is3D)\u001b[0m\n\u001b[0;32m   1628\u001b[0m             \u001b[38;5;28;01mraise\u001b[39;00m \u001b[38;5;167;01mException\u001b[39;00m(\u001b[38;5;124m'\u001b[39m\u001b[38;5;124mIndices should be list (start, stop, step) or slice\u001b[39m\u001b[38;5;124m'\u001b[39m)\n\u001b[0;32m   1629\u001b[0m     \u001b[38;5;28;01melse\u001b[39;00m:\n\u001b[1;32m-> 1631\u001b[0m         input_arr \u001b[38;5;241m=\u001b[39m \u001b[43mload_multiseries_tiff\u001b[49m\u001b[43m(\u001b[49m\u001b[43mfile_name\u001b[49m\u001b[43m)\u001b[49m\n\u001b[0;32m   1632\u001b[0m         \u001b[38;5;66;03m#\u001b[39;00m\n\u001b[0;32m   1635\u001b[0m \u001b[38;5;28;01melif\u001b[39;00m \u001b[38;5;28mlen\u001b[39m(tffl\u001b[38;5;241m.\u001b[39mpages) \u001b[38;5;241m==\u001b[39m \u001b[38;5;241m1\u001b[39m:\n",
      "File \u001b[1;32m~\\mambaforge\\envs\\caimanRui\\lib\\site-packages\\caiman\\base\\movies.py:1462\u001b[0m, in \u001b[0;36mload_multiseries_tiff\u001b[1;34m(file_name, initialFrame, step, finalFrame, outtype)\u001b[0m\n\u001b[0;32m   1459\u001b[0m     logging\u001b[38;5;241m.\u001b[39merror(\u001b[38;5;124m'\u001b[39m\u001b[38;5;124mSpecified file does not exist\u001b[39m\u001b[38;5;124m'\u001b[39m)\n\u001b[0;32m   1460\u001b[0m     \u001b[38;5;28;01mreturn\u001b[39;00m \u001b[38;5;28;01mNone\u001b[39;00m\n\u001b[1;32m-> 1462\u001b[0m outputImage \u001b[38;5;241m=\u001b[39m \u001b[43mnp\u001b[49m\u001b[38;5;241;43m.\u001b[39;49m\u001b[43marray\u001b[49m\u001b[43m(\u001b[49m\u001b[43moutputImage\u001b[49m\u001b[43m)\u001b[49m\u001b[38;5;241;43m.\u001b[39;49m\u001b[43mastype\u001b[49m\u001b[43m(\u001b[49m\u001b[43mouttype\u001b[49m\u001b[43m)\u001b[49m\n\u001b[0;32m   1464\u001b[0m \u001b[38;5;28;01mreturn\u001b[39;00m outputImage\n",
      "\u001b[1;31mMemoryError\u001b[0m: Unable to allocate 60.5 GiB for an array with shape (45000, 480, 752) and data type float32"
     ]
    }
   ],
   "source": [
    "cnm.estimates.evaluate_components(cm.load(cnm.params.get('data','fnames')[0:init_batch]).transpose(1,2,0), cnm.params)"
   ]
  },
  {
   "cell_type": "markdown",
   "id": "d0708fb6-2ad6-4c14-b985-fd0ab7ec782a",
   "metadata": {},
   "source": [
    "### Show spatial footprints and traces\n",
    "\n",
    "Now load initial batch, compute spatial footprints and temporal footprints of each cell and background and check if traces match."
   ]
  },
  {
   "cell_type": "code",
   "execution_count": 44,
   "id": "d1a3e9ab-a392-41d0-b8f3-c34469007642",
   "metadata": {},
   "outputs": [],
   "source": [
    "# Get the analyzed movie\n",
    "movie = mescore.movie_readers.default_reader(analyzeFname[0])[0:init_batch]\n",
    "reconstructed_movie = mescore.caiman_extensions.cnmf.LazyArrayRCM(cnm.estimates.A,cnm.estimates.C, cnm.estimates.dims)\n",
    "\n",
    "# Get the spatial components and temporal components\n",
    "contours = cm.utils.visualization.get_contours(cnm.estimates.A,cnm.params.get('data','dims'))\n",
    "coordinates = list()\n",
    "centers = list()\n",
    "for contour in contours:\n",
    "        coors = contour[\"coordinates\"]\n",
    "        coors = coors[~np.isnan(coors).any(axis=1)]\n",
    "        coordinates.append(coors)\n",
    "\n",
    "        center = coors.mean(axis=0)\n",
    "        centers.append(center)\n",
    "\n",
    "temporal = cnm.estimates.C                                     # Temporal components\n",
    "background = cnm.estimates.YrA                                 # Background components"
   ]
  },
  {
   "cell_type": "code",
   "execution_count": 37,
   "id": "6170c77c-632e-4e3a-878b-0978c9776f2c",
   "metadata": {},
   "outputs": [
    {
     "data": {
      "application/vnd.jupyter.widget-view+json": {
       "model_id": "f17856fcf5814e9683e40a1dcdced4bd",
       "version_major": 2,
       "version_minor": 0
      },
      "text/plain": [
       "RFBOutputContext()"
      ]
     },
     "metadata": {},
     "output_type": "display_data"
    },
    {
     "data": {
      "application/vnd.jupyter.widget-view+json": {
       "model_id": "17eae42fb593400e9f8a9e669814ceca",
       "version_major": 2,
       "version_minor": 0
      },
      "text/plain": [
       "RFBOutputContext()"
      ]
     },
     "metadata": {},
     "output_type": "display_data"
    },
    {
     "data": {
      "application/vnd.jupyter.widget-view+json": {
       "model_id": "70a87b140e0241b494761bcf0b05f420",
       "version_major": 2,
       "version_minor": 0
      },
      "text/plain": [
       "RFBOutputContext()"
      ]
     },
     "metadata": {},
     "output_type": "display_data"
    },
    {
     "data": {
      "application/vnd.jupyter.widget-view+json": {
       "model_id": "cc979c4dc1514bb58fa86cda1ad47834",
       "version_major": 2,
       "version_minor": 0
      },
      "text/plain": [
       "VBox(children=(JupyterWgpuCanvas(), JupyterWgpuCanvas(), IntSlider(value=0, max=2999)))"
      ]
     },
     "metadata": {},
     "output_type": "display_data"
    }
   ],
   "source": [
    "# for the image data and contours\n",
    "#iw_initialization = ImageWidget(reconstructed_movie, vmin_vmax_sliders=False, cmap=\"gray\")\n",
    "\n",
    "initialization_grid = GridPlot(\n",
    "    #shape=(1, 3), \n",
    "    #controllers=[[0, 0, 0]], \n",
    "    #names=[[\"Movie\", \"Reconstructed movie\", \"Residuals\"]]\n",
    "    shape = (1,2),\n",
    "    controllers=[[0, 0]],\n",
    "    names=[[\"Reconstructed movie\", \"Residuals\"]]\n",
    ")\n",
    "\n",
    "b0 = np.array(cnm.estimates.b0.reshape(cnm.estimates.dims, order='F'))\n",
    "\n",
    "#movie_graphic = initialization_grid[\"Movie\"].add_image(movie[0], cmap=\"gray\")\n",
    "reconstructed_graph = initialization_grid[\"Reconstructed movie\"].add_image(reconstructed_movie[0], cmap=\"gnuplot2\")\n",
    "residual_graph = initialization_grid[\"Residuals\"].add_image(movie[0]-reconstructed_movie[0]-b0, cmap=\"gnuplot2\")\n",
    "\n",
    "# add good contours to the plot within the widget\n",
    "contours_graphic = initialization_grid[\"Reconstructed movie\"].add_line_collection(coordinates, colors=\"red\", name=\"contours\")\n",
    "#contours_graphic = initialization_grid[\"Reconstructed movie\"].add_line_collection(coordinates, colors=\"cyan\", name=\"contours\")\n",
    "\n",
    "# temporal plot\n",
    "plot_temporal = Plot()\n",
    "background_graphic = plot_temporal.add_line_collection(background+temporal, colors=\"red\", name=\"background\")\n",
    "temporal_graphic = plot_temporal.add_line_collection(temporal, colors=\"gray\", name=\"temporal\")\n",
    "#SpikeTrace = initialization_grid[\"Spikes\"].add_line_collection(temporal, colors=\"cyan\", name=\"temporal\")\n",
    "\n",
    "# a vertical line that is syncronized to the image widget \"t\" (timepoint) slider\n",
    "#_ls = LineSlider(x_pos=0, bounds=(temporal.min(), temporal.max()), slider=iw_initialization.sliders[\"t\"])\n",
    "#plot_temporal.add_graphic(_ls)\n",
    "\n",
    "\n",
    "# since this is a GridPlot and not an ImageWidget we need to define sliders\n",
    "slider = IntSlider(min=0, max=movie.shape[0] - 1, value=0, step=1)\n",
    "\n",
    "# vertical line sliders\n",
    "_ls = LineSlider(x_pos=0, bounds=(temporal.min(), temporal.max()), slider=slider)\n",
    "#_ls2 = LineSlider(x_pos=0, bounds=(temporal.min(), temporal.max() + temporal_stack.items[-1].position.y), slider=slider)\n",
    "plot_temporal.add_graphic(_ls)\n",
    "#initialization_grid[\"Spikes\"].add_graphic(_ls)\n",
    "\n",
    "plot_static = Plot()\n",
    "static_background_graphic = plot_static.add_line_collection(background, colors=\"yellow\", name=\"background\")\n",
    "static_temporal_graphic = plot_static.add_line_collection(temporal, colors=\"cyan\", name=\"temporal\")\n",
    "\n",
    "# function to update each frame\n",
    "def update_frame(change):\n",
    "    ix = change[\"new\"]\n",
    "    #movie_graphic.data = movie[ix]\n",
    "    reconstructed_graph.data = reconstructed_movie[ix]\n",
    "    residual_graph.data = movie[ix]-reconstructed_movie[ix]-b0\n",
    "    \n",
    "slider.observe(update_frame, \"value\")\n",
    "\n",
    "@plot_temporal.renderer.add_event_handler(\"resize\")\n",
    "def update_slider_width(*args):\n",
    "    width, h = plot_temporal.renderer.logical_size\n",
    "    slider.layout = Layout(width=f\"{width}px\")\n",
    "    \n",
    "    \n",
    "# stack them\n",
    "#VBox([plot_static.show(),plot_temporal.show(), initialization_grid.show(), slider])\n",
    "VBox([plot_temporal.show(), initialization_grid.show(), slider])"
   ]
  },
  {
   "cell_type": "code",
   "execution_count": null,
   "id": "9b16ec74-96b4-4ccb-918a-01d53fe273b6",
   "metadata": {},
   "outputs": [],
   "source": [
    "#Auto scale\n",
    "plot_temporal.auto_scale()\n",
    "plot_temporal.camera.scale.x = 0.85"
   ]
  },
  {
   "cell_type": "code",
   "execution_count": 18,
   "id": "5212c40f-1c5c-4eec-b6df-478858e7152b",
   "metadata": {},
   "outputs": [
    {
     "name": "stderr",
     "output_type": "stream",
     "text": [
      "C:\\Users\\Gebruiker\\mambaforge\\envs\\caimanRui\\lib\\site-packages\\fastplotlib\\graphics\\features\\_base.py:87: UserWarning: Event handler <bound method Interaction.event_handler of 'contours': LineCollection @ 0x1817fe09960\n",
      "Collection of <51> Graphics> is already registered.\n",
      "  warn(f\"Event handler {handler} is already registered.\")\n"
     ]
    }
   ],
   "source": [
    "# To view one by one, first hide all traces\n",
    "temporal_graphic[:].present = False\n",
    "background_graphic[:].present = False\n",
    "\n",
    "#image_graphic = initialization_grid['Movie'].plot[\"image\"]\n",
    "#image_graphic = initialization_grid['Movie']\n",
    "\n",
    "# link image to contours\n",
    "reconstructed_graph.link(\n",
    "    \"click\",\n",
    "    target=contours_graphic,\n",
    "    feature=\"colors\", \n",
    "    new_data=\"w\", \n",
    "    callback=euclidean\n",
    ")\n",
    "\n",
    "# link contour color changes (which are triggered by the click events as defined above) to everything else\n",
    "\n",
    "# thickness of contour\n",
    "contours_graphic.link(\"colors\", target=contours_graphic, feature=\"thickness\", new_data=5)\n",
    "\n",
    "# toggle temporal component when contour changes color\n",
    "contours_graphic.link(\"colors\", target=temporal_graphic, feature=\"present\", new_data=True)\n",
    "contours_graphic.link(\"colors\", target=background_graphic, feature=\"present\", new_data=True)\n",
    "# autoscale temporal plot to the current temporal component\n",
    "temporal_graphic[:].present.add_event_handler(plot_temporal.auto_scale)\n",
    "background_graphic[:].present.add_event_handler(plot_temporal.auto_scale)"
   ]
  },
  {
   "cell_type": "markdown",
   "id": "d82dc5fb-5ed8-48a5-8159-79dc7f2d661e",
   "metadata": {},
   "source": [
    "## Close Canvas to not make computer slow"
   ]
  },
  {
   "cell_type": "code",
   "execution_count": 29,
   "id": "3519c740-d4da-4e75-8729-abb6bd70c67c",
   "metadata": {},
   "outputs": [],
   "source": [
    "plot_temporal.canvas.close()\n",
    "plot_static.canvas.close()\n",
    "initialization_grid.canvas.close()\n",
    "slider.close()"
   ]
  },
  {
   "cell_type": "markdown",
   "id": "2ba641dc-6686-402c-9f66-1e1eab1b4f62",
   "metadata": {
    "jp-MarkdownHeadingCollapsed": true,
    "tags": []
   },
   "source": [
    "# When the initialization is as expected, run remaining frames"
   ]
  },
  {
   "cell_type": "code",
   "execution_count": null,
   "id": "c77704c5-148c-4f68-94a3-3170e7dfaf8c",
   "metadata": {},
   "outputs": [],
   "source": [
    "cnm.deconvolve_pre_initialized()"
   ]
  },
  {
   "cell_type": "markdown",
   "id": "d6ae0aba-6e6e-4a41-af76-c8226e5fc458",
   "metadata": {},
   "source": [
    "# Run Online calcium analysis"
   ]
  },
  {
   "cell_type": "code",
   "execution_count": null,
   "id": "0c00edc6-590a-4fec-87ba-016325bffd14",
   "metadata": {},
   "outputs": [],
   "source": [
    "cnm = cnmf.online_cnmf.OnACID(params=opts)\n",
    "cnm.fit_online()\n",
    "\n",
    "cnm.save(os.path.join(os.path.dirname(analyzeFname[0]), \"Final neurons.hdf5\"))"
   ]
  },
  {
   "cell_type": "markdown",
   "id": "9effd0bf-0891-49fc-97b6-238138eb2073",
   "metadata": {},
   "source": [
    "# Optionally save results and do some plotting"
   ]
  },
  {
   "cell_type": "code",
   "execution_count": 26,
   "id": "884dd1bb-ae6e-4c93-9632-5ad932c86d3a",
   "metadata": {},
   "outputs": [
    {
     "name": "stderr",
     "output_type": "stream",
     "text": [
      "    48152620 [2247812530.py:            <module>():1] [8344] Number of components: 168\n"
     ]
    },
    {
     "data": {
      "text/plain": [
       "<caiman.source_extraction.cnmf.estimates.Estimates at 0x1813ba6ecb0>"
      ]
     },
     "execution_count": 26,
     "metadata": {},
     "output_type": "execute_result"
    }
   ],
   "source": [
    "logging.info('Number of components: ' + str(cnm.estimates.A.shape[-1]))\n",
    "#Cn = cm.load(fnames[0], subindices=slice(0,500)).local_correlations(swap_dim=False)\n",
    "#cnm.estimates.plot_contours(img=Cn)\n",
    "cnm.estimates.nb_view_components(img=None, denoised_color='red')"
   ]
  },
  {
   "cell_type": "code",
   "execution_count": null,
   "id": "b70e6df5-da35-4fe9-a3b3-53aaaf3c2598",
   "metadata": {},
   "outputs": [],
   "source": [
    "# we can get the contours of the spatial components\n",
    "contours, coms = cnm.get_contours(\"all\", swap_dim=False)\n",
    "\n",
    "# and temporal components\n",
    "temporal = cnm.get_temporal(\"all\")\n",
    "\n",
    "ixs_good = cnm.get_good_components()\n",
    "ixs_bad = cnm.get_bad_components()"
   ]
  }
 ],
 "metadata": {
  "kernelspec": {
   "display_name": "Python 3 (ipykernel)",
   "language": "python",
   "name": "python3"
  },
  "language_info": {
   "codemirror_mode": {
    "name": "ipython",
    "version": 3
   },
   "file_extension": ".py",
   "mimetype": "text/x-python",
   "name": "python",
   "nbconvert_exporter": "python",
   "pygments_lexer": "ipython3",
   "version": "3.10.8"
  }
 },
 "nbformat": 4,
 "nbformat_minor": 5
}
